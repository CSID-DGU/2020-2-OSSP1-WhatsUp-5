{
  "nbformat": 4,
  "nbformat_minor": 0,
  "metadata": {
    "colab": {
      "name": "generateNews.ipynb",
      "private_outputs": true,
      "provenance": [],
      "collapsed_sections": [],
      "include_colab_link": true
    },
    "kernelspec": {
      "name": "python3",
      "display_name": "Python 3"
    },
    "accelerator": "GPU"
  },
  "cells": [
    {
      "cell_type": "markdown",
      "metadata": {
        "id": "view-in-github",
        "colab_type": "text"
      },
      "source": [
        "<a href=\"https://colab.research.google.com/github/CSID-DGU/2020-2-OSSP1-WhatsUp-5/blob/master/model/generateNews.ipynb\" target=\"_parent\"><img src=\"https://colab.research.google.com/assets/colab-badge.svg\" alt=\"Open In Colab\"/></a>"
      ]
    },
    {
      "cell_type": "code",
      "metadata": {
        "id": "Vk3KHH9603St"
      },
      "source": [
        "from google.colab import drive\n",
        "drive.mount('/content/drive')"
      ],
      "execution_count": null,
      "outputs": []
    },
    {
      "cell_type": "code",
      "metadata": {
        "id": "EKRJhg2JSkBH"
      },
      "source": [
        " cd /content/drive/Shareddrives/와썹_공개SW/GPT2_MNews/"
      ],
      "execution_count": null,
      "outputs": []
    },
    {
      "cell_type": "code",
      "metadata": {
        "id": "nOXgUZV8TA6w"
      },
      "source": [
        "!pip install -r requirements.txt"
      ],
      "execution_count": null,
      "outputs": []
    },
    {
      "cell_type": "code",
      "metadata": {
        "id": "1A8Mz94jTCga"
      },
      "source": [
        "import os\n",
        "\n",
        "import numpy as np\n",
        "import tensorflow as tf\n",
        "\n",
        "import gluonnlp as nlp\n",
        "from gluonnlp.data import SentencepieceTokenizer\n",
        "from transformers import TFGPT2LMHeadModel\n",
        "\n",
        "from tensorflow.keras.preprocessing.sequence import pad_sequences\n",
        "\n",
        "from nltk.tokenize import sent_tokenize"
      ],
      "execution_count": null,
      "outputs": []
    },
    {
      "cell_type": "code",
      "metadata": {
        "id": "QDBGvKX3UKxb"
      },
      "source": [
        "class GPT2Model(tf.keras.Model):\n",
        "    def __init__(self, dir_path):\n",
        "        super(GPT2Model, self).__init__()\n",
        "        self.gpt2 = TFGPT2LMHeadModel.from_pretrained(dir_path)\n",
        "        \n",
        "    def call(self, inputs):\n",
        "        return self.gpt2(inputs)[0]"
      ],
      "execution_count": null,
      "outputs": []
    },
    {
      "cell_type": "code",
      "metadata": {
        "id": "1xWXq7x1U0Zc"
      },
      "source": [
        "TOKENIZER_PATH = './gpt_ckpt/gpt2_kor_tokenizer.spiece'\n",
        "tokenizer = SentencepieceTokenizer(TOKENIZER_PATH, num_best=0, alpha=0)\n",
        "vocab = nlp.vocab.BERTVocab.from_sentencepiece(TOKENIZER_PATH,\n",
        "                                               mask_token=None,\n",
        "                                               sep_token=None,\n",
        "                                               cls_token=None,\n",
        "                                               unknown_token='<unk>',\n",
        "                                               padding_token='<pad>',\n",
        "                                               bos_token='<s>',\n",
        "                                               eos_token='</s>')"
      ],
      "execution_count": null,
      "outputs": []
    },
    {
      "cell_type": "markdown",
      "metadata": {
        "id": "0UPF_g-jzpax"
      },
      "source": [
        "## 텍스트 생성-코드"
      ]
    },
    {
      "cell_type": "code",
      "metadata": {
        "id": "kYn1kze9SvH9"
      },
      "source": [
        "def tf_top_k_top_p_filtering(logits, top_k=0, top_p=0.0, filter_value=-99999):\n",
        "    _logits = logits.numpy()\n",
        "    top_k = min(top_k, logits.shape[-1])  \n",
        "    if top_k > 0:\n",
        "        indices_to_remove = logits < tf.math.top_k(logits, top_k)[0][..., -1, None]\n",
        "        _logits[indices_to_remove] = filter_value\n",
        "\n",
        "    if top_p > 0.0:\n",
        "        sorted_logits = tf.sort(logits, direction='DESCENDING')\n",
        "        sorted_indices = tf.argsort(logits, direction='DESCENDING')\n",
        "        cumulative_probs = tf.math.cumsum(tf.nn.softmax(sorted_logits, axis=-1), axis=-1)\n",
        "\n",
        "        sorted_indices_to_remove = cumulative_probs > top_p\n",
        "        sorted_indices_to_remove = tf.concat([[False], sorted_indices_to_remove[..., :-1]], axis=0)\n",
        "        indices_to_remove = sorted_indices[sorted_indices_to_remove].numpy().tolist()\n",
        "        \n",
        "        _logits[indices_to_remove] = filter_value\n",
        "    return tf.constant([_logits])"
      ],
      "execution_count": null,
      "outputs": []
    },
    {
      "cell_type": "code",
      "metadata": {
        "id": "Jc5UpJsiTRZB"
      },
      "source": [
        "from tqdm import tqdm\n",
        "def generate_sent(seed_word, model, max_step=400, greedy=False, top_k=0, top_p=0.):\n",
        "    sent = seed_word\n",
        "    toked = tokenizer(sent)\n",
        "    for _ in tqdm(range(max_step)):\n",
        "        input_ids = tf.constant([vocab[vocab.bos_token],]  + vocab[toked])[None, :] \n",
        "        outputs = model(input_ids)[:, -1, :]\n",
        "        if greedy:\n",
        "            gen = vocab.to_tokens(tf.argmax(outputs, axis=-1).numpy().tolist()[0])\n",
        "        else:\n",
        "            output_logit = tf_top_k_top_p_filtering(outputs[0], top_k=top_k, top_p=top_p)\n",
        "            gen = vocab.to_tokens(tf.random.categorical(output_logit, 1).numpy().tolist()[0])[0]\n",
        "        if gen == '</s>':\n",
        "            break\n",
        "        #print(\"생성된 토큰 : \"+gen)\n",
        "        sent += gen.replace('▁', ' ')\n",
        "        toked = tokenizer(sent)\n",
        "    return sent"
      ],
      "execution_count": null,
      "outputs": []
    },
    {
      "cell_type": "markdown",
      "metadata": {
        "id": "XQZHS0RRTGiQ"
      },
      "source": [
        "## 텍스트 생성-주석"
      ]
    },
    {
      "cell_type": "markdown",
      "metadata": {
        "id": "5hxleiYAzeZe"
      },
      "source": [
        "\n",
        "\n",
        "```\n",
        "# generate_sent(seed_word, model, max_step=100, greedy=False, top_k=0, top_p=0.):\n",
        "```\n",
        "-see_word: 문장 생성의 시작 단어\n",
        "\n",
        "-model: 문장 생성을 수행할 모델\n",
        "\n",
        "-max_step: 생성 횟수를 제한\n",
        "\n",
        "-greedy: 모델 출력 결과에 대해 유연하게 문장 생성을 해줄 수 있는지 선택할 수 있도록\n",
        "\n",
        "*   greedy=true: 문장 출력 결과에 대해 가장 확률이 높은 단어만 선택\n",
        "*   greedy=false: 출력한 단어 가운데 확률 또는 순위가 높은 단어만 선택해 무작위 생성\n",
        "\n",
        "+) top_k와 top_p 파라미터:  false인 경우 사용. top_k는 확률이 높은 순서대로 k번째까지 필터링. top_p는 일정 확률값 이상인 단어에 대해 필터링\n",
        "\n",
        "\n",
        "\n",
        "```\n",
        "#  sent = seed_word\n",
        "   toked = tokenizer(sent)\n",
        "```\n",
        "\n",
        "문장 시작 단어를 변수에 할당하고 토크나이즈\n",
        "\n",
        "\n",
        "```\n",
        "# for _ in range(max_step):\n",
        "        input_ids = tf.constant([vocab[vocab.bos_token],]  + vocab[toked])[None, :] \n",
        "        outputs = model(input_ids)[:, -1, :]\n",
        "```\n",
        "문장 생성을 할 수 있는 반복문. 토크나이즈된 단어를 인덱스로 변환하고 모델에 입력값으로 넣어 출력값을 받음. 모델의 출력값에 대해서는 문장에서 마지막 단어만 선택\n",
        "\n",
        "```\n",
        "# if gen == '</s>':\n",
        "            break\n",
        "        sent += gen.replace('▁', ' ')\n",
        "        toked = tokenizer(sent)\n",
        "```\n",
        "생성된 텍스트 토큰이 문장의 끝을 알리는 </s</s>>토큰이면 생성 stop하고 앞서 만들어진 텍스트에 덧붙임\n",
        "\n",
        "\n",
        "\n",
        "\n"
      ]
    },
    {
      "cell_type": "markdown",
      "metadata": {
        "id": "fEVPXrTKTDBu"
      },
      "source": [
        "## 로스 0.35 제목 생성"
      ]
    },
    {
      "cell_type": "code",
      "metadata": {
        "id": "maBeNLrdUOlW"
      },
      "source": [
        "BASE_MODEL_PATH = './mnews_title/final_loss0.6_acc0.5'\n",
        "gpt_model = GPT2Model(BASE_MODEL_PATH)"
      ],
      "execution_count": null,
      "outputs": []
    },
    {
      "cell_type": "code",
      "metadata": {
        "id": "8mNCMbKF6eQL"
      },
      "source": [
        "generate_sent('코로나19', gpt_model,max_step=20,top_k=0, top_p=0.90)"
      ],
      "execution_count": null,
      "outputs": []
    },
    {
      "cell_type": "code",
      "metadata": {
        "id": "cmhP2zxq2G7j"
      },
      "source": [
        "generate_sent('뇌졸중', gpt_model,max_step=20,top_k=40, top_p=0.90)"
      ],
      "execution_count": null,
      "outputs": []
    },
    {
      "cell_type": "code",
      "metadata": {
        "id": "RbtIB1wW3jcW"
      },
      "source": [
        "generate_sent('치매', gpt_model,top_k=40, top_p=0.90)"
      ],
      "execution_count": null,
      "outputs": []
    },
    {
      "cell_type": "code",
      "metadata": {
        "id": "NOvEgWBl2zGG"
      },
      "source": [
        "generate_sent('치매', gpt_model,top_k=40, top_p=0.95)"
      ],
      "execution_count": null,
      "outputs": []
    },
    {
      "cell_type": "code",
      "metadata": {
        "id": "ccxYdCRv3lNl"
      },
      "source": [
        "generate_sent('우울증', gpt_model,top_k=40, top_p=0.90)"
      ],
      "execution_count": null,
      "outputs": []
    },
    {
      "cell_type": "code",
      "metadata": {
        "id": "1OpRLttT39Y2"
      },
      "source": [
        "generate_sent('우울증', gpt_model,top_k=40, top_p=0.95)"
      ],
      "execution_count": null,
      "outputs": []
    },
    {
      "cell_type": "code",
      "metadata": {
        "id": "MK4cuJHr3n_f"
      },
      "source": [
        "generate_sent('고혈압', gpt_model,top_k=40, top_p=0.90)"
      ],
      "execution_count": null,
      "outputs": []
    },
    {
      "cell_type": "code",
      "metadata": {
        "id": "YI9ldEmu3p7P"
      },
      "source": [
        "generate_sent('고혈압', gpt_model,top_k=40, top_p=0.95)"
      ],
      "execution_count": null,
      "outputs": []
    },
    {
      "cell_type": "markdown",
      "metadata": {
        "id": "103Q80fu7Rv8"
      },
      "source": [
        "## 로스 1208 제목 생성"
      ]
    },
    {
      "cell_type": "code",
      "metadata": {
        "id": "xjn_ipgR7RwF"
      },
      "source": [
        "BASE_MODEL_PATH = './mnews_title/maxlen20_loss0.36_acc0.56'\n",
        "gpt_model = GPT2Model(BASE_MODEL_PATH)"
      ],
      "execution_count": null,
      "outputs": []
    },
    {
      "cell_type": "code",
      "metadata": {
        "id": "ixy3BexS7RwG"
      },
      "source": [
        "generate_sent('코로나19', gpt_model,top_k=0, top_p=0.90)"
      ],
      "execution_count": null,
      "outputs": []
    },
    {
      "cell_type": "code",
      "metadata": {
        "id": "BfRpzjxf7RwG"
      },
      "source": [
        "generate_sent('코로나19', gpt_model,top_k=40, top_p=0.90)"
      ],
      "execution_count": null,
      "outputs": []
    },
    {
      "cell_type": "code",
      "metadata": {
        "id": "9iVgDVfp7RwG"
      },
      "source": [
        "generate_sent('코로나19', gpt_model,top_k=40, top_p=0.95)"
      ],
      "execution_count": null,
      "outputs": []
    },
    {
      "cell_type": "code",
      "metadata": {
        "id": "oksxONs97RwG"
      },
      "source": [
        "generate_sent('뇌졸중', gpt_model,top_k=40, top_p=0.90)"
      ],
      "execution_count": null,
      "outputs": []
    },
    {
      "cell_type": "code",
      "metadata": {
        "id": "-JOfr1xZ7RwH"
      },
      "source": [
        "generate_sent('뇌졸중', gpt_model,top_k=40, top_p=0.95)"
      ],
      "execution_count": null,
      "outputs": []
    },
    {
      "cell_type": "code",
      "metadata": {
        "id": "95V3vVYM7RwH"
      },
      "source": [
        "generate_sent('치매', gpt_model,top_k=40, top_p=0.90)"
      ],
      "execution_count": null,
      "outputs": []
    },
    {
      "cell_type": "code",
      "metadata": {
        "id": "Ura_6E7l7RwH"
      },
      "source": [
        "generate_sent('치매', gpt_model,top_k=40, top_p=0.95)"
      ],
      "execution_count": null,
      "outputs": []
    },
    {
      "cell_type": "code",
      "metadata": {
        "id": "dTMblemV7RwH"
      },
      "source": [
        "generate_sent('우울증', gpt_model,top_k=40, top_p=0.90)"
      ],
      "execution_count": null,
      "outputs": []
    },
    {
      "cell_type": "code",
      "metadata": {
        "id": "PsxI16WD7RwI"
      },
      "source": [
        "generate_sent('우울증', gpt_model,top_k=40, top_p=0.95)"
      ],
      "execution_count": null,
      "outputs": []
    },
    {
      "cell_type": "markdown",
      "metadata": {
        "id": "7cCuuPb4yNQn"
      },
      "source": [
        ""
      ]
    },
    {
      "cell_type": "code",
      "metadata": {
        "id": "Ii7QUnWo7RwI"
      },
      "source": [
        "generate_sent('고혈압', gpt_model,top_k=40, top_p=0.90)"
      ],
      "execution_count": null,
      "outputs": []
    },
    {
      "cell_type": "code",
      "metadata": {
        "id": "UHkWpcfJ7RwI"
      },
      "source": [
        "generate_sent('고혈압', gpt_model,top_k=40, top_p=0.95)"
      ],
      "execution_count": null,
      "outputs": []
    },
    {
      "cell_type": "markdown",
      "metadata": {
        "id": "RDtepJCg96HD"
      },
      "source": [
        "## 로스 1207 제목 생성"
      ]
    },
    {
      "cell_type": "code",
      "metadata": {
        "id": "E6QqI2gz96HQ"
      },
      "source": [
        "BASE_MODEL_PATH = './mnews_title/test_maxlen10_loss1.0_acc3.4'\n",
        "gpt_model = GPT2Model(BASE_MODEL_PATH)"
      ],
      "execution_count": null,
      "outputs": []
    },
    {
      "cell_type": "code",
      "metadata": {
        "id": "qC5xtjN296HQ"
      },
      "source": [
        "generate_sent('코로나19', gpt_model,top_k=0, top_p=0.90)"
      ],
      "execution_count": null,
      "outputs": []
    },
    {
      "cell_type": "code",
      "metadata": {
        "id": "le7TWr1K96HR"
      },
      "source": [
        "generate_sent('코로나19', gpt_model,top_k=40, top_p=0.90)"
      ],
      "execution_count": null,
      "outputs": []
    },
    {
      "cell_type": "code",
      "metadata": {
        "id": "L4Oua0mH96HR"
      },
      "source": [
        "generate_sent('코로나19', gpt_model,top_k=40, top_p=0.95)"
      ],
      "execution_count": null,
      "outputs": []
    },
    {
      "cell_type": "code",
      "metadata": {
        "id": "fvrBDgK596HR"
      },
      "source": [
        "generate_sent('뇌졸중', gpt_model,top_k=40, top_p=0.90)"
      ],
      "execution_count": null,
      "outputs": []
    },
    {
      "cell_type": "code",
      "metadata": {
        "id": "H7iLee3b96HR"
      },
      "source": [
        "generate_sent('뇌졸중', gpt_model,top_k=40, top_p=0.95)"
      ],
      "execution_count": null,
      "outputs": []
    },
    {
      "cell_type": "code",
      "metadata": {
        "id": "sAu8fyZT96HR"
      },
      "source": [
        "generate_sent('치매', gpt_model,top_k=40, top_p=0.90)"
      ],
      "execution_count": null,
      "outputs": []
    },
    {
      "cell_type": "code",
      "metadata": {
        "id": "nxtNJdHK96HS"
      },
      "source": [
        "generate_sent('치매', gpt_model,top_k=40, top_p=0.95)"
      ],
      "execution_count": null,
      "outputs": []
    },
    {
      "cell_type": "code",
      "metadata": {
        "id": "yf77Ot2t96HS"
      },
      "source": [
        "generate_sent('우울증', gpt_model,top_k=40, top_p=0.90)"
      ],
      "execution_count": null,
      "outputs": []
    },
    {
      "cell_type": "code",
      "metadata": {
        "id": "2BtH9UKS96HS"
      },
      "source": [
        "generate_sent('우울증', gpt_model,top_k=40, top_p=0.95)"
      ],
      "execution_count": null,
      "outputs": []
    },
    {
      "cell_type": "code",
      "metadata": {
        "id": "Z3T6FPju96HS"
      },
      "source": [
        "generate_sent('고혈압', gpt_model,top_k=40, top_p=0.90)"
      ],
      "execution_count": null,
      "outputs": []
    },
    {
      "cell_type": "code",
      "metadata": {
        "id": "sxHrNyF296HT"
      },
      "source": [
        "generate_sent('고혈압', gpt_model,top_k=0, top_p=0.75)"
      ],
      "execution_count": null,
      "outputs": []
    },
    {
      "cell_type": "markdown",
      "metadata": {
        "id": "Vx_hFdmQT7fE"
      },
      "source": [
        "## 본문생성(1)"
      ]
    },
    {
      "cell_type": "code",
      "metadata": {
        "id": "9H9bTRX54cka"
      },
      "source": [
        "BASE_MODEL_PATH = './350_model_path/2.31_0.389_tf2_gpt2_350_finetuned_model'\n",
        "gpt_model = GPT2Model(BASE_MODEL_PATH)"
      ],
      "execution_count": null,
      "outputs": []
    },
    {
      "cell_type": "code",
      "metadata": {
        "id": "WaZgALidU_o6"
      },
      "source": [
        "generate_sent('고혈압', gpt_model,top_k=0, top_p=0.90)"
      ],
      "execution_count": null,
      "outputs": []
    },
    {
      "cell_type": "code",
      "metadata": {
        "id": "-mPeViz1g8Nd"
      },
      "source": [
        "generate_sent('우울증?', gpt_model,top_k=40, top_p=0.90)"
      ],
      "execution_count": null,
      "outputs": []
    },
    {
      "cell_type": "code",
      "metadata": {
        "id": "_Qfaw8fMEj72"
      },
      "source": [
        "generate_sent('뇌졸중', gpt_model,top_k=0, top_p=0.90)"
      ],
      "execution_count": null,
      "outputs": []
    },
    {
      "cell_type": "code",
      "metadata": {
        "id": "GTbP_BW1EmR8"
      },
      "source": [
        "generate_sent('코로나19 환자 분류시 ‘맥박, 혈압, 호흡, 체온, 의식’ 본다', gpt_model,top_k=40, top_p=0.90)"
      ],
      "execution_count": null,
      "outputs": []
    },
    {
      "cell_type": "code",
      "metadata": {
        "id": "WGpjpUaVynL_"
      },
      "source": [
        "csv"
      ],
      "execution_count": null,
      "outputs": []
    }
  ]
}