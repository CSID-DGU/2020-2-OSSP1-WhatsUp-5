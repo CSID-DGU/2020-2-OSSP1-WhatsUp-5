{
  "nbformat": 4,
  "nbformat_minor": 0,
  "metadata": {
    "colab": {
      "name": "dataEDA.ipynb",
      "provenance": [],
      "collapsed_sections": [],
      "include_colab_link": true
    },
    "kernelspec": {
      "name": "python3",
      "display_name": "Python 3"
    },
    "accelerator": "GPU"
  },
  "cells": [
    {
      "cell_type": "markdown",
      "metadata": {
        "id": "view-in-github",
        "colab_type": "text"
      },
      "source": [
        "<a href=\"https://colab.research.google.com/github/CSID-DGU/2020-2-OSSP1-WhatsUp-5/blob/master/model/dataEDA.ipynb\" target=\"_parent\"><img src=\"https://colab.research.google.com/assets/colab-badge.svg\" alt=\"Open In Colab\"/></a>"
      ]
    },
    {
      "cell_type": "code",
      "metadata": {
        "colab": {
          "base_uri": "https://localhost:8080/"
        },
        "id": "zzg937ypQvmj",
        "outputId": "feb46793-57c2-40ef-e080-66aeb2944bf1"
      },
      "source": [
        "from google.colab import drive\n",
        "drive.mount('/content/drive')"
      ],
      "execution_count": null,
      "outputs": [
        {
          "output_type": "stream",
          "text": [
            "Mounted at /content/drive\n"
          ],
          "name": "stdout"
        }
      ]
    },
    {
      "cell_type": "code",
      "metadata": {
        "colab": {
          "base_uri": "https://localhost:8080/"
        },
        "id": "1GrAVACTx1e6",
        "outputId": "4f27f86b-76c2-42b3-c9ef-029a394e96a2"
      },
      "source": [
        "cd \"/content/drive/Shareddrives/와썹_공개SW/GPT2_MNews\""
      ],
      "execution_count": null,
      "outputs": [
        {
          "output_type": "stream",
          "text": [
            "/content/drive/Shareddrives/와썹_공개SW/GPT2_MNews\n"
          ],
          "name": "stdout"
        }
      ]
    },
    {
      "cell_type": "code",
      "metadata": {
        "colab": {
          "base_uri": "https://localhost:8080/"
        },
        "id": "AYX41O3Xy0Zd",
        "outputId": "6229d954-a1f2-4819-c30b-5e16246b0bf3"
      },
      "source": [
        "!pip install -r requirements.txt"
      ],
      "execution_count": null,
      "outputs": [
        {
          "output_type": "stream",
          "text": [
            "Collecting gluonnlp==0.9.1\n",
            "\u001b[?25l  Downloading https://files.pythonhosted.org/packages/c6/27/07b57d22496ed6c98b247e578712122402487f5c265ec70a747900f97060/gluonnlp-0.9.1.tar.gz (252kB)\n",
            "\u001b[K     |████████████████████████████████| 256kB 13.3MB/s \n",
            "\u001b[?25hCollecting sentencepiece>=0.1.85\n",
            "\u001b[?25l  Downloading https://files.pythonhosted.org/packages/e5/2d/6d4ca4bef9a67070fa1cac508606328329152b1df10bdf31fb6e4e727894/sentencepiece-0.1.94-cp36-cp36m-manylinux2014_x86_64.whl (1.1MB)\n",
            "\u001b[K     |████████████████████████████████| 1.1MB 29.0MB/s \n",
            "\u001b[?25hCollecting transformers==2.11.0\n",
            "\u001b[?25l  Downloading https://files.pythonhosted.org/packages/48/35/ad2c5b1b8f99feaaf9d7cdadaeef261f098c6e1a6a2935d4d07662a6b780/transformers-2.11.0-py3-none-any.whl (674kB)\n",
            "\u001b[K     |████████████████████████████████| 675kB 60.0MB/s \n",
            "\u001b[?25hCollecting mxnet==1.6.0\n",
            "\u001b[?25l  Downloading https://files.pythonhosted.org/packages/81/f5/d79b5b40735086ff1100c680703e0f3efc830fa455e268e9e96f3c857e93/mxnet-1.6.0-py2.py3-none-any.whl (68.7MB)\n",
            "\u001b[K     |████████████████████████████████| 68.7MB 48kB/s \n",
            "\u001b[?25hCollecting kss\n",
            "  Downloading https://files.pythonhosted.org/packages/fc/bb/4772901b3b934ac204f32a0bd6fc0567871d8378f9bbc7dd5fd5e16c6ee7/kss-1.3.1.tar.gz\n",
            "Collecting jamo\n",
            "  Downloading https://files.pythonhosted.org/packages/ac/cc/49812faae67f9a24be6ddaf58a2cf7e8c3cbfcf5b762d9414f7103d2ea2c/jamo-0.4.1-py3-none-any.whl\n",
            "Requirement already satisfied: numpy>=1.16.0 in /usr/local/lib/python3.6/dist-packages (from gluonnlp==0.9.1->-r requirements.txt (line 1)) (1.18.5)\n",
            "Requirement already satisfied: cython in /usr/local/lib/python3.6/dist-packages (from gluonnlp==0.9.1->-r requirements.txt (line 1)) (0.29.21)\n",
            "Requirement already satisfied: packaging in /usr/local/lib/python3.6/dist-packages (from gluonnlp==0.9.1->-r requirements.txt (line 1)) (20.7)\n",
            "Requirement already satisfied: requests in /usr/local/lib/python3.6/dist-packages (from transformers==2.11.0->-r requirements.txt (line 3)) (2.23.0)\n",
            "Requirement already satisfied: dataclasses; python_version < \"3.7\" in /usr/local/lib/python3.6/dist-packages (from transformers==2.11.0->-r requirements.txt (line 3)) (0.8)\n",
            "Collecting tokenizers==0.7.0\n",
            "\u001b[?25l  Downloading https://files.pythonhosted.org/packages/14/e5/a26eb4716523808bb0a799fcfdceb6ebf77a18169d9591b2f46a9adb87d9/tokenizers-0.7.0-cp36-cp36m-manylinux1_x86_64.whl (3.8MB)\n",
            "\u001b[K     |████████████████████████████████| 3.8MB 18.8MB/s \n",
            "\u001b[?25hRequirement already satisfied: regex!=2019.12.17 in /usr/local/lib/python3.6/dist-packages (from transformers==2.11.0->-r requirements.txt (line 3)) (2019.12.20)\n",
            "Requirement already satisfied: tqdm>=4.27 in /usr/local/lib/python3.6/dist-packages (from transformers==2.11.0->-r requirements.txt (line 3)) (4.41.1)\n",
            "Collecting sacremoses\n",
            "\u001b[?25l  Downloading https://files.pythonhosted.org/packages/7d/34/09d19aff26edcc8eb2a01bed8e98f13a1537005d31e95233fd48216eed10/sacremoses-0.0.43.tar.gz (883kB)\n",
            "\u001b[K     |████████████████████████████████| 890kB 51.4MB/s \n",
            "\u001b[?25hRequirement already satisfied: filelock in /usr/local/lib/python3.6/dist-packages (from transformers==2.11.0->-r requirements.txt (line 3)) (3.0.12)\n",
            "Collecting graphviz<0.9.0,>=0.8.1\n",
            "  Downloading https://files.pythonhosted.org/packages/53/39/4ab213673844e0c004bed8a0781a0721a3f6bb23eb8854ee75c236428892/graphviz-0.8.4-py2.py3-none-any.whl\n",
            "Requirement already satisfied: pyparsing>=2.0.2 in /usr/local/lib/python3.6/dist-packages (from packaging->gluonnlp==0.9.1->-r requirements.txt (line 1)) (2.4.7)\n",
            "Requirement already satisfied: chardet<4,>=3.0.2 in /usr/local/lib/python3.6/dist-packages (from requests->transformers==2.11.0->-r requirements.txt (line 3)) (3.0.4)\n",
            "Requirement already satisfied: certifi>=2017.4.17 in /usr/local/lib/python3.6/dist-packages (from requests->transformers==2.11.0->-r requirements.txt (line 3)) (2020.12.5)\n",
            "Requirement already satisfied: urllib3!=1.25.0,!=1.25.1,<1.26,>=1.21.1 in /usr/local/lib/python3.6/dist-packages (from requests->transformers==2.11.0->-r requirements.txt (line 3)) (1.24.3)\n",
            "Requirement already satisfied: idna<3,>=2.5 in /usr/local/lib/python3.6/dist-packages (from requests->transformers==2.11.0->-r requirements.txt (line 3)) (2.10)\n",
            "Requirement already satisfied: six in /usr/local/lib/python3.6/dist-packages (from sacremoses->transformers==2.11.0->-r requirements.txt (line 3)) (1.15.0)\n",
            "Requirement already satisfied: click in /usr/local/lib/python3.6/dist-packages (from sacremoses->transformers==2.11.0->-r requirements.txt (line 3)) (7.1.2)\n",
            "Requirement already satisfied: joblib in /usr/local/lib/python3.6/dist-packages (from sacremoses->transformers==2.11.0->-r requirements.txt (line 3)) (0.17.0)\n",
            "Building wheels for collected packages: gluonnlp, kss, sacremoses\n",
            "  Building wheel for gluonnlp (setup.py) ... \u001b[?25l\u001b[?25hdone\n",
            "  Created wheel for gluonnlp: filename=gluonnlp-0.9.1-cp36-cp36m-linux_x86_64.whl size=470061 sha256=30af179e2e574af83604854a6b1432191b48593da001d6f93ff7eddc90f32f25\n",
            "  Stored in directory: /root/.cache/pip/wheels/af/60/16/1f8a40e68b85bd9bd7960e91830bca5e40cd113f3220b7e231\n",
            "  Building wheel for kss (setup.py) ... \u001b[?25l\u001b[?25hdone\n",
            "  Created wheel for kss: filename=kss-1.3.1-cp36-cp36m-linux_x86_64.whl size=251580 sha256=f959714db86346fd538648839a36694c7d100266a17b9d9bbf8ca64c7be4b497\n",
            "  Stored in directory: /root/.cache/pip/wheels/8b/98/d1/53f75f89925cd95779824778725ee3fa36e7aa55ed26ad54a8\n",
            "  Building wheel for sacremoses (setup.py) ... \u001b[?25l\u001b[?25hdone\n",
            "  Created wheel for sacremoses: filename=sacremoses-0.0.43-cp36-none-any.whl size=893261 sha256=3f16530369e52d1c6332b4cb705808e3037f0eeed2210d0108cecc14603f7cf0\n",
            "  Stored in directory: /root/.cache/pip/wheels/29/3c/fd/7ce5c3f0666dab31a50123635e6fb5e19ceb42ce38d4e58f45\n",
            "Successfully built gluonnlp kss sacremoses\n",
            "Installing collected packages: gluonnlp, sentencepiece, tokenizers, sacremoses, transformers, graphviz, mxnet, kss, jamo\n",
            "  Found existing installation: graphviz 0.10.1\n",
            "    Uninstalling graphviz-0.10.1:\n",
            "      Successfully uninstalled graphviz-0.10.1\n",
            "Successfully installed gluonnlp-0.9.1 graphviz-0.8.4 jamo-0.4.1 kss-1.3.1 mxnet-1.6.0 sacremoses-0.0.43 sentencepiece-0.1.94 tokenizers-0.7.0 transformers-2.11.0\n"
          ],
          "name": "stdout"
        }
      ]
    },
    {
      "cell_type": "code",
      "metadata": {
        "id": "aEwBYGEtyWSJ"
      },
      "source": [
        "import numpy as np\n",
        "import pandas as pd\n",
        "import os\n",
        "import re\n",
        "from bs4 import BeautifulSoup \n",
        "import matplotlib.pyplot as plt\n",
        "import seaborn as sns\n",
        "import csv\n",
        "from transformers import BertTokenizer\n",
        "from tensorflow.keras.preprocessing.text import Tokenizer \n",
        "from tensorflow.keras.preprocessing.sequence import pad_sequences\n",
        "import urllib.request\n",
        "np.random.seed(seed=0)"
      ],
      "execution_count": null,
      "outputs": []
    },
    {
      "cell_type": "markdown",
      "metadata": {
        "id": "DDAjpv9o0SRh"
      },
      "source": [
        "제목데이터"
      ]
    },
    {
      "cell_type": "code",
      "metadata": {
        "id": "Vm2LrGzOyRY1"
      },
      "source": [
        "DATA_IN_PATH = '/content/drive/Shareddrives/와썹_공개SW/crawling_DATA/edited_csv/TITLE/'\n",
        "TRAIN_DATA_FILE = [\n",
        "                   'g_health_title_edit.csv',\n",
        "                   'health_chosun_title_edit.csv',\n",
        "                   'medi_gate_title_edit.csv',\n",
        "                   'medical_times_title_edit.csv',\n",
        "                   'titles_remove_duple.csv'\n",
        "                   ]"
      ],
      "execution_count": null,
      "outputs": []
    },
    {
      "cell_type": "markdown",
      "metadata": {
        "id": "tPBFHNWa0Tla"
      },
      "source": [
        "본문기사데이터"
      ]
    },
    {
      "cell_type": "code",
      "metadata": {
        "id": "AhpvoLa3MpJX"
      },
      "source": [
        "DATA_IN_PATH = '../crawling_DATA/final_train/'\n",
        "\n",
        "TRAIN_DATA_FILE = ['refined_whosaeng.csv',\n",
        "                   'refined_medical_times_edit.csv',\n",
        "                   'refined_medical_daily.csv',\n",
        "                   'refined_medi_gate_edit.csv',\n",
        "                   'refined_k-health.csv',\n",
        "                   'refined_g_health_edit.csv',\n",
        "                   'refined_health_chosun_edit1.csv',\n",
        "                   'refined_health_chosun_edit2.csv',\n",
        "                   'refined_health_chosun_edit3.csv',\n",
        "                   'refined_health_chosun_edit4.csv',\n",
        "                   'refined_docdoc.csv',\n",
        "                   ]\n",
        "\n",
        "#sents = [s[:-1] for s in open(DATA_IN_PATH + TRAIN_DATA_FILE).readlines()]"
      ],
      "execution_count": null,
      "outputs": []
    },
    {
      "cell_type": "code",
      "metadata": {
        "id": "RBMjbeQw6m7s"
      },
      "source": [
        "DATA_IN_PATH = '../crawling_DATA/final_train/test/'\n",
        "\n",
        "TRAIN_DATA_FILE = ['refined_health_chosun_1_600.csv',\n",
        "                   'refined_g_health_600.csv',\n",
        "                   'refined_docdoc_600.csv',\n",
        "                   'refined_health_chosun_2_600.csv',\n",
        "                   'refined_health_chosun_3_600.csv',\n",
        "                   'refined_health_chosun_4_600.csv',\n",
        "                   'refined_k-health_600.csv',\n",
        "                   'refined_medi_gate_600.csv',\n",
        "                   'refined_medical_daily_600.csv',\n",
        "                   'refined_medical_times_600.csv',\n",
        "                   'refined_whosaeng_600.csv'\n",
        "                   ]\n",
        "\n",
        "#sents = [s[:-1] for s in open(DATA_IN_PATH + TRAIN_DATA_FILE).readlines()]"
      ],
      "execution_count": null,
      "outputs": []
    },
    {
      "cell_type": "markdown",
      "metadata": {
        "id": "tkU4fcQBdFbu"
      },
      "source": [
        "데이터 로드"
      ]
    },
    {
      "cell_type": "code",
      "metadata": {
        "id": "FovN637Jc-yX"
      },
      "source": [
        "test=[]\n",
        "for datasets in TRAIN_DATA_FILE:\n",
        "  f_med=open(DATA_IN_PATH+datasets,'r',encoding='utf-8')\n",
        "  rdr=csv.reader(f_med)\n",
        "  a\n",
        "  for line in rdr:\n",
        "    for s in line:\n",
        "      print(s)\n",
        "      test.append(s)"
      ],
      "execution_count": null,
      "outputs": []
    },
    {
      "cell_type": "code",
      "metadata": {
        "colab": {
          "base_uri": "https://localhost:8080/"
        },
        "id": "wFW7bvmWpRXv",
        "outputId": "b39c6a3a-0d28-444f-d90a-2bf1968cc97c"
      },
      "source": [
        "train_set = pd.Series(test)\n",
        "print('유일한 총 문장 수 : {}'.format(len(np.unique(train_set))))\n",
        "print('반복해서 나타나는 문장의 수: {}'.format(np.sum(train_set.value_counts() > 1)))"
      ],
      "execution_count": null,
      "outputs": [
        {
          "output_type": "stream",
          "text": [
            "유일한 총 문장 수 : 65174\n",
            "반복해서 나타나는 문장의 수: 2\n"
          ],
          "name": "stdout"
        }
      ]
    },
    {
      "cell_type": "code",
      "metadata": {
        "colab": {
          "base_uri": "https://localhost:8080/"
        },
        "id": "tBCctL4Qpj6r",
        "outputId": "3c9d41c5-930c-4fbb-cb47-e5b6e191771f"
      },
      "source": [
        "print('중복 최대 개수: {}'.format(np.max(train_set.value_counts())))\n",
        "print('중복 최소 개수: {}'.format(np.min(train_set.value_counts())))\n",
        "print('중복 평균 개수: {:.2f}'.format(np.mean(train_set.value_counts())))\n",
        "print('중복 표준편차: {:.2f}'.format(np.std(train_set.value_counts())))\n",
        "print('중복 중간길이: {}'.format(np.median(train_set.value_counts())))\n",
        "# 사분위의 대한 경우는 0~100 스케일로 되어있음\n",
        "print('제 1 사분위 중복: {}'.format(np.percentile(train_set.value_counts(), 25)))\n",
        "print('제 3 사분위 중복: {}'.format(np.percentile(train_set.value_counts(), 75)))"
      ],
      "execution_count": null,
      "outputs": [
        {
          "output_type": "stream",
          "text": [
            "중복 최대 개수: 2\n",
            "중복 최소 개수: 1\n",
            "중복 평균 개수: 1.00\n",
            "중복 표준편차: 0.01\n",
            "중복 중간길이: 1.0\n",
            "제 1 사분위 중복: 1.0\n",
            "제 3 사분위 중복: 1.0\n"
          ],
          "name": "stdout"
        }
      ]
    },
    {
      "cell_type": "code",
      "metadata": {
        "id": "yRFhYk3N2fkG"
      },
      "source": [
        "train_length = train_set.apply(len)"
      ],
      "execution_count": null,
      "outputs": []
    },
    {
      "cell_type": "code",
      "metadata": {
        "colab": {
          "base_uri": "https://localhost:8080/",
          "height": 766
        },
        "id": "7XA5pERlo4b7",
        "outputId": "785a28e3-1105-48a4-ad1b-3de67bd7abdb"
      },
      "source": [
        "print('문장 길이 최대 값: {}'.format(np.max(train_length)))\n",
        "print('문장 길이 최소 값: {}'.format(np.min(train_length)))\n",
        "print('문장 길이 평균 값: {:.2f}'.format(np.mean(train_length)))\n",
        "print('문장 길이 표준편차: {:.2f}'.format(np.std(train_length)))\n",
        "print('문장 길이 중간 값: {}'.format(np.median(train_length)))\n",
        "print('문장 길이 제 1 사분위: {}'.format(np.percentile(train_length, 25)))\n",
        "print('문장 길이 제 3 사분위: {}'.format(np.percentile(train_length, 75)))\n",
        "\n",
        "\n",
        "plt.figure(figsize=(15, 10))\n",
        "plt.hist(train_length, bins=200, range=[0,3000], facecolor='r', density=True, label='train')\n",
        "plt.title(\"Distribution of character count in sentence\", fontsize=15)\n",
        "plt.legend()\n",
        "plt.xlabel('Number of characters', fontsize=15)\n",
        "plt.ylabel('Probability', fontsize=15)"
      ],
      "execution_count": null,
      "outputs": [
        {
          "output_type": "stream",
          "text": [
            "문장 길이 최대 값: 43367\n",
            "문장 길이 최소 값: 601\n",
            "문장 길이 평균 값: 1458.42\n",
            "문장 길이 표준편차: 902.82\n",
            "문장 길이 중간 값: 1216.5\n",
            "문장 길이 제 1 사분위: 886.0\n",
            "문장 길이 제 3 사분위: 1759.0\n"
          ],
          "name": "stdout"
        },
        {
          "output_type": "execute_result",
          "data": {
            "text/plain": [
              "Text(0, 0.5, 'Probability')"
            ]
          },
          "metadata": {
            "tags": []
          },
          "execution_count": 33
        },
        {
          "output_type": "display_data",
          "data": {
            "image/png": "[encoded data removed]",
            "text/plain": [
              "<Figure size 1080x720 with 1 Axes>"
            ]
          },
          "metadata": {
            "tags": [],
            "needs_background": "light"
          }
        }
      ]
    },
    {
      "cell_type": "code",
      "metadata": {
        "id": "eBGRmRRbq7iX"
      },
      "source": [
        "tokenizer = BertTokenizer.from_pretrained(\"bert-base-multilingual-cased\", cache_dir='bert_ckpt', do_lower_case=False)"
      ],
      "execution_count": null,
      "outputs": []
    },
    {
      "cell_type": "code",
      "metadata": {
        "id": "oD4LMFieq2G6"
      },
      "source": [
        "train_bert_token_counts = train_set.apply(lambda x:len(tokenizer.tokenize(x)))"
      ],
      "execution_count": null,
      "outputs": []
    },
    {
      "cell_type": "code",
      "metadata": {
        "colab": {
          "base_uri": "https://localhost:8080/",
          "height": 784
        },
        "id": "K3LwpKdCroPc",
        "outputId": "4d030e2a-e92e-44ad-f62f-8a35b01288a3"
      },
      "source": [
        "print('문장 tokens 개수 최대 값: {}'.format(np.max(train_bert_token_counts)))\n",
        "print('문장 tokens 개수 최소 값: {}'.format(np.min(train_bert_token_counts)))\n",
        "print('문장 tokens 개수 평균 값: {:.2f}'.format(np.mean(train_bert_token_counts)))\n",
        "print('문장 tokens 개수 표준편차: {:.2f}'.format(np.std(train_bert_token_counts)))\n",
        "print('문장 tokens 개수 중간 값: {}'.format(np.median(train_bert_token_counts)))\n",
        "print('문장 tokens 개수 제 1 사분위: {}'.format(np.percentile(train_bert_token_counts, 25)))\n",
        "print('문장 tokens 개수 제 3 사분위: {}'.format(np.percentile(train_bert_token_counts, 75)))\n",
        "print('문장 tokens 개수 99 퍼센트: {}'.format(np.percentile(train_bert_token_counts, 99)))\n",
        "\n",
        "plt.figure(figsize=(15, 10))\n",
        "plt.hist(train_bert_token_counts, bins=200, range=[0, 3000], facecolor='r', density=True, label='train')\n",
        "plt.title('Distribution of tokens count in sentence', fontsize=15)\n",
        "plt.legend()\n",
        "plt.xlabel('Number of tokens', fontsize=15)\n",
        "plt.ylabel('Probability', fontsize=15)"
      ],
      "execution_count": null,
      "outputs": [
        {
          "output_type": "stream",
          "text": [
            "문장 tokens 개수 최대 값: 30934\n",
            "문장 tokens 개수 최소 값: 289\n",
            "문장 tokens 개수 평균 값: 920.52\n",
            "문장 tokens 개수 표준편차: 572.21\n",
            "문장 tokens 개수 중간 값: 769.0\n",
            "문장 tokens 개수 제 1 사분위: 559.0\n",
            "문장 tokens 개수 제 3 사분위: 1111.0\n",
            "문장 tokens 개수 99 퍼센트: 3032.25\n"
          ],
          "name": "stdout"
        },
        {
          "output_type": "execute_result",
          "data": {
            "text/plain": [
              "Text(0, 0.5, 'Probability')"
            ]
          },
          "metadata": {
            "tags": []
          },
          "execution_count": 36
        },
        {
          "output_type": "display_data",
          "data": {
            "image/png": "[encoded data removed]",
            "text/plain": [
              "<Figure size 1080x720 with 1 Axes>"
            ]
          },
          "metadata": {
            "tags": [],
            "needs_background": "light"
          }
        }
      ]
    },
    {
      "cell_type": "code",
      "metadata": {
        "colab": {
          "base_uri": "https://localhost:8080/",
          "height": 784
        },
        "id": "zEcqmhZpqkLx",
        "outputId": "0bc12edd-c292-4330-98d9-c4b8905527f0"
      },
      "source": [
        "train_word_counts = train_set.apply(lambda x:len(x.split(' ')))\n",
        "\n",
        "print('문장 단어 개수 최대 값: {}'.format(np.max(train_word_counts)))\n",
        "print('문장 단어 개수 최소 값: {}'.format(np.min(train_word_counts)))\n",
        "print('문장 단어 개수 평균 값: {:.2f}'.format(np.mean(train_word_counts)))\n",
        "print('문장 단어 개수 표준편차: {:.2f}'.format(np.std(train_word_counts)))\n",
        "print('문장 단어 개수 중간 값: {}'.format(np.median(train_word_counts)))\n",
        "print('문장 단어 개수 제 1 사분위: {}'.format(np.percentile(train_word_counts, 25)))\n",
        "print('문장 단어 개수 제 3 사분위: {}'.format(np.percentile(train_word_counts, 75)))\n",
        "print('문장 단어 개수 99 퍼센트: {}'.format(np.percentile(train_word_counts, 99)))\n",
        "\n",
        "plt.figure(figsize=(15, 10))\n",
        "plt.hist(train_word_counts, bins=50, range=[0, 3000], facecolor='r', density=True, label='train')\n",
        "plt.title('Distribution of word count in sentence', fontsize=15)\n",
        "plt.legend()\n",
        "plt.xlabel('Number of words', fontsize=15)\n",
        "plt.ylabel('Probability', fontsize=15)"
      ],
      "execution_count": null,
      "outputs": [
        {
          "output_type": "stream",
          "text": [
            "문장 단어 개수 최대 값: 8270\n",
            "문장 단어 개수 최소 값: 5\n",
            "문장 단어 개수 평균 값: 332.29\n",
            "문장 단어 개수 표준편차: 218.81\n",
            "문장 단어 개수 중간 값: 278.0\n",
            "문장 단어 개수 제 1 사분위: 199.0\n",
            "문장 단어 개수 제 3 사분위: 409.0\n",
            "문장 단어 개수 99 퍼센트: 1136.25\n"
          ],
          "name": "stdout"
        },
        {
          "output_type": "execute_result",
          "data": {
            "text/plain": [
              "Text(0, 0.5, 'Probability')"
            ]
          },
          "metadata": {
            "tags": []
          },
          "execution_count": 37
        },
        {
          "output_type": "display_data",
          "data": {
            "image/png": "[encoded data removed]",
            "text/plain": [
              "<Figure size 1080x720 with 1 Axes>"
            ]
          },
          "metadata": {
            "tags": [],
            "needs_background": "light"
          }
        }
      ]
    }
  ]
}