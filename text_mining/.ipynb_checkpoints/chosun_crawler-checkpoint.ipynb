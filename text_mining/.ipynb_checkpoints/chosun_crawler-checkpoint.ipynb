{
 "cells": [
  {
   "cell_type": "code",
   "execution_count": 1,
   "metadata": {
    "colab": {
     "base_uri": "https://localhost:8080/"
    },
    "executionInfo": {
     "elapsed": 10632,
     "status": "ok",
     "timestamp": 1605125952377,
     "user": {
      "displayName": "이한빈",
      "photoUrl": "https://lh3.googleusercontent.com/a-/AOh14GjvVlO5Se1a47Me7EsLqefBhceKxK7670bG_54-=s64",
      "userId": "07171523879650801742"
     },
     "user_tz": -540
    },
    "id": "v4XHpxkT8r-C",
    "outputId": "1746eeb7-6137-485b-9b6c-9fbdf7d07889"
   },
   "outputs": [
    {
     "name": "stdout",
     "output_type": "stream",
     "text": [
      "Collecting selenium\n",
      "  Downloading selenium-3.141.0-py2.py3-none-any.whl (904 kB)\n",
      "Requirement already satisfied: urllib3 in c:\\programdata\\anaconda3\\lib\\site-packages (from selenium) (1.25.8)\n",
      "Installing collected packages: selenium\n",
      "Successfully installed selenium-3.141.0\n",
      "Requirement already satisfied: BeautifulSoup4 in c:\\programdata\\anaconda3\\lib\\site-packages (4.6.0)\n"
     ]
    },
    {
     "name": "stderr",
     "output_type": "stream",
     "text": [
      "'apt'은(는) 내부 또는 외부 명령, 실행할 수 있는 프로그램, 또는\n",
      "배치 파일이 아닙니다.\n",
      "'apt'은(는) 내부 또는 외부 명령, 실행할 수 있는 프로그램, 또는\n",
      "배치 파일이 아닙니다.\n"
     ]
    }
   ],
   "source": [
    "# 환경 구축\n",
    "!pip install selenium\n",
    "!pip install BeautifulSoup4\n",
    "!apt update\n",
    "!apt install chromium-chromedriver"
   ]
  },
  {
   "cell_type": "code",
   "execution_count": 2,
   "metadata": {
    "colab": {
     "base_uri": "https://localhost:8080/"
    },
    "executionInfo": {
     "elapsed": 10612,
     "status": "ok",
     "timestamp": 1605125952380,
     "user": {
      "displayName": "이한빈",
      "photoUrl": "https://lh3.googleusercontent.com/a-/AOh14GjvVlO5Se1a47Me7EsLqefBhceKxK7670bG_54-=s64",
      "userId": "07171523879650801742"
     },
     "user_tz": -540
    },
    "id": "lGL7yi6t8yyd",
    "outputId": "0e3c128d-a02f-4bf6-a9b4-c57e29736f3e"
   },
   "outputs": [
    {
     "name": "stdout",
     "output_type": "stream",
     "text": [
      "/content/drive/My Drive/Colab Notebooks\n"
     ]
    }
   ],
   "source": [
    "cd \"/content/drive/My Drive/Colab Notebooks\""
   ]
  },
  {
   "cell_type": "code",
   "execution_count": 2,
   "metadata": {
    "executionInfo": {
     "elapsed": 11653,
     "status": "ok",
     "timestamp": 1605125953433,
     "user": {
      "displayName": "이한빈",
      "photoUrl": "https://lh3.googleusercontent.com/a-/AOh14GjvVlO5Se1a47Me7EsLqefBhceKxK7670bG_54-=s64",
      "userId": "07171523879650801742"
     },
     "user_tz": -540
    },
    "id": "gJD0104m9Dro"
   },
   "outputs": [],
   "source": [
    "from health_chosun_crawling import health_chosun_crawling"
   ]
  },
  {
   "cell_type": "code",
   "execution_count": 3,
   "metadata": {
    "colab": {
     "base_uri": "https://localhost:8080/"
    },
    "executionInfo": {
     "elapsed": 243137,
     "status": "ok",
     "timestamp": 1605126184931,
     "user": {
      "displayName": "이한빈",
      "photoUrl": "https://lh3.googleusercontent.com/a-/AOh14GjvVlO5Se1a47Me7EsLqefBhceKxK7670bG_54-=s64",
      "userId": "07171523879650801742"
     },
     "user_tz": -540
    },
    "id": "hIgvEfdR9GBL",
    "outputId": "3e10ed25-2034-4788-b4fd-052011648555"
   },
   "outputs": [
    {
     "ename": "WebDriverException",
     "evalue": "Message: 'chromedriver' executable needs to be in PATH. Please see https://sites.google.com/a/chromium.org/chromedriver/home\n",
     "output_type": "error",
     "traceback": [
      "\u001b[1;31m---------------------------------------------------------------------------\u001b[0m",
      "\u001b[1;31mFileNotFoundError\u001b[0m                         Traceback (most recent call last)",
      "\u001b[1;32mC:\\ProgramData\\Anaconda3\\lib\\site-packages\\selenium\\webdriver\\common\\service.py\u001b[0m in \u001b[0;36mstart\u001b[1;34m(self)\u001b[0m\n\u001b[0;32m     75\u001b[0m                                             \u001b[0mstderr\u001b[0m\u001b[1;33m=\u001b[0m\u001b[0mself\u001b[0m\u001b[1;33m.\u001b[0m\u001b[0mlog_file\u001b[0m\u001b[1;33m,\u001b[0m\u001b[1;33m\u001b[0m\u001b[1;33m\u001b[0m\u001b[0m\n\u001b[1;32m---> 76\u001b[1;33m                                             stdin=PIPE)\n\u001b[0m\u001b[0;32m     77\u001b[0m         \u001b[1;32mexcept\u001b[0m \u001b[0mTypeError\u001b[0m\u001b[1;33m:\u001b[0m\u001b[1;33m\u001b[0m\u001b[1;33m\u001b[0m\u001b[0m\n",
      "\u001b[1;32mC:\\ProgramData\\Anaconda3\\lib\\subprocess.py\u001b[0m in \u001b[0;36m__init__\u001b[1;34m(self, args, bufsize, executable, stdin, stdout, stderr, preexec_fn, close_fds, shell, cwd, env, universal_newlines, startupinfo, creationflags, restore_signals, start_new_session, pass_fds, encoding, errors, text)\u001b[0m\n\u001b[0;32m    799\u001b[0m                                 \u001b[0merrread\u001b[0m\u001b[1;33m,\u001b[0m \u001b[0merrwrite\u001b[0m\u001b[1;33m,\u001b[0m\u001b[1;33m\u001b[0m\u001b[1;33m\u001b[0m\u001b[0m\n\u001b[1;32m--> 800\u001b[1;33m                                 restore_signals, start_new_session)\n\u001b[0m\u001b[0;32m    801\u001b[0m         \u001b[1;32mexcept\u001b[0m\u001b[1;33m:\u001b[0m\u001b[1;33m\u001b[0m\u001b[1;33m\u001b[0m\u001b[0m\n",
      "\u001b[1;32mC:\\ProgramData\\Anaconda3\\lib\\subprocess.py\u001b[0m in \u001b[0;36m_execute_child\u001b[1;34m(self, args, executable, preexec_fn, close_fds, pass_fds, cwd, env, startupinfo, creationflags, shell, p2cread, p2cwrite, c2pread, c2pwrite, errread, errwrite, unused_restore_signals, unused_start_new_session)\u001b[0m\n\u001b[0;32m   1206\u001b[0m                                          \u001b[0mos\u001b[0m\u001b[1;33m.\u001b[0m\u001b[0mfspath\u001b[0m\u001b[1;33m(\u001b[0m\u001b[0mcwd\u001b[0m\u001b[1;33m)\u001b[0m \u001b[1;32mif\u001b[0m \u001b[0mcwd\u001b[0m \u001b[1;32mis\u001b[0m \u001b[1;32mnot\u001b[0m \u001b[1;32mNone\u001b[0m \u001b[1;32melse\u001b[0m \u001b[1;32mNone\u001b[0m\u001b[1;33m,\u001b[0m\u001b[1;33m\u001b[0m\u001b[1;33m\u001b[0m\u001b[0m\n\u001b[1;32m-> 1207\u001b[1;33m                                          startupinfo)\n\u001b[0m\u001b[0;32m   1208\u001b[0m             \u001b[1;32mfinally\u001b[0m\u001b[1;33m:\u001b[0m\u001b[1;33m\u001b[0m\u001b[1;33m\u001b[0m\u001b[0m\n",
      "\u001b[1;31mFileNotFoundError\u001b[0m: [WinError 2] 지정된 파일을 찾을 수 없습니다",
      "\nDuring handling of the above exception, another exception occurred:\n",
      "\u001b[1;31mWebDriverException\u001b[0m                        Traceback (most recent call last)",
      "\u001b[1;32m<ipython-input-3-8f42ede73ba9>\u001b[0m in \u001b[0;36m<module>\u001b[1;34m\u001b[0m\n\u001b[0;32m      1\u001b[0m \u001b[1;32mimport\u001b[0m \u001b[0mpandas\u001b[0m \u001b[1;32mas\u001b[0m \u001b[0mpd\u001b[0m\u001b[1;33m\u001b[0m\u001b[1;33m\u001b[0m\u001b[0m\n\u001b[0;32m      2\u001b[0m \u001b[1;33m\u001b[0m\u001b[0m\n\u001b[1;32m----> 3\u001b[1;33m \u001b[0mresult\u001b[0m \u001b[1;33m=\u001b[0m \u001b[0mhealth_chosun_crawling\u001b[0m\u001b[1;33m(\u001b[0m\u001b[1;33m)\u001b[0m\u001b[1;33m\u001b[0m\u001b[1;33m\u001b[0m\u001b[0m\n\u001b[0m",
      "\u001b[1;32mG:\\내 드라이브\\GitHub\\2020-2-OSSP1-WhatsUp-5\\text_mining\\health_chosun_crawling.py\u001b[0m in \u001b[0;36mhealth_chosun_crawling\u001b[1;34m()\u001b[0m\n\u001b[0;32m    192\u001b[0m     \u001b[0moptions\u001b[0m\u001b[1;33m.\u001b[0m\u001b[0madd_argument\u001b[0m\u001b[1;33m(\u001b[0m\u001b[1;34m'--no-sandbox'\u001b[0m\u001b[1;33m)\u001b[0m\u001b[1;33m\u001b[0m\u001b[1;33m\u001b[0m\u001b[0m\n\u001b[0;32m    193\u001b[0m     \u001b[0moptions\u001b[0m\u001b[1;33m.\u001b[0m\u001b[0madd_argument\u001b[0m\u001b[1;33m(\u001b[0m\u001b[1;34m'--disable-dev-shm-usage'\u001b[0m\u001b[1;33m)\u001b[0m\u001b[1;33m\u001b[0m\u001b[1;33m\u001b[0m\u001b[0m\n\u001b[1;32m--> 194\u001b[1;33m     \u001b[0mdriver\u001b[0m \u001b[1;33m=\u001b[0m \u001b[0mwebdriver\u001b[0m\u001b[1;33m.\u001b[0m\u001b[0mChrome\u001b[0m\u001b[1;33m(\u001b[0m\u001b[0moptions\u001b[0m\u001b[1;33m=\u001b[0m\u001b[0moptions\u001b[0m\u001b[1;33m)\u001b[0m\u001b[1;33m\u001b[0m\u001b[1;33m\u001b[0m\u001b[0m\n\u001b[0m\u001b[0;32m    195\u001b[0m \u001b[1;33m\u001b[0m\u001b[0m\n\u001b[0;32m    196\u001b[0m     \u001b[1;31m#조건 성립 시간을 위한 wait 객체 설정\u001b[0m\u001b[1;33m\u001b[0m\u001b[1;33m\u001b[0m\u001b[1;33m\u001b[0m\u001b[0m\n",
      "\u001b[1;32mC:\\ProgramData\\Anaconda3\\lib\\site-packages\\selenium\\webdriver\\chrome\\webdriver.py\u001b[0m in \u001b[0;36m__init__\u001b[1;34m(self, executable_path, port, options, service_args, desired_capabilities, service_log_path, chrome_options, keep_alive)\u001b[0m\n\u001b[0;32m     71\u001b[0m             \u001b[0mservice_args\u001b[0m\u001b[1;33m=\u001b[0m\u001b[0mservice_args\u001b[0m\u001b[1;33m,\u001b[0m\u001b[1;33m\u001b[0m\u001b[1;33m\u001b[0m\u001b[0m\n\u001b[0;32m     72\u001b[0m             log_path=service_log_path)\n\u001b[1;32m---> 73\u001b[1;33m         \u001b[0mself\u001b[0m\u001b[1;33m.\u001b[0m\u001b[0mservice\u001b[0m\u001b[1;33m.\u001b[0m\u001b[0mstart\u001b[0m\u001b[1;33m(\u001b[0m\u001b[1;33m)\u001b[0m\u001b[1;33m\u001b[0m\u001b[1;33m\u001b[0m\u001b[0m\n\u001b[0m\u001b[0;32m     74\u001b[0m \u001b[1;33m\u001b[0m\u001b[0m\n\u001b[0;32m     75\u001b[0m         \u001b[1;32mtry\u001b[0m\u001b[1;33m:\u001b[0m\u001b[1;33m\u001b[0m\u001b[1;33m\u001b[0m\u001b[0m\n",
      "\u001b[1;32mC:\\ProgramData\\Anaconda3\\lib\\site-packages\\selenium\\webdriver\\common\\service.py\u001b[0m in \u001b[0;36mstart\u001b[1;34m(self)\u001b[0m\n\u001b[0;32m     81\u001b[0m                 raise WebDriverException(\n\u001b[0;32m     82\u001b[0m                     \"'%s' executable needs to be in PATH. %s\" % (\n\u001b[1;32m---> 83\u001b[1;33m                         os.path.basename(self.path), self.start_error_message)\n\u001b[0m\u001b[0;32m     84\u001b[0m                 )\n\u001b[0;32m     85\u001b[0m             \u001b[1;32melif\u001b[0m \u001b[0merr\u001b[0m\u001b[1;33m.\u001b[0m\u001b[0merrno\u001b[0m \u001b[1;33m==\u001b[0m \u001b[0merrno\u001b[0m\u001b[1;33m.\u001b[0m\u001b[0mEACCES\u001b[0m\u001b[1;33m:\u001b[0m\u001b[1;33m\u001b[0m\u001b[1;33m\u001b[0m\u001b[0m\n",
      "\u001b[1;31mWebDriverException\u001b[0m: Message: 'chromedriver' executable needs to be in PATH. Please see https://sites.google.com/a/chromium.org/chromedriver/home\n"
     ]
    }
   ],
   "source": [
    "import pandas as pd\n",
    "\n",
    "result = health_chosun_crawling()"
   ]
  },
  {
   "cell_type": "code",
   "execution_count": 5,
   "metadata": {
    "colab": {
     "base_uri": "https://localhost:8080/",
     "height": 1000
    },
    "executionInfo": {
     "elapsed": 243122,
     "status": "ok",
     "timestamp": 1605126184935,
     "user": {
      "displayName": "이한빈",
      "photoUrl": "https://lh3.googleusercontent.com/a-/AOh14GjvVlO5Se1a47Me7EsLqefBhceKxK7670bG_54-=s64",
      "userId": "07171523879650801742"
     },
     "user_tz": -540
    },
    "id": "eXJc8mHb9MrD",
    "outputId": "d49ab271-20c4-458a-b2d6-0d9e60f835e9"
   },
   "outputs": [
    {
     "data": {
      "text/html": [
       "<div>\n",
       "<style scoped>\n",
       "    .dataframe tbody tr th:only-of-type {\n",
       "        vertical-align: middle;\n",
       "    }\n",
       "\n",
       "    .dataframe tbody tr th {\n",
       "        vertical-align: top;\n",
       "    }\n",
       "\n",
       "    .dataframe thead th {\n",
       "        text-align: right;\n",
       "    }\n",
       "</style>\n",
       "<table border=\"1\" class=\"dataframe\">\n",
       "  <thead>\n",
       "    <tr style=\"text-align: right;\">\n",
       "      <th></th>\n",
       "      <th>name</th>\n",
       "      <th>date</th>\n",
       "      <th>content</th>\n",
       "    </tr>\n",
       "  </thead>\n",
       "  <tbody>\n",
       "    <tr>\n",
       "      <th>0</th>\n",
       "      <td>손 시리면 수족냉증? 저리고 아프면 ‘이것’ 의심</td>\n",
       "      <td>2020.11.11</td>\n",
       "      <td>겨울은 평소 손발이 차가운 사람들에게 유독 힘든 계절이다. 기온이 급격히 떨어지면서...</td>\n",
       "    </tr>\n",
       "    <tr>\n",
       "      <th>1</th>\n",
       "      <td>갱년기 여성 비만하면 ‘치밀 유방’ 감소하지만…</td>\n",
       "      <td>2020.11.11</td>\n",
       "      <td>갱년기 여성이 비만하면 치밀 유방이 감소한다는 연구가 나왔다.치밀 유방이란 유방에 ...</td>\n",
       "    </tr>\n",
       "    <tr>\n",
       "      <th>2</th>\n",
       "      <td>만병의 근원 '염증' 줄이는 식품 5</td>\n",
       "      <td>2020.11.11</td>\n",
       "      <td>염증은 만병의 근원이다. 심지어 암(癌)조차 체내 염증에 의해 발생한다는 설이 있다...</td>\n",
       "    </tr>\n",
       "    <tr>\n",
       "      <th>3</th>\n",
       "      <td>씨젠, 매출 1조 가나?… 불붙는 진단키트 수출</td>\n",
       "      <td>2020.11.11</td>\n",
       "      <td>국내 기업의 대규모 코로나19 진단키트 수출이 이어지고 있다. 씨젠, 랩지노믹스 등...</td>\n",
       "    </tr>\n",
       "    <tr>\n",
       "      <th>4</th>\n",
       "      <td>'심장' 지키는 법… 밀가루, 가공육 그리고 '이것' 피하라</td>\n",
       "      <td>2020.11.11</td>\n",
       "      <td>기온이 떨어지면 몸의 혈관이 급격히 수축해 심근경색 등 심장질환 발생 위험이 커진다...</td>\n",
       "    </tr>\n",
       "    <tr>\n",
       "      <th>5</th>\n",
       "      <td>고려대 안암병원 정형외과 박종웅 교수, 대한수부외과학회 회장 취임</td>\n",
       "      <td>2020.11.11</td>\n",
       "      <td>고려대 안암병원 정형외과 박종웅 교수가 2020년 11월 6 일 부로 제 28대 대...</td>\n",
       "    </tr>\n",
       "    <tr>\n",
       "      <th>6</th>\n",
       "      <td>[질병백과 TV] 벌어진 다리 그냥 두면… '내측관절염' 악화될 수도</td>\n",
       "      <td>2020.11.11</td>\n",
       "      <td>'오(O)다리'는 발목 안쪽을 붙인 상태로 똑바로 섰을 때 다리가 반듯하지 않고 무...</td>\n",
       "    </tr>\n",
       "    <tr>\n",
       "      <th>7</th>\n",
       "      <td>안지영 활동중단… 불안 증세 완화하려면?</td>\n",
       "      <td>2020.11.11</td>\n",
       "      <td>가수 볼빨간사춘기 안지영(26)이 지속적인 불안 증세를 겪어 활동을 중단한다.오늘(...</td>\n",
       "    </tr>\n",
       "    <tr>\n",
       "      <th>8</th>\n",
       "      <td>대한결핵및호흡기학회, 12일부터 국제컨퍼런스 개최</td>\n",
       "      <td>2020.11.11</td>\n",
       "      <td>대한결핵 및 호흡기학회가 11월 12일(수)-13일(목) 양일간 대한결핵 및 호흡기...</td>\n",
       "    </tr>\n",
       "    <tr>\n",
       "      <th>9</th>\n",
       "      <td>'향기'로 여성 성기능을 개선한다?</td>\n",
       "      <td>2020.11.11</td>\n",
       "      <td>향기를 약으로 사용하는 ‘아로마테라피(Aromatherapy)’. 아로마테라피는 허...</td>\n",
       "    </tr>\n",
       "    <tr>\n",
       "      <th>10</th>\n",
       "      <td>아침에 '이것' 한 잔… 체중감량, 콜레스테롤 배출에 도움</td>\n",
       "      <td>2020.11.11</td>\n",
       "      <td>다이어트를 위해 식단을 조절하는 경우가 많다. 이때 녹차를 자주 마시면 도움이 된다...</td>\n",
       "    </tr>\n",
       "    <tr>\n",
       "      <th>11</th>\n",
       "      <td>[질병백과 TV] 어느 날 갑자기 '청력 저하'… 1/3은 청력 완전히 잃는다</td>\n",
       "      <td>2020.11.11</td>\n",
       "      <td>돌발성 난청은 이름에서 알 수 있듯, 어느 날 갑자기 찾아와 환자들을 두렵게 만드는...</td>\n",
       "    </tr>\n",
       "    <tr>\n",
       "      <th>12</th>\n",
       "      <td>수두·볼거리·백일해 절반으로 '뚝'… “코로나 생활방역 효과”</td>\n",
       "      <td>2020.11.11</td>\n",
       "      <td>코로나19 대유행으로 인해 방역수칙 준수가 강조되면서 '의외의' 효과가 나타났다. ...</td>\n",
       "    </tr>\n",
       "    <tr>\n",
       "      <th>13</th>\n",
       "      <td>목소리만으로 후두암 판별</td>\n",
       "      <td>2020.11.11</td>\n",
       "      <td>목소리만으로 후두암 여부를 판별할 수 있다는 연구가 나왔다.가톨릭의대 김현범, 임선...</td>\n",
       "    </tr>\n",
       "    <tr>\n",
       "      <th>14</th>\n",
       "      <td>심장병 예방에 도움 주는 '견과류'는?</td>\n",
       "      <td>2020.11.11</td>\n",
       "      <td>호두를 정기적으로 섭취하면 몸속 염증이 줄어 심혈관질환에 걸릴 위험이 낮아진다는 연...</td>\n",
       "    </tr>\n",
       "    <tr>\n",
       "      <th>15</th>\n",
       "      <td>당신이 '뱃살을 빼야 하는' 의외의 이유</td>\n",
       "      <td>2020.11.11</td>\n",
       "      <td>뱃살 빼는 게 좋다는 사실은 누구나 알고 있다. 외관상 좋지 않을 뿐 아니라, 체내...</td>\n",
       "    </tr>\n",
       "    <tr>\n",
       "      <th>16</th>\n",
       "      <td>매복된 어금니… '바이오급속교정'으로 문체 치아만 견인한다</td>\n",
       "      <td>2020.11.11</td>\n",
       "      <td>경희대치과병원 김성훈 교수팀이 진행한 매복치 견인 시행 임상 연구가 SCI저널인 미...</td>\n",
       "    </tr>\n",
       "    <tr>\n",
       "      <th>17</th>\n",
       "      <td>불면증, 한번 겪기 시작하면 낫기 어렵다</td>\n",
       "      <td>2020.11.11</td>\n",
       "      <td>불면증은 한번 겪기 시작하면 쉽게 낫지 않는다는 연구 결과가 나왔다.캐나다 퀘벡 라...</td>\n",
       "    </tr>\n",
       "    <tr>\n",
       "      <th>18</th>\n",
       "      <td>아직도 한 손으로 양치질하세요? '양손 양치질'의 비밀…</td>\n",
       "      <td>2020.11.11</td>\n",
       "      <td>대부분의 사람은 한 손으로만 양치질을 한다. 하지만 양손을 번갈아 가며 양치질을 했...</td>\n",
       "    </tr>\n",
       "    <tr>\n",
       "      <th>19</th>\n",
       "      <td>동아에스티, 中항서제약 면역항암제 국내 독점 판권 확보</td>\n",
       "      <td>2020.11.11</td>\n",
       "      <td>동아에스티는 지난 10일 중국 항서제약과 차세대 면역항암제인 이중 표적 융합단백질 ...</td>\n",
       "    </tr>\n",
       "    <tr>\n",
       "      <th>20</th>\n",
       "      <td>정부 \"코로나 백신, 내년 하반기 접종 목표\"</td>\n",
       "      <td>2020.11.11</td>\n",
       "      <td>미국 제약사 화이자와 독일 바이오엔테크가 개발 중인 백신이 신종 코로나바이러스 감염...</td>\n",
       "    </tr>\n",
       "    <tr>\n",
       "      <th>21</th>\n",
       "      <td>유방암 팩트체크… 브래지어 오래 하면 유방암 생길까</td>\n",
       "      <td>2020.11.11</td>\n",
       "      <td>유방암은 국내 여성에게 발생하는 전체 암 중 가장 흔한 암이다. 2016년 갑상선암...</td>\n",
       "    </tr>\n",
       "    <tr>\n",
       "      <th>22</th>\n",
       "      <td>3040 젊은층 백내장 증가… 스마트폰불빛·자외선 원인</td>\n",
       "      <td>2020.11.11</td>\n",
       "      <td>백내장은 나이 들어 잘 생기는 눈질환으로 알려졌다. 하지만 최근 30~40대 젊은층...</td>\n",
       "    </tr>\n",
       "    <tr>\n",
       "      <th>23</th>\n",
       "      <td>저리고 쑤시는 뇌졸중 후 중추성통증, 참지 말고 즉각 치료해야</td>\n",
       "      <td>2020.11.11</td>\n",
       "      <td>이상감각과 통증은 뇌졸중 환자들에게 나타나는 대표적 후유증 중 하나다. 발생 시 환...</td>\n",
       "    </tr>\n",
       "    <tr>\n",
       "      <th>24</th>\n",
       "      <td>코로나 국내 신규 확진 146명… 나흘째 세 자리수</td>\n",
       "      <td>2020.11.11</td>\n",
       "      <td>코로나19 국내 확진자 수가 전날 대비 146명 늘었다. 국내 발생만 110명 이상...</td>\n",
       "    </tr>\n",
       "    <tr>\n",
       "      <th>25</th>\n",
       "      <td>'쭉~' 뻗은 다리가 중요한 이유? 관절염 예방에도 도움 돼…</td>\n",
       "      <td>2020.11.11</td>\n",
       "      <td>오늘(11월 11일)은 빼빼로데이, 가래떡데이 등 쫙 펴진 '일(1)'자 모양을 연...</td>\n",
       "    </tr>\n",
       "    <tr>\n",
       "      <th>26</th>\n",
       "      <td>순천항대병원, 흉터 제거 위한 '복합 레이저 성형술' 효과 입증</td>\n",
       "      <td>2020.11.11</td>\n",
       "      <td>순천향대병원 성형외과 남승민·송우진 교수팀이 최근 흉터 성형술의 만족도를 높이는 ‘...</td>\n",
       "    </tr>\n",
       "    <tr>\n",
       "      <th>27</th>\n",
       "      <td>분당서울대병원 흉부외과 전상훈 교수, 대한흉부심장혈관외과학회장 취임</td>\n",
       "      <td>2020.11.11</td>\n",
       "      <td>분당서울대병원 흉부외과 전상훈 교수가 지난 6일, 제52차 대한흉부심장혈관외과학회 ...</td>\n",
       "    </tr>\n",
       "    <tr>\n",
       "      <th>28</th>\n",
       "      <td>'혈관 속 시한폭탄' 혈전… 가족력 없어도 살찌면 '고위험군'</td>\n",
       "      <td>2020.11.11</td>\n",
       "      <td>혈액은 심장에서 뿜어져 나와 손·발끝까지 돌고, 다시 역류해 심장으로 돌아온다. 이...</td>\n",
       "    </tr>\n",
       "    <tr>\n",
       "      <th>29</th>\n",
       "      <td>귤 껍질에도 영양소가? 몸에 좋은 ‘껍질’ 5가지</td>\n",
       "      <td>2020.11.11</td>\n",
       "      <td>우리가 쉽게 버리는 채소·과일 껍질에는 많은 영양소가 함유돼 있다. 껍질이라는 이유...</td>\n",
       "    </tr>\n",
       "    <tr>\n",
       "      <th>30</th>\n",
       "      <td>변비, 나이 들면 심해져… 변 잘 나오는 자세는?</td>\n",
       "      <td>2020.11.11</td>\n",
       "      <td>변비로 병원 치료를 받는 사람은 매년 60만 명에 달할 정도로 많다. 특히 노인들이...</td>\n",
       "    </tr>\n",
       "    <tr>\n",
       "      <th>31</th>\n",
       "      <td>단 음식 싫어하는데… 당뇨병 왜 생겼냐고요?</td>\n",
       "      <td>2020.11.11</td>\n",
       "      <td>당뇨병은 단것을 많이 먹어 생긴다고 오해하는 사람이 많다. 그러나 이는 잘못 알려진...</td>\n",
       "    </tr>\n",
       "    <tr>\n",
       "      <th>32</th>\n",
       "      <td>노화 빠른 ‘눈’ 건강 지키는 식품 4</td>\n",
       "      <td>2020.11.11</td>\n",
       "      <td>눈은 인체 기관 중에서 노화가 가장 빠르게 일어나는 곳이다. 노화로 인해 나빠진 눈...</td>\n",
       "    </tr>\n",
       "  </tbody>\n",
       "</table>\n",
       "</div>"
      ],
      "text/plain": [
       "                                           name  ...                                            content\n",
       "0                   손 시리면 수족냉증? 저리고 아프면 ‘이것’ 의심  ...  겨울은 평소 손발이 차가운 사람들에게 유독 힘든 계절이다. 기온이 급격히 떨어지면서...\n",
       "1                    갱년기 여성 비만하면 ‘치밀 유방’ 감소하지만…  ...  갱년기 여성이 비만하면 치밀 유방이 감소한다는 연구가 나왔다.치밀 유방이란 유방에 ...\n",
       "2                          만병의 근원 '염증' 줄이는 식품 5  ...  염증은 만병의 근원이다. 심지어 암(癌)조차 체내 염증에 의해 발생한다는 설이 있다...\n",
       "3                    씨젠, 매출 1조 가나?… 불붙는 진단키트 수출  ...  국내 기업의 대규모 코로나19 진단키트 수출이 이어지고 있다. 씨젠, 랩지노믹스 등...\n",
       "4             '심장' 지키는 법… 밀가루, 가공육 그리고 '이것' 피하라  ...  기온이 떨어지면 몸의 혈관이 급격히 수축해 심근경색 등 심장질환 발생 위험이 커진다...\n",
       "5          고려대 안암병원 정형외과 박종웅 교수, 대한수부외과학회 회장 취임  ...  고려대 안암병원 정형외과 박종웅 교수가 2020년 11월 6 일 부로 제 28대 대...\n",
       "6        [질병백과 TV] 벌어진 다리 그냥 두면… '내측관절염' 악화될 수도  ...  '오(O)다리'는 발목 안쪽을 붙인 상태로 똑바로 섰을 때 다리가 반듯하지 않고 무...\n",
       "7                        안지영 활동중단… 불안 증세 완화하려면?  ...  가수 볼빨간사춘기 안지영(26)이 지속적인 불안 증세를 겪어 활동을 중단한다.오늘(...\n",
       "8                   대한결핵및호흡기학회, 12일부터 국제컨퍼런스 개최  ...  대한결핵 및 호흡기학회가 11월 12일(수)-13일(목) 양일간 대한결핵 및 호흡기...\n",
       "9                           '향기'로 여성 성기능을 개선한다?  ...  향기를 약으로 사용하는 ‘아로마테라피(Aromatherapy)’. 아로마테라피는 허...\n",
       "10             아침에 '이것' 한 잔… 체중감량, 콜레스테롤 배출에 도움  ...  다이어트를 위해 식단을 조절하는 경우가 많다. 이때 녹차를 자주 마시면 도움이 된다...\n",
       "11  [질병백과 TV] 어느 날 갑자기 '청력 저하'… 1/3은 청력 완전히 잃는다  ...  돌발성 난청은 이름에서 알 수 있듯, 어느 날 갑자기 찾아와 환자들을 두렵게 만드는...\n",
       "12           수두·볼거리·백일해 절반으로 '뚝'… “코로나 생활방역 효과”  ...  코로나19 대유행으로 인해 방역수칙 준수가 강조되면서 '의외의' 효과가 나타났다. ...\n",
       "13                                목소리만으로 후두암 판별  ...  목소리만으로 후두암 여부를 판별할 수 있다는 연구가 나왔다.가톨릭의대 김현범, 임선...\n",
       "14                        심장병 예방에 도움 주는 '견과류'는?  ...  호두를 정기적으로 섭취하면 몸속 염증이 줄어 심혈관질환에 걸릴 위험이 낮아진다는 연...\n",
       "15                       당신이 '뱃살을 빼야 하는' 의외의 이유  ...  뱃살 빼는 게 좋다는 사실은 누구나 알고 있다. 외관상 좋지 않을 뿐 아니라, 체내...\n",
       "16             매복된 어금니… '바이오급속교정'으로 문체 치아만 견인한다  ...  경희대치과병원 김성훈 교수팀이 진행한 매복치 견인 시행 임상 연구가 SCI저널인 미...\n",
       "17                       불면증, 한번 겪기 시작하면 낫기 어렵다  ...  불면증은 한번 겪기 시작하면 쉽게 낫지 않는다는 연구 결과가 나왔다.캐나다 퀘벡 라...\n",
       "18              아직도 한 손으로 양치질하세요? '양손 양치질'의 비밀…  ...  대부분의 사람은 한 손으로만 양치질을 한다. 하지만 양손을 번갈아 가며 양치질을 했...\n",
       "19               동아에스티, 中항서제약 면역항암제 국내 독점 판권 확보  ...  동아에스티는 지난 10일 중국 항서제약과 차세대 면역항암제인 이중 표적 융합단백질 ...\n",
       "20                    정부 \"코로나 백신, 내년 하반기 접종 목표\"  ...  미국 제약사 화이자와 독일 바이오엔테크가 개발 중인 백신이 신종 코로나바이러스 감염...\n",
       "21                 유방암 팩트체크… 브래지어 오래 하면 유방암 생길까  ...  유방암은 국내 여성에게 발생하는 전체 암 중 가장 흔한 암이다. 2016년 갑상선암...\n",
       "22               3040 젊은층 백내장 증가… 스마트폰불빛·자외선 원인  ...  백내장은 나이 들어 잘 생기는 눈질환으로 알려졌다. 하지만 최근 30~40대 젊은층...\n",
       "23           저리고 쑤시는 뇌졸중 후 중추성통증, 참지 말고 즉각 치료해야  ...  이상감각과 통증은 뇌졸중 환자들에게 나타나는 대표적 후유증 중 하나다. 발생 시 환...\n",
       "24                 코로나 국내 신규 확진 146명… 나흘째 세 자리수  ...  코로나19 국내 확진자 수가 전날 대비 146명 늘었다. 국내 발생만 110명 이상...\n",
       "25           '쭉~' 뻗은 다리가 중요한 이유? 관절염 예방에도 도움 돼…  ...  오늘(11월 11일)은 빼빼로데이, 가래떡데이 등 쫙 펴진 '일(1)'자 모양을 연...\n",
       "26          순천항대병원, 흉터 제거 위한 '복합 레이저 성형술' 효과 입증  ...  순천향대병원 성형외과 남승민·송우진 교수팀이 최근 흉터 성형술의 만족도를 높이는 ‘...\n",
       "27        분당서울대병원 흉부외과 전상훈 교수, 대한흉부심장혈관외과학회장 취임  ...  분당서울대병원 흉부외과 전상훈 교수가 지난 6일, 제52차 대한흉부심장혈관외과학회 ...\n",
       "28           '혈관 속 시한폭탄' 혈전… 가족력 없어도 살찌면 '고위험군'  ...  혈액은 심장에서 뿜어져 나와 손·발끝까지 돌고, 다시 역류해 심장으로 돌아온다. 이...\n",
       "29                  귤 껍질에도 영양소가? 몸에 좋은 ‘껍질’ 5가지  ...  우리가 쉽게 버리는 채소·과일 껍질에는 많은 영양소가 함유돼 있다. 껍질이라는 이유...\n",
       "30                  변비, 나이 들면 심해져… 변 잘 나오는 자세는?  ...  변비로 병원 치료를 받는 사람은 매년 60만 명에 달할 정도로 많다. 특히 노인들이...\n",
       "31                     단 음식 싫어하는데… 당뇨병 왜 생겼냐고요?  ...  당뇨병은 단것을 많이 먹어 생긴다고 오해하는 사람이 많다. 그러나 이는 잘못 알려진...\n",
       "32                        노화 빠른 ‘눈’ 건강 지키는 식품 4  ...  눈은 인체 기관 중에서 노화가 가장 빠르게 일어나는 곳이다. 노화로 인해 나빠진 눈...\n",
       "\n",
       "[33 rows x 3 columns]"
      ]
     },
     "execution_count": 5,
     "metadata": {
      "tags": []
     },
     "output_type": "execute_result"
    }
   ],
   "source": [
    "result"
   ]
  },
  {
   "cell_type": "code",
   "execution_count": 5,
   "metadata": {
    "executionInfo": {
     "elapsed": 243116,
     "status": "ok",
     "timestamp": 1605126184937,
     "user": {
      "displayName": "이한빈",
      "photoUrl": "https://lh3.googleusercontent.com/a-/AOh14GjvVlO5Se1a47Me7EsLqefBhceKxK7670bG_54-=s64",
      "userId": "07171523879650801742"
     },
     "user_tz": -540
    },
    "id": "LcY-DIz29Nma"
   },
   "outputs": [],
   "source": []
  }
 ],
 "metadata": {
  "colab": {
   "authorship_tag": "ABX9TyPz5/ArxTbNOoHbkd7qBn6N",
   "collapsed_sections": [],
   "mount_file_id": "1siwDQyaHqmq7g1cVBttSoe8kMv7S_HjJ",
   "name": "chosun_crawler.ipynb",
   "provenance": []
  },
  "kernelspec": {
   "display_name": "Python 3",
   "language": "python",
   "name": "python3"
  },
  "language_info": {
   "codemirror_mode": {
    "name": "ipython",
    "version": 3
   },
   "file_extension": ".py",
   "mimetype": "text/x-python",
   "name": "python",
   "nbconvert_exporter": "python",
   "pygments_lexer": "ipython3",
   "version": "3.7.6"
  }
 },
 "nbformat": 4,
 "nbformat_minor": 1
}
