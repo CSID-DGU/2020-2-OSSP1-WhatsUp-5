{
  "nbformat": 4,
  "nbformat_minor": 0,
  "metadata": {
    "colab": {
      "name": "Trend_Analysis.ipynb",
      "provenance": [],
      "collapsed_sections": []
    },
    "kernelspec": {
      "display_name": "Python 3",
      "language": "python",
      "name": "python3"
    },
    "language_info": {
      "codemirror_mode": {
        "name": "ipython",
        "version": 3
      },
      "file_extension": ".py",
      "mimetype": "text/x-python",
      "name": "python",
      "nbconvert_exporter": "python",
      "pygments_lexer": "ipython3",
      "version": "3.7.6"
    }
  },
  "cells": [
    {
      "cell_type": "markdown",
      "metadata": {
        "id": "Oa9Rk5rjaMkc"
      },
      "source": [
        "# 패키지 설치\n"
      ]
    },
    {
      "cell_type": "code",
      "metadata": {
        "colab": {
          "base_uri": "https://localhost:8080/"
        },
        "id": "_JaCSWEEKU_m",
        "outputId": "9078a460-0abf-411d-9c7a-0f40b93a1bcd"
      },
      "source": [
        "from google.colab import drive\n",
        "drive.mount('/content/drive')"
      ],
      "execution_count": null,
      "outputs": [
        {
          "output_type": "stream",
          "text": [
            "Mounted at /content/drive\n"
          ],
          "name": "stdout"
        }
      ]
    },
    {
      "cell_type": "code",
      "metadata": {
        "id": "LhsQzu8W2xOD",
        "colab": {
          "base_uri": "https://localhost:8080/"
        },
        "outputId": "89b0b5ef-f75b-4f1e-dc81-9cd3b95f9a61"
      },
      "source": [
        "!pip install pyLDAvis\n",
        "!pip install selenium\n",
        "!pip install selenium\n",
        "!pip install BeautifulSoup4\n",
        "!apt update\n",
        "!apt install chromium-chromedriver"
      ],
      "execution_count": null,
      "outputs": [
        {
          "output_type": "stream",
          "text": [
            "Collecting pyLDAvis\n",
            "\u001b[?25l  Downloading https://files.pythonhosted.org/packages/a5/3a/af82e070a8a96e13217c8f362f9a73e82d61ac8fff3a2561946a97f96266/pyLDAvis-2.1.2.tar.gz (1.6MB)\n",
            "\u001b[K     |████████████████████████████████| 1.6MB 6.0MB/s \n",
            "\u001b[?25hRequirement already satisfied: wheel>=0.23.0 in /usr/local/lib/python3.6/dist-packages (from pyLDAvis) (0.35.1)\n",
            "Requirement already satisfied: numpy>=1.9.2 in /usr/local/lib/python3.6/dist-packages (from pyLDAvis) (1.18.5)\n",
            "Requirement already satisfied: scipy>=0.18.0 in /usr/local/lib/python3.6/dist-packages (from pyLDAvis) (1.4.1)\n",
            "Requirement already satisfied: pandas>=0.17.0 in /usr/local/lib/python3.6/dist-packages (from pyLDAvis) (1.1.4)\n",
            "Requirement already satisfied: joblib>=0.8.4 in /usr/local/lib/python3.6/dist-packages (from pyLDAvis) (0.17.0)\n",
            "Requirement already satisfied: jinja2>=2.7.2 in /usr/local/lib/python3.6/dist-packages (from pyLDAvis) (2.11.2)\n",
            "Requirement already satisfied: numexpr in /usr/local/lib/python3.6/dist-packages (from pyLDAvis) (2.7.1)\n",
            "Requirement already satisfied: pytest in /usr/local/lib/python3.6/dist-packages (from pyLDAvis) (3.6.4)\n",
            "Requirement already satisfied: future in /usr/local/lib/python3.6/dist-packages (from pyLDAvis) (0.16.0)\n",
            "Collecting funcy\n",
            "  Downloading https://files.pythonhosted.org/packages/66/89/479de0afbbfb98d1c4b887936808764627300208bb771fcd823403645a36/funcy-1.15-py2.py3-none-any.whl\n",
            "Requirement already satisfied: pytz>=2017.2 in /usr/local/lib/python3.6/dist-packages (from pandas>=0.17.0->pyLDAvis) (2018.9)\n",
            "Requirement already satisfied: python-dateutil>=2.7.3 in /usr/local/lib/python3.6/dist-packages (from pandas>=0.17.0->pyLDAvis) (2.8.1)\n",
            "Requirement already satisfied: MarkupSafe>=0.23 in /usr/local/lib/python3.6/dist-packages (from jinja2>=2.7.2->pyLDAvis) (1.1.1)\n",
            "Requirement already satisfied: six>=1.10.0 in /usr/local/lib/python3.6/dist-packages (from pytest->pyLDAvis) (1.15.0)\n",
            "Requirement already satisfied: atomicwrites>=1.0 in /usr/local/lib/python3.6/dist-packages (from pytest->pyLDAvis) (1.4.0)\n",
            "Requirement already satisfied: attrs>=17.4.0 in /usr/local/lib/python3.6/dist-packages (from pytest->pyLDAvis) (20.3.0)\n",
            "Requirement already satisfied: py>=1.5.0 in /usr/local/lib/python3.6/dist-packages (from pytest->pyLDAvis) (1.9.0)\n",
            "Requirement already satisfied: pluggy<0.8,>=0.5 in /usr/local/lib/python3.6/dist-packages (from pytest->pyLDAvis) (0.7.1)\n",
            "Requirement already satisfied: setuptools in /usr/local/lib/python3.6/dist-packages (from pytest->pyLDAvis) (50.3.2)\n",
            "Requirement already satisfied: more-itertools>=4.0.0 in /usr/local/lib/python3.6/dist-packages (from pytest->pyLDAvis) (8.6.0)\n",
            "Building wheels for collected packages: pyLDAvis\n",
            "  Building wheel for pyLDAvis (setup.py) ... \u001b[?25l\u001b[?25hdone\n",
            "  Created wheel for pyLDAvis: filename=pyLDAvis-2.1.2-py2.py3-none-any.whl size=97712 sha256=81a85709b88e7b2faab383d56fb85fb87d040a5428e91f209037211a9837d44e\n",
            "  Stored in directory: /root/.cache/pip/wheels/98/71/24/513a99e58bb6b8465bae4d2d5e9dba8f0bef8179e3051ac414\n",
            "Successfully built pyLDAvis\n",
            "Installing collected packages: funcy, pyLDAvis\n",
            "Successfully installed funcy-1.15 pyLDAvis-2.1.2\n",
            "Collecting selenium\n",
            "\u001b[?25l  Downloading https://files.pythonhosted.org/packages/80/d6/4294f0b4bce4de0abf13e17190289f9d0613b0a44e5dd6a7f5ca98459853/selenium-3.141.0-py2.py3-none-any.whl (904kB)\n",
            "\u001b[K     |████████████████████████████████| 911kB 5.4MB/s \n",
            "\u001b[?25hRequirement already satisfied: urllib3 in /usr/local/lib/python3.6/dist-packages (from selenium) (1.24.3)\n",
            "Installing collected packages: selenium\n",
            "Successfully installed selenium-3.141.0\n",
            "Requirement already satisfied: selenium in /usr/local/lib/python3.6/dist-packages (3.141.0)\n",
            "Requirement already satisfied: urllib3 in /usr/local/lib/python3.6/dist-packages (from selenium) (1.24.3)\n",
            "Requirement already satisfied: BeautifulSoup4 in /usr/local/lib/python3.6/dist-packages (4.6.3)\n",
            "Get:1 http://security.ubuntu.com/ubuntu bionic-security InRelease [88.7 kB]\n",
            "Get:2 https://cloud.r-project.org/bin/linux/ubuntu bionic-cran40/ InRelease [3,626 B]\n",
            "Ign:3 https://developer.download.nvidia.com/compute/cuda/repos/ubuntu1804/x86_64  InRelease\n",
            "Get:4 http://ppa.launchpad.net/c2d4u.team/c2d4u4.0+/ubuntu bionic InRelease [15.9 kB]\n",
            "Ign:5 https://developer.download.nvidia.com/compute/machine-learning/repos/ubuntu1804/x86_64  InRelease\n",
            "Get:6 https://developer.download.nvidia.com/compute/cuda/repos/ubuntu1804/x86_64  Release [697 B]\n",
            "Hit:7 https://developer.download.nvidia.com/compute/machine-learning/repos/ubuntu1804/x86_64  Release\n",
            "Get:8 https://developer.download.nvidia.com/compute/cuda/repos/ubuntu1804/x86_64  Release.gpg [836 B]\n",
            "Hit:9 http://archive.ubuntu.com/ubuntu bionic InRelease\n",
            "Get:10 http://archive.ubuntu.com/ubuntu bionic-updates InRelease [88.7 kB]\n",
            "Get:11 http://security.ubuntu.com/ubuntu bionic-security/universe amd64 Packages [1,366 kB]\n",
            "Get:12 http://ppa.launchpad.net/graphics-drivers/ppa/ubuntu bionic InRelease [21.3 kB]\n",
            "Get:13 http://security.ubuntu.com/ubuntu bionic-security/main amd64 Packages [1,781 kB]\n",
            "Get:14 http://archive.ubuntu.com/ubuntu bionic-backports InRelease [74.6 kB]\n",
            "Ign:16 https://developer.download.nvidia.com/compute/cuda/repos/ubuntu1804/x86_64  Packages\n",
            "Get:16 https://developer.download.nvidia.com/compute/cuda/repos/ubuntu1804/x86_64  Packages [443 kB]\n",
            "Get:17 http://ppa.launchpad.net/c2d4u.team/c2d4u4.0+/ubuntu bionic/main Sources [1,691 kB]\n",
            "Get:18 http://archive.ubuntu.com/ubuntu bionic-updates/main amd64 Packages [2,208 kB]\n",
            "Get:19 http://ppa.launchpad.net/c2d4u.team/c2d4u4.0+/ubuntu bionic/main amd64 Packages [865 kB]\n",
            "Get:20 http://archive.ubuntu.com/ubuntu bionic-updates/universe amd64 Packages [2,131 kB]\n",
            "Get:21 http://archive.ubuntu.com/ubuntu bionic-updates/restricted amd64 Packages [252 kB]\n",
            "Get:22 http://archive.ubuntu.com/ubuntu bionic-updates/multiverse amd64 Packages [54.3 kB]\n",
            "Get:23 http://ppa.launchpad.net/graphics-drivers/ppa/ubuntu bionic/main amd64 Packages [46.5 kB]\n",
            "Fetched 11.1 MB in 3s (3,431 kB/s)\n",
            "Reading package lists... Done\n",
            "Building dependency tree       \n",
            "Reading state information... Done\n",
            "64 packages can be upgraded. Run 'apt list --upgradable' to see them.\n",
            "Reading package lists... Done\n",
            "Building dependency tree       \n",
            "Reading state information... Done\n",
            "The following additional packages will be installed:\n",
            "  chromium-browser chromium-browser-l10n chromium-codecs-ffmpeg-extra\n",
            "Suggested packages:\n",
            "  webaccounts-chromium-extension unity-chromium-extension adobe-flashplugin\n",
            "The following NEW packages will be installed:\n",
            "  chromium-browser chromium-browser-l10n chromium-chromedriver\n",
            "  chromium-codecs-ffmpeg-extra\n",
            "0 upgraded, 4 newly installed, 0 to remove and 64 not upgraded.\n",
            "Need to get 80.2 MB of archives.\n",
            "After this operation, 272 MB of additional disk space will be used.\n",
            "Get:1 http://archive.ubuntu.com/ubuntu bionic-updates/universe amd64 chromium-codecs-ffmpeg-extra amd64 86.0.4240.198-0ubuntu0.18.04.1 [1,126 kB]\n",
            "Get:2 http://archive.ubuntu.com/ubuntu bionic-updates/universe amd64 chromium-browser amd64 86.0.4240.198-0ubuntu0.18.04.1 [71.0 MB]\n",
            "Get:3 http://archive.ubuntu.com/ubuntu bionic-updates/universe amd64 chromium-browser-l10n all 86.0.4240.198-0ubuntu0.18.04.1 [3,585 kB]\n",
            "Get:4 http://archive.ubuntu.com/ubuntu bionic-updates/universe amd64 chromium-chromedriver amd64 86.0.4240.198-0ubuntu0.18.04.1 [4,492 kB]\n",
            "Fetched 80.2 MB in 3s (24.3 MB/s)\n",
            "Selecting previously unselected package chromium-codecs-ffmpeg-extra.\n",
            "(Reading database ... 144793 files and directories currently installed.)\n",
            "Preparing to unpack .../chromium-codecs-ffmpeg-extra_86.0.4240.198-0ubuntu0.18.04.1_amd64.deb ...\n",
            "Unpacking chromium-codecs-ffmpeg-extra (86.0.4240.198-0ubuntu0.18.04.1) ...\n",
            "Selecting previously unselected package chromium-browser.\n",
            "Preparing to unpack .../chromium-browser_86.0.4240.198-0ubuntu0.18.04.1_amd64.deb ...\n",
            "Unpacking chromium-browser (86.0.4240.198-0ubuntu0.18.04.1) ...\n",
            "Selecting previously unselected package chromium-browser-l10n.\n",
            "Preparing to unpack .../chromium-browser-l10n_86.0.4240.198-0ubuntu0.18.04.1_all.deb ...\n",
            "Unpacking chromium-browser-l10n (86.0.4240.198-0ubuntu0.18.04.1) ...\n",
            "Selecting previously unselected package chromium-chromedriver.\n",
            "Preparing to unpack .../chromium-chromedriver_86.0.4240.198-0ubuntu0.18.04.1_amd64.deb ...\n",
            "Unpacking chromium-chromedriver (86.0.4240.198-0ubuntu0.18.04.1) ...\n",
            "Setting up chromium-codecs-ffmpeg-extra (86.0.4240.198-0ubuntu0.18.04.1) ...\n",
            "Setting up chromium-browser (86.0.4240.198-0ubuntu0.18.04.1) ...\n",
            "update-alternatives: using /usr/bin/chromium-browser to provide /usr/bin/x-www-browser (x-www-browser) in auto mode\n",
            "update-alternatives: using /usr/bin/chromium-browser to provide /usr/bin/gnome-www-browser (gnome-www-browser) in auto mode\n",
            "Setting up chromium-chromedriver (86.0.4240.198-0ubuntu0.18.04.1) ...\n",
            "Setting up chromium-browser-l10n (86.0.4240.198-0ubuntu0.18.04.1) ...\n",
            "Processing triggers for hicolor-icon-theme (0.17-2) ...\n",
            "Processing triggers for mime-support (3.60ubuntu1) ...\n",
            "Processing triggers for man-db (2.8.3-2ubuntu0.1) ...\n"
          ],
          "name": "stdout"
        }
      ]
    },
    {
      "cell_type": "markdown",
      "metadata": {
        "id": "jhNnPXVaXMNo"
      },
      "source": [
        "#Install Mecab"
      ]
    },
    {
      "cell_type": "code",
      "metadata": {
        "id": "utCowLQMfxLb",
        "colab": {
          "base_uri": "https://localhost:8080/"
        },
        "outputId": "5b495e3d-f427-4ab3-eae4-e1a7902a6340"
      },
      "source": [
        "!git clone https://github.com/SOMJANG/Mecab-ko-for-Google-Colab.git"
      ],
      "execution_count": null,
      "outputs": [
        {
          "output_type": "stream",
          "text": [
            "Cloning into 'Mecab-ko-for-Google-Colab'...\n",
            "remote: Enumerating objects: 72, done.\u001b[K\n",
            "remote: Counting objects: 100% (72/72), done.\u001b[K\n",
            "remote: Compressing objects: 100% (67/67), done.\u001b[K\n",
            "remote: Total 72 (delta 31), reused 20 (delta 5), pack-reused 0\u001b[K\n",
            "Unpacking objects: 100% (72/72), done.\n"
          ],
          "name": "stdout"
        }
      ]
    },
    {
      "cell_type": "code",
      "metadata": {
        "id": "xG4hDcRlf39U",
        "colab": {
          "base_uri": "https://localhost:8080/"
        },
        "outputId": "05a8011f-c891-42ea-9707-c4346957db48"
      },
      "source": [
        "cd Mecab-ko-for-Google-Colab"
      ],
      "execution_count": null,
      "outputs": [
        {
          "output_type": "stream",
          "text": [
            "/content/Mecab-ko-for-Google-Colab\n"
          ],
          "name": "stdout"
        }
      ]
    },
    {
      "cell_type": "code",
      "metadata": {
        "id": "Q-K-R54uf8Jp"
      },
      "source": [
        "!bash install_mecab-ko_on_colab190912.sh"
      ],
      "execution_count": null,
      "outputs": []
    },
    {
      "cell_type": "code",
      "metadata": {
        "id": "vqiHTgC-gBrT",
        "colab": {
          "base_uri": "https://localhost:8080/"
        },
        "outputId": "74acb147-157a-4dcf-dcfb-acbd909fb939"
      },
      "source": [
        "cd /content/mecab-ko-dic-2.1.1-20180720"
      ],
      "execution_count": null,
      "outputs": [
        {
          "output_type": "stream",
          "text": [
            "/content/mecab-ko-dic-2.1.1-20180720\n"
          ],
          "name": "stdout"
        }
      ]
    },
    {
      "cell_type": "code",
      "metadata": {
        "id": "ySMPd2Htg7BE",
        "colab": {
          "base_uri": "https://localhost:8080/"
        },
        "outputId": "bf5d5cba-dbf4-4087-9eb0-ca471019a13a"
      },
      "source": [
        "ls user-dic"
      ],
      "execution_count": null,
      "outputs": [
        {
          "output_type": "stream",
          "text": [
            "nnp.csv  person.csv  place.csv  README.md\n"
          ],
          "name": "stdout"
        }
      ]
    },
    {
      "cell_type": "code",
      "metadata": {
        "id": "6Id2Zn9ig8tX"
      },
      "source": [
        "cp \"/content/drive/My Drive/GitHub/2020-2-OSSP1-WhatsUp-5/text_mining/data/nnp.csv\" \"./user-dic/nnp.csv\""
      ],
      "execution_count": null,
      "outputs": []
    },
    {
      "cell_type": "code",
      "metadata": {
        "id": "0f-rBzXRhCj3"
      },
      "source": [
        "# 정상적으로 DRIVE에서 COPY 되었는지 확인\n",
        "with open(\"./user-dic/nnp.csv\", 'r', encoding='utf-8') as f: \n",
        "    file_new = f.readlines() \n",
        "#file_new"
      ],
      "execution_count": null,
      "outputs": []
    },
    {
      "cell_type": "code",
      "metadata": {
        "id": "kbnpq_aehJVz",
        "colab": {
          "base_uri": "https://localhost:8080/"
        },
        "outputId": "bfbc7e74-b857-42a5-c934-33ac308c714a"
      },
      "source": [
        "ls tools"
      ],
      "execution_count": null,
      "outputs": [
        {
          "output_type": "stream",
          "text": [
            "\u001b[0m\u001b[01;32madd-userdic.sh\u001b[0m*  \u001b[01;32mconvert_for_using_store.sh\u001b[0m*  \u001b[01;32mmecab-bestn.sh\u001b[0m*\n"
          ],
          "name": "stdout"
        }
      ]
    },
    {
      "cell_type": "code",
      "metadata": {
        "id": "DS-4ZcX5hLru",
        "colab": {
          "base_uri": "https://localhost:8080/"
        },
        "outputId": "804dcc6b-4925-4899-9e74-e2d8c3434153"
      },
      "source": [
        "!bash ./tools/add-userdic.sh"
      ],
      "execution_count": null,
      "outputs": [
        {
          "output_type": "stream",
          "text": [
            "generating userdic...\n",
            "nnp.csv\n",
            "/content/mecab-ko-dic-2.1.1-20180720/tools/../model.def is not a binary model. reopen it as text mode...\n",
            "reading /content/mecab-ko-dic-2.1.1-20180720/tools/../user-dic/nnp.csv ... \n",
            "done!\n",
            "person.csv\n",
            "/content/mecab-ko-dic-2.1.1-20180720/tools/../model.def is not a binary model. reopen it as text mode...\n",
            "reading /content/mecab-ko-dic-2.1.1-20180720/tools/../user-dic/person.csv ... \n",
            "done!\n",
            "place.csv\n",
            "/content/mecab-ko-dic-2.1.1-20180720/tools/../model.def is not a binary model. reopen it as text mode...\n",
            "reading /content/mecab-ko-dic-2.1.1-20180720/tools/../user-dic/place.csv ... \n",
            "done!\n",
            "test -z \"model.bin matrix.bin char.bin sys.dic unk.dic\" || rm -f model.bin matrix.bin char.bin sys.dic unk.dic\n",
            "/usr/local/libexec/mecab/mecab-dict-index -d . -o . -f UTF-8 -t UTF-8\n",
            "reading ./unk.def ... 13\n",
            "emitting double-array: 100% |###########################################| \n",
            "reading ./Place.csv ... 30303\n",
            "reading ./J.csv ... 416\n",
            "reading ./Person-actor.csv ... 99230\n",
            "reading ./NNG.csv ... 208524\n",
            "reading ./XPN.csv ... 83\n",
            "reading ./VA.csv ... 2360\n",
            "reading ./XSA.csv ... 19\n",
            "reading ./NNB.csv ... 140\n",
            "reading ./user-person.csv ... 1\n",
            "reading ./Wikipedia.csv ... 36762\n",
            "reading ./Hanja.csv ... 125750\n",
            "reading ./NR.csv ... 482\n",
            "reading ./Group.csv ... 3176\n",
            "reading ./Inflect.csv ... 44820\n",
            "reading ./VCN.csv ... 7\n",
            "reading ./Preanalysis.csv ... 5\n",
            "reading ./VX.csv ... 125\n",
            "reading ./CoinedWord.csv ... 148\n",
            "reading ./Foreign.csv ... 11690\n",
            "reading ./NNP.csv ... 2371\n",
            "reading ./NNBC.csv ... 677\n",
            "reading ./IC.csv ... 1305\n",
            "reading ./NP.csv ... 342\n",
            "reading ./EP.csv ... 51\n",
            "reading ./MM.csv ... 453\n",
            "reading ./Symbol.csv ... 16\n",
            "reading ./Place-address.csv ... 19301\n",
            "reading ./XR.csv ... 3637\n",
            "reading ./MAJ.csv ... 240\n",
            "reading ./XSV.csv ... 23\n",
            "reading ./MAG.csv ... 14242\n",
            "reading ./Person.csv ... 196459\n",
            "reading ./VV.csv ... 7331\n",
            "reading ./NorthKorea.csv ... 3\n",
            "reading ./Place-station.csv ... 1145\n",
            "reading ./ETN.csv ... 14\n",
            "reading ./VCP.csv ... 9\n",
            "reading ./user-place.csv ... 2\n",
            "reading ./ETM.csv ... 133\n",
            "reading ./user-nnp.csv ... 5142\n",
            "reading ./EF.csv ... 1820\n",
            "reading ./XSN.csv ... 124\n",
            "reading ./EC.csv ... 2547\n",
            "emitting double-array: 100% |###########################################| \n",
            "reading ./matrix.def ... 3822x2693\n",
            "emitting matrix      : 100% |###########################################| \n",
            "\n",
            "done!\n",
            "echo To enable dictionary, rewrite /usr/local/etc/mecabrc as \\\"dicdir = /usr/local/lib/mecab/dic/mecab-ko-dic\\\"\n",
            "To enable dictionary, rewrite /usr/local/etc/mecabrc as \"dicdir = /usr/local/lib/mecab/dic/mecab-ko-dic\"\n"
          ],
          "name": "stdout"
        }
      ]
    },
    {
      "cell_type": "code",
      "metadata": {
        "id": "drCtdehnhMz-",
        "colab": {
          "base_uri": "https://localhost:8080/"
        },
        "outputId": "e10be7bd-272b-434e-c16e-a682705f2799"
      },
      "source": [
        "!make install"
      ],
      "execution_count": null,
      "outputs": [
        {
          "output_type": "stream",
          "text": [
            "make[1]: Entering directory '/content/mecab-ko-dic-2.1.1-20180720'\n",
            "make[1]: Nothing to be done for 'install-exec-am'.\n",
            " /bin/mkdir -p '/usr/local/lib/mecab/dic/mecab-ko-dic'\n",
            " /usr/bin/install -c -m 644 model.bin matrix.bin char.bin sys.dic unk.dic left-id.def right-id.def rewrite.def pos-id.def dicrc '/usr/local/lib/mecab/dic/mecab-ko-dic'\n",
            "make[1]: Leaving directory '/content/mecab-ko-dic-2.1.1-20180720'\n"
          ],
          "name": "stdout"
        }
      ]
    },
    {
      "cell_type": "markdown",
      "metadata": {
        "id": "YeQ2Nwmv51jy"
      },
      "source": [
        "#Install Java"
      ]
    },
    {
      "cell_type": "code",
      "metadata": {
        "id": "BRYUI5Sc7BPB",
        "colab": {
          "base_uri": "https://localhost:8080/"
        },
        "outputId": "c983fd4d-a107-41f2-a0d8-51de4da537a9"
      },
      "source": [
        "cd /content"
      ],
      "execution_count": null,
      "outputs": [
        {
          "output_type": "stream",
          "text": [
            "/content\n"
          ],
          "name": "stdout"
        }
      ]
    },
    {
      "cell_type": "code",
      "metadata": {
        "id": "edqTZDgS5XdG",
        "colab": {
          "base_uri": "https://localhost:8080/"
        },
        "outputId": "7dcc188a-93aa-4907-ec6b-ac6a9d7d821f"
      },
      "source": [
        "import os       #importing os to set environment variable\n",
        "def install_java():\n",
        "  !apt-get install -y openjdk-8-jdk-headless -qq > /dev/null      #install openjdk\n",
        "  os.environ[\"JAVA_HOME\"] = \"/usr/lib/jvm/java-8-openjdk-amd64\"     #set environment variable\n",
        "  !java -version       #check java version\n",
        "install_java()"
      ],
      "execution_count": null,
      "outputs": [
        {
          "output_type": "stream",
          "text": [
            "openjdk version \"11.0.9.1\" 2020-11-04\n",
            "OpenJDK Runtime Environment (build 11.0.9.1+1-Ubuntu-0ubuntu1.18.04)\n",
            "OpenJDK 64-Bit Server VM (build 11.0.9.1+1-Ubuntu-0ubuntu1.18.04, mixed mode, sharing)\n"
          ],
          "name": "stdout"
        }
      ]
    },
    {
      "cell_type": "markdown",
      "metadata": {
        "id": "LQ1QmHxz57Kj"
      },
      "source": [
        "#Install Mallet"
      ]
    },
    {
      "cell_type": "code",
      "metadata": {
        "id": "nmAxaqWr5efU"
      },
      "source": [
        "!wget http://mallet.cs.umass.edu/dist/mallet-2.0.8.zip\n",
        "!unzip mallet-2.0.8.zip"
      ],
      "execution_count": null,
      "outputs": []
    },
    {
      "cell_type": "code",
      "metadata": {
        "id": "ansT6jvc6PYY",
        "colab": {
          "base_uri": "https://localhost:8080/"
        },
        "outputId": "52ce5f3e-9ea6-437c-f132-9856339d5b38"
      },
      "source": [
        "# Gensim\n",
        "import gensim\n",
        "import gensim.corpora as corpora\n",
        "from gensim.utils import simple_preprocess\n",
        "from gensim.models.wrappers import LdaMallet\n",
        "from gensim.models.coherencemodel import CoherenceModel\n",
        "from gensim import similarities\n",
        "\n",
        "\n",
        "# spacy for lemmatization\n",
        "import spacy\n",
        " \n",
        "# Plotting tools\n",
        "from pprint import pprint\n",
        "import pyLDAvis\n",
        "import pyLDAvis.gensim # don't skip this\n",
        "import matplotlib.pyplot as plt\n",
        "%matplotlib inline\n",
        " \n",
        " \n",
        "# Enable logging for gensim - optional\n",
        "import logging\n",
        "logging.basicConfig(format='%(asctime)s : %(levelname)s : %(message)s', level=logging.ERROR)\n",
        " \n",
        "import warnings\n",
        "warnings.filterwarnings(\"ignore\",category=DeprecationWarning)\n",
        "import os.path\n",
        "import re\n",
        "import glob\n",
        "\n",
        "import nltk\n",
        "nltk.download('stopwords')\n",
        "\n",
        "from nltk.tokenize import RegexpTokenizer\n",
        "from nltk.corpus import stopwords"
      ],
      "execution_count": null,
      "outputs": [
        {
          "output_type": "stream",
          "text": [
            "[nltk_data] Downloading package stopwords to /root/nltk_data...\n",
            "[nltk_data]   Unzipping corpora/stopwords.zip.\n"
          ],
          "name": "stdout"
        }
      ]
    },
    {
      "cell_type": "markdown",
      "metadata": {
        "id": "SBimfz-d0Mr1"
      },
      "source": [
        "# Data Load\n"
      ]
    },
    {
      "cell_type": "code",
      "metadata": {
        "id": "0yt8u0zvLqZ1",
        "colab": {
          "base_uri": "https://localhost:8080/"
        },
        "outputId": "c3f66d6e-c2aa-4f6f-c2c0-012468c37791"
      },
      "source": [
        "cd \"/content/drive/My Drive/GitHub/2020-2-OSSP1-WhatsUp-5/text_mining\""
      ],
      "execution_count": null,
      "outputs": [
        {
          "output_type": "stream",
          "text": [
            "/content/drive/My Drive/GitHub/2020-2-OSSP1-WhatsUp-5/text_mining\n"
          ],
          "name": "stdout"
        }
      ]
    },
    {
      "cell_type": "code",
      "metadata": {
        "id": "Bt6Azx9330Ev"
      },
      "source": [
        "from utils import get_stopword, df_to_dic, to_syn, preprocess, get_nouns_from_csv"
      ],
      "execution_count": null,
      "outputs": []
    },
    {
      "cell_type": "code",
      "metadata": {
        "id": "FVG4sNz6YhAK"
      },
      "source": [
        "from konlpy.tag import Mecab\n",
        "import pandas as pd\n",
        "from tqdm import tqdm"
      ],
      "execution_count": null,
      "outputs": []
    },
    {
      "cell_type": "code",
      "metadata": {
        "id": "AepHxUVr3Guy"
      },
      "source": [
        "from health_chosun_crawling import get_article"
      ],
      "execution_count": null,
      "outputs": []
    },
    {
      "cell_type": "code",
      "metadata": {
        "colab": {
          "base_uri": "https://localhost:8080/"
        },
        "id": "HQyMhJL24ZLL",
        "outputId": "55944093-b923-4608-bc3a-bcb72c60babc"
      },
      "source": [
        "# Load Data\n",
        "# data = get_article()\n",
        "data = pd.read_csv(\"data/article.csv\", encoding=\"utf-8\")\n",
        "stopword = get_stopword()\n",
        "df = pd.read_csv(\"data/disease_list.csv\", encoding=\"utf-8\")\n",
        "synonym = df_to_dic(df=df)\n",
        "\n",
        "# load article data and extract nouns\n",
        "word_list = get_nouns_from_csv(data=data, stopword=stopword, synonym=synonym)"
      ],
      "execution_count": null,
      "outputs": [
        {
          "output_type": "stream",
          "text": [
            "100%|██████████| 1014/1014 [00:02<00:00, 378.17it/s]"
          ],
          "name": "stderr"
        },
        {
          "output_type": "stream",
          "text": [
            "\n",
            "Noun Extraction Complete\n"
          ],
          "name": "stdout"
        },
        {
          "output_type": "stream",
          "text": [
            "\n"
          ],
          "name": "stderr"
        }
      ]
    },
    {
      "cell_type": "code",
      "metadata": {
        "id": "FAmGlCZ78VP_"
      },
      "source": [
        "word_list"
      ],
      "execution_count": null,
      "outputs": []
    },
    {
      "cell_type": "markdown",
      "metadata": {
        "id": "JR_BnuPvz9X-"
      },
      "source": [
        "진행\n",
        "# 새 섹션"
      ]
    },
    {
      "cell_type": "code",
      "metadata": {
        "id": "iHYzxR5GcVVH"
      },
      "source": [
        "# create Dictionary\n",
        "id2word=corpora.Dictionary(word_list)\n",
        "id2word.filter_extremes(no_below=20)\n",
        "\n",
        "# create Corpus\n",
        "texts = word_list\n",
        "\n",
        "# Term Document Frequency\n",
        "corpus=[id2word.doc2bow(text) for text in texts]\n",
        "\n",
        "## Human readable format of corpus (term-frequency)\n",
        "# [[(id2word[id], freq) for id, freq in cp] for cp in corpus[:1]]"
      ],
      "execution_count": null,
      "outputs": []
    },
    {
      "cell_type": "code",
      "metadata": {
        "id": "xOT_oyO_6GGE"
      },
      "source": [
        "os.environ['MALLET_HOME'] = '/content/mallet-2.0.8'\n",
        "mallet_path = '/content/mallet-2.0.8/bin/mallet'"
      ],
      "execution_count": null,
      "outputs": []
    },
    {
      "cell_type": "code",
      "metadata": {
        "colab": {
          "base_uri": "https://localhost:8080/"
        },
        "id": "aNzRIwmW7pmv",
        "outputId": "02598a98-ccc9-4c25-91ac-9d6967242028"
      },
      "source": [
        "ls"
      ],
      "execution_count": null,
      "outputs": [
        {
          "output_type": "stream",
          "text": [
            "chosun_crawler.ipynb       \u001b[0m\u001b[01;34mMecab\u001b[0m/            \u001b[01;34mSim\u001b[0m/                  utils.py\n",
            "\u001b[01;34mdata\u001b[0m/                      \u001b[01;34moutput\u001b[0m/           tf_analyze.ipynb\n",
            "health_chosun_crawling.py  \u001b[01;34m__pycache__\u001b[0m/      tf_analyze.py\n",
            "LDAutils.py                requirements.txt  Trend_Analysis.ipynb\n"
          ],
          "name": "stdout"
        }
      ]
    },
    {
      "cell_type": "code",
      "metadata": {
        "id": "RFILcfXo7q_R"
      },
      "source": [
        "from LDAutils import compute_coherence_values, coherence_graph"
      ],
      "execution_count": null,
      "outputs": []
    },
    {
      "cell_type": "code",
      "metadata": {
        "id": "eGYHs4LnpOCI"
      },
      "source": [
        "#최적의 토픽 수를 찾기 위해 여러 토픽 수로 일관성을 계산하고 비교\n",
        "def compute_coherence_values(mallet_path, id2word, corpus, texts, limit, start=8, step=2,):\n",
        "    coherence_values = []\n",
        "    model_list = []\n",
        "    topic_cnt = 0\n",
        "\n",
        "    for num_topics in tqdm(range(start, limit, step)):\n",
        "        model = gensim.models.wrappers.LdaMallet(mallet_path, corpus=corpus, num_topics=num_topics, id2word=id2word)\n",
        "        model_list.append(model)\n",
        "        coherencemodel = CoherenceModel(model=model, texts=texts, dictionary=id2word, coherence='c_v')\n",
        "        coherence_values.append(coherencemodel.get_coherence())\n",
        "\n",
        "    for idx, value in enumerate(coherence_values[1:]):\n",
        "        if coherence_values[topic_cnt] < value:\n",
        "            topic_cnt = idx\n",
        "        else:\n",
        "            break\n",
        "\n",
        "    return model_list, coherence_values, topic_cnt"
      ],
      "execution_count": null,
      "outputs": []
    },
    {
      "cell_type": "code",
      "metadata": {
        "id": "zG9T3YY2CJGE"
      },
      "source": [
        "limit=31; start=6; step=3;"
      ],
      "execution_count": null,
      "outputs": []
    },
    {
      "cell_type": "code",
      "metadata": {
        "colab": {
          "base_uri": "https://localhost:8080/"
        },
        "id": "9kJ3WLFHrQ5C",
        "outputId": "8f02b836-8b30-4d79-e0c0-301c25d9176c"
      },
      "source": [
        "model_list, coherence_values, topic_idx = compute_coherence_values(mallet_path=mallet_path ,id2word=id2word, \n",
        "                                                        corpus=corpus, texts=texts, \n",
        "                                                        start=start, limit=limit, step=step)"
      ],
      "execution_count": null,
      "outputs": [
        {
          "output_type": "stream",
          "text": [
            "100%|██████████| 9/9 [06:12<00:00, 41.40s/it]\n"
          ],
          "name": "stderr"
        }
      ]
    },
    {
      "cell_type": "code",
      "metadata": {
        "id": "8Roq65ZgFwIR"
      },
      "source": [
        "cat LDAutils.py"
      ],
      "execution_count": null,
      "outputs": []
    },
    {
      "cell_type": "code",
      "metadata": {
        "id": "5vksZbowF-85"
      },
      "source": [
        "!apt update"
      ],
      "execution_count": null,
      "outputs": []
    },
    {
      "cell_type": "code",
      "metadata": {
        "colab": {
          "base_uri": "https://localhost:8080/",
          "height": 298
        },
        "id": "9r9z12EMFiN9",
        "outputId": "cb352399-b42b-4ff4-b5a8-8b9ce9faf094"
      },
      "source": [
        "from LDAutils import show_coherence_graph, save_coherence_graph"
      ],
      "execution_count": null,
      "outputs": [
        {
          "output_type": "error",
          "ename": "ImportError",
          "evalue": "ignored",
          "traceback": [
            "\u001b[0;31m---------------------------------------------------------------------------\u001b[0m",
            "\u001b[0;31mImportError\u001b[0m                               Traceback (most recent call last)",
            "\u001b[0;32m<ipython-input-104-1f66982743b2>\u001b[0m in \u001b[0;36m<module>\u001b[0;34m()\u001b[0m\n\u001b[0;32m----> 1\u001b[0;31m \u001b[0;32mfrom\u001b[0m \u001b[0mLDAutils\u001b[0m \u001b[0;32mimport\u001b[0m \u001b[0mshow_coherence_graph\u001b[0m\u001b[0;34m,\u001b[0m \u001b[0msave_coherence_graph\u001b[0m\u001b[0;34m\u001b[0m\u001b[0;34m\u001b[0m\u001b[0m\n\u001b[0m",
            "\u001b[0;31mImportError\u001b[0m: cannot import name 'show_coherence_graph'",
            "",
            "\u001b[0;31m---------------------------------------------------------------------------\u001b[0;32m\nNOTE: If your import is failing due to a missing package, you can\nmanually install dependencies using either !pip or !apt.\n\nTo view examples of installing some common dependencies, click the\n\"Open Examples\" button below.\n\u001b[0;31m---------------------------------------------------------------------------\u001b[0m\n"
          ]
        }
      ]
    },
    {
      "cell_type": "code",
      "metadata": {
        "colab": {
          "base_uri": "https://localhost:8080/",
          "height": 214
        },
        "id": "bjyxD7FF-scU",
        "outputId": "910914a5-e3b4-43bb-c803-6122f5ba71e0"
      },
      "source": [
        "# 일관성 점수 그래프 보기\n",
        "show_coherence_graph(start=start, limit=limit, step=step, \n",
        "                coherence_values=coherence_values, path=\"output/coherence_values.png\")"
      ],
      "execution_count": null,
      "outputs": [
        {
          "output_type": "error",
          "ename": "NameError",
          "evalue": "ignored",
          "traceback": [
            "\u001b[0;31m---------------------------------------------------------------------------\u001b[0m",
            "\u001b[0;31mNameError\u001b[0m                                 Traceback (most recent call last)",
            "\u001b[0;32m<ipython-input-98-e2814a400125>\u001b[0m in \u001b[0;36m<module>\u001b[0;34m()\u001b[0m\n\u001b[1;32m      1\u001b[0m \u001b[0;31m# 일관성 점수 그래프 보기\u001b[0m\u001b[0;34m\u001b[0m\u001b[0;34m\u001b[0m\u001b[0;34m\u001b[0m\u001b[0m\n\u001b[0;32m----> 2\u001b[0;31m show_coherence_graph(start=start, limit=limit, step=step, \n\u001b[0m\u001b[1;32m      3\u001b[0m                 coherence_values=coherence_values, path=\"output/coherence_values.png\")\n",
            "\u001b[0;31mNameError\u001b[0m: name 'show_coherence_graph' is not defined"
          ]
        }
      ]
    },
    {
      "cell_type": "code",
      "metadata": {
        "id": "AIVf6b7qEgOP"
      },
      "source": [
        "def mallet_to_lda(mallet_model):\n",
        "    '''\n",
        "    :param mallet_model: mallet's LDA model\n",
        "    :return: gensim's LDA model\n",
        "    change mallet's LDA model to gensim's LDA model.\n",
        "    To ensure successful visualization in pyLDAvis.\n",
        "    '''\n",
        "    model_gensim = gensim.models.LdaModel(\n",
        "        id2word=mallet_model.id2word, num_topics=mallet_model.num_topics,\n",
        "        alpha=mallet_model.alpha, eta=0, iterations=1000,\n",
        "        gamma_threshold=0.001,\n",
        "        dtype=np.float32\n",
        "    )\n",
        "    model_gensim.sync_state()\n",
        "    model_gensim.state.sstats = mallet_model.wordtopics\n",
        "    return model_gensim"
      ],
      "execution_count": null,
      "outputs": []
    },
    {
      "cell_type": "code",
      "metadata": {
        "colab": {
          "base_uri": "https://localhost:8080/",
          "height": 298
        },
        "id": "b5_yo2IBDD-R",
        "outputId": "bf061bde-5081-49fd-8810-b5e4fdb0bcdd"
      },
      "source": [
        "from LDAutils import mallet_to_lda"
      ],
      "execution_count": null,
      "outputs": [
        {
          "output_type": "error",
          "ename": "ImportError",
          "evalue": "ignored",
          "traceback": [
            "\u001b[0;31m---------------------------------------------------------------------------\u001b[0m",
            "\u001b[0;31mImportError\u001b[0m                               Traceback (most recent call last)",
            "\u001b[0;32m<ipython-input-87-c59393061256>\u001b[0m in \u001b[0;36m<module>\u001b[0;34m()\u001b[0m\n\u001b[0;32m----> 1\u001b[0;31m \u001b[0;32mfrom\u001b[0m \u001b[0mLDAutils\u001b[0m \u001b[0;32mimport\u001b[0m \u001b[0mmallet_to_lda\u001b[0m\u001b[0;34m\u001b[0m\u001b[0;34m\u001b[0m\u001b[0m\n\u001b[0m",
            "\u001b[0;31mImportError\u001b[0m: cannot import name 'mallet_to_lda'",
            "",
            "\u001b[0;31m---------------------------------------------------------------------------\u001b[0;32m\nNOTE: If your import is failing due to a missing package, you can\nmanually install dependencies using either !pip or !apt.\n\nTo view examples of installing some common dependencies, click the\n\"Open Examples\" button below.\n\u001b[0;31m---------------------------------------------------------------------------\u001b[0m\n"
          ]
        }
      ]
    },
    {
      "cell_type": "code",
      "metadata": {
        "id": "TZCzVGB03Q0J"
      },
      "source": [
        "ldamallet = model_list[topic_idx]\n",
        "model = mallet_to_lda(ldamallet)"
      ],
      "execution_count": null,
      "outputs": []
    },
    {
      "cell_type": "code",
      "metadata": {
        "id": "MmJT3OJI3o2Q",
        "colab": {
          "base_uri": "https://localhost:8080/"
        },
        "outputId": "8add2e48-bc1b-4c5f-9a24-01d1956dfef8"
      },
      "source": [
        "pprint(model.show_topics(formatted=True))"
      ],
      "execution_count": null,
      "outputs": [
        {
          "output_type": "stream",
          "text": [
            "[(1,\n",
            "  '0.171*\"증상\" + 0.119*\"질환\" + 0.075*\"원인\" + 0.050*\"발생\" + 0.041*\"신경\" + 0.036*\"검사\" '\n",
            "  '+ 0.032*\"의심\" + 0.029*\"진단\" + 0.029*\"이상\" + 0.026*\"지속\"'),\n",
            " (12,\n",
            "  '0.055*\"음식\" + 0.054*\"섭취\" + 0.052*\"지방\" + 0.041*\"비타민\" + 0.034*\"단백질\" + '\n",
            "  '0.025*\"성분\" + 0.024*\"식사\" + 0.023*\"소변\" + 0.023*\"도움\" + 0.022*\"부족\"'),\n",
            " (6,\n",
            "  '0.226*\"연구\" + 0.125*\"결과\" + 0.048*\"교수\" + 0.037*\"분석\" + 0.035*\"미국\" + 0.035*\"그룹\" '\n",
            "  '+ 0.025*\"대상\" + 0.022*\"최근\" + 0.021*\"대학\" + 0.020*\"게재\"'),\n",
            " (9,\n",
            "  '0.128*\"코로나-19\" + 0.082*\"감염\" + 0.061*\"백신\" + 0.060*\"독감\" + 0.058*\"접종\" + '\n",
            "  '0.054*\"예방\" + 0.047*\"바이러스\" + 0.041*\"사망\" + 0.023*\"사례\" + 0.022*\"호흡기\"'),\n",
            " (15,\n",
            "  '0.081*\"확진\" + 0.076*\"국내\" + 0.047*\"코로나-19\" + 0.045*\"확인\" + 0.038*\"발생\" + '\n",
            "  '0.037*\"지역\" + 0.032*\"중앙\" + 0.032*\"유입\" + 0.031*\"서울\" + 0.031*\"해외\"'),\n",
            " (0,\n",
            "  '0.034*\"방법\" + 0.030*\"부위\" + 0.030*\"제거\" + 0.026*\"치아\" + 0.025*\"세균\" + 0.024*\"구강\" '\n",
            "  '+ 0.023*\"교정\" + 0.020*\"과정\" + 0.020*\"중요\" + 0.019*\"손상\"'),\n",
            " (13,\n",
            "  '0.050*\"개발\" + 0.045*\"임상\" + 0.038*\"치료제\" + 0.031*\"백신\" + 0.030*\"바이오\" + '\n",
            "  '0.024*\"진단\" + 0.024*\"국내\" + 0.023*\"코로나-19\" + 0.023*\"생산\" + 0.018*\"시험\"'),\n",
            " (17,\n",
            "  '0.060*\"증가\" + 0.047*\"이상\" + 0.037*\"조사\" + 0.035*\"건강\" + 0.029*\"관련\" + 0.026*\"국민\" '\n",
            "  '+ 0.022*\"진료\" + 0.020*\"의원\" + 0.018*\"보험\" + 0.018*\"소아\"'),\n",
            " (8,\n",
            "  '0.047*\"마스크\" + 0.043*\"착용\" + 0.040*\"관리\" + 0.031*\"단계\" + 0.026*\"시설\" + '\n",
            "  '0.024*\"방역\" + 0.022*\"이상\" + 0.019*\"상황\" + 0.019*\"거리\" + 0.017*\"수칙\"'),\n",
            " (3,\n",
            "  '0.061*\"기능\" + 0.055*\"장애\" + 0.047*\"정상\" + 0.040*\"수면\" + 0.035*\"치매\" + '\n",
            "  '0.032*\"우울증\" + 0.030*\"스트레스\" + 0.026*\"아이\" + 0.026*\"임신\" + 0.026*\"상태\"')]\n"
          ],
          "name": "stdout"
        }
      ]
    },
    {
      "cell_type": "code",
      "metadata": {
        "id": "yV5veMjy7tFZ",
        "colab": {
          "base_uri": "https://localhost:8080/"
        },
        "outputId": "b7f05d52-e230-4ee4-a3d2-96933c11046e"
      },
      "source": [
        "# Compute Coherence Score\n",
        "#coherence_model_ldamallet = CoherenceModel(model=ldamallet, texts=texts, dictionary=id2word, coherence='c_v')\n",
        "#coherence_ldamallet = coherence_model_ldamallet.get_coherence()\n",
        "#print('\\nCoherence Score: ', coherence_ldamallet)\n",
        "print('\\nCoherence Score: ', coherence_values[topic_idx])\n"
      ],
      "execution_count": null,
      "outputs": [
        {
          "output_type": "stream",
          "text": [
            "\n",
            "Coherence Score:  0.5654036283988272\n"
          ],
          "name": "stdout"
        }
      ]
    },
    {
      "cell_type": "code",
      "metadata": {
        "id": "jwWdW75v7vHU",
        "colab": {
          "base_uri": "https://localhost:8080/",
          "height": 982
        },
        "outputId": "0cb3a1cd-854d-4a0a-bca6-0fb08aae9cdb"
      },
      "source": [
        "pyLDAvis.enable_notebook()\n",
        "vis = pyLDAvis.gensim.prepare(model, corpus, id2word, R=15)\n",
        "pyLDAvis.display(vis)"
      ],
      "execution_count": null,
      "outputs": [
        {
          "output_type": "stream",
          "text": [
            "/usr/local/lib/python3.6/dist-packages/pyLDAvis/_prepare.py:223: RuntimeWarning: divide by zero encountered in log\n",
            "  kernel = (topic_given_term * np.log((topic_given_term.T / topic_proportion).T))\n",
            "/usr/local/lib/python3.6/dist-packages/pyLDAvis/_prepare.py:240: RuntimeWarning: divide by zero encountered in log\n",
            "  log_lift = np.log(topic_term_dists / term_proportion)\n",
            "/usr/local/lib/python3.6/dist-packages/pyLDAvis/_prepare.py:241: RuntimeWarning: divide by zero encountered in log\n",
            "  log_ttd = np.log(topic_term_dists)\n"
          ],
          "name": "stderr"
        },
        {
          "output_type": "execute_result",
          "data": {
            "text/html": [
              "\n",
              "<link rel=\"stylesheet\" type=\"text/css\" href=\"https://cdn.rawgit.com/bmabey/pyLDAvis/files/ldavis.v1.0.0.css\">\n",
              "\n",
              "\n",
              "<div id=\"ldavis_el551398558591138002059325469\"></div>\n",
              "<script type=\"text/javascript\">\n",
              "\n",
              "var ldavis_el551398558591138002059325469_data = {\"mdsDat\": {\"x\": [-0.1239579280635385, -0.009869906151500636, 0.08815603354472588, -0.14124456898289608, 0.011928638813401634, -0.2636272411097463, 0.16773981137463292, -0.09376268252517238, 0.07079907316370891, 0.12844315760582106, -0.1968269819224167, -0.18438853524386903, 0.1518689779236588, 0.19041257230135283, -0.024044632483044396, 0.1632772861932298, 0.17053131308416358, -0.10543438752251123], \"y\": [-0.17549186674386216, 0.16287141393942742, -0.14026659650153878, 0.0673929244884696, -0.12193502077956304, 0.1405054172735174, 0.04799725781835036, -0.16159625168245778, -0.2778838424344334, 0.09090487265957768, 0.06047505528008334, 0.1254604924753508, 0.025133134216650373, 0.14080073146413, -0.17574939223953942, 0.11029416767957069, 0.057084119907929796, 0.024003383178337293], \"topics\": [1, 2, 3, 4, 5, 6, 7, 8, 9, 10, 11, 12, 13, 14, 15, 16, 17, 18], \"cluster\": [1, 1, 1, 1, 1, 1, 1, 1, 1, 1, 1, 1, 1, 1, 1, 1, 1, 1], \"Freq\": [6.078369501608357, 5.807684347159172, 5.8036887304190845, 5.687270956439999, 5.6305532650907475, 5.6019759882042575, 5.585539821329593, 5.57569119337572, 5.543121456434304, 5.539786171936662, 5.504440270262241, 5.4225425930010855, 5.4123817658116815, 5.412025066972736, 5.410927725008502, 5.379113178250228, 5.3162829682643995, 5.2886050004312315]}, \"tinfo\": {\"Term\": [\"\\uc5f0\\uad6c\", \"\\uce58\\ub8cc\", \"\\ud658\\uc790\", \"\\uc99d\\uc0c1\", \"\\uc9c8\\ud658\", \"\\ucf54\\ub85c\\ub098-19\", \"\\uc6b4\\ub3d9\", \"\\uacb0\\uacfc\", \"\\ud1b5\\uc99d\", \"\\uc0ac\\uc6a9\", \"\\uc218\\uc220\", \"\\ud6a8\\uacfc\", \"\\ubc1c\\uc0dd\", \"\\uadfc\\uc721\", \"\\ud608\\uad00\", \"\\uac8c\\uc7ac\", \"\\ucd94\\uce21\", \"\\uc5f0\\uad00\", \"\\uc5f0\\uad6c\\uc18c\", \"\\uadf8\\ub8f9\", \"\\ud559\\uc220\\uc9c0\", \"\\uc81c\\uc2dc\", \"\\uc800\\ub110\", \"\\uc601\\uad6d\", \"\\ub17c\\ubb38\", \"\\uc5f0\\uad6c\", \"\\ub300\\ud559\", \"\\uacfc\\ud559\", \"\\uadfc\\uac70\", \"\\ubc15\\uc0ac\", \"\\uacb0\\uacfc\", \"\\uce21\\uc815\", \"\\ubd84\\uc11d\", \"\\ub300\\uc0c1\\uc790\", \"\\ubbf8\\uad6d\", \"\\uad50\\uc218\", \"\\uad6d\\uc81c\", \"\\ub300\\uc0c1\", \"\\ucd5c\\uadfc\", \"\\uc704\\ud5d8\", \"\\ubc1c\\ud45c\", \"\\ubb3c\\uc9c8\", \"\\ubcf4\\uad00\", \"\\uc778\\uccb4\", \"\\ud22c\\uc5ec\", \"\\uc870\\ub9ac\", \"\\uc2a4\\ub9c8\\ud2b8\\ud3f0\", \"\\ud22c\\uc57d\", \"\\ud6a8\\ub2a5\", \"\\uc9c4\\ud1b5\\uc81c\", \"\\uc0ac\\uc6a9\", \"\\ubd80\\uc791\\uc6a9\", \"\\uae30\\uc804\", \"\\ud30c\\uad34\", \"\\ubc1c\\ud604\", \"\\uc720\\ub3c4\", \"\\uad6c\\ub9e4\", \"\\uc138\\ud3ec\", \"\\ud6a8\\uacfc\", \"\\uba74\\uc5ed\", \"\\ub178\\ucd9c\", \"\\uc2dd\\ud488\", \"\\uc5b5\\uc81c\", \"\\ubc18\\uc751\", \"\\uc548\\uc804\", \"\\uc81c\\ud488\", \"\\ud655\\uc778\", \"\\ud3ec\\ud568\", \"\\uc77c\\uc2dc\", \"\\uc2a4\\ud14c\\ub85c\\uc774\\ub4dc\", \"\\uc591\\uc0c1\", \"\\uc99d\\uc0c1\", \"\\ud638\\uc804\", \"\\uc54c\\ub808\\ub974\\uae30\", \"\\ud638\\ud761\", \"\\uace4\\ub780\", \"\\ub450\\ud1b5\", \"\\ud604\\ud6c8\", \"\\uad6c\\ud1a0\", \"\\ube48\\ub3c4\", \"\\uc99d\\uc138\", \"\\uc758\\uc2ec\", \"\\ucc9c\\uc2dd\", \"\\uc6d0\\uc778\", \"\\uc545\\ud654\", \"\\uc9c8\\ud658\", \"\\uc2e0\\uacbd\", \"\\uc815\\ud655\", \"\\uc9c0\\uc18d\", \"\\ub3d9\\ubc18\", \"\\uc5fc\\uc99d\", \"\\uac80\\uc0ac\", \"\\ubc1c\\uc0dd\", \"\\uc9c4\\ub2e8\", \"\\uc774\\uc0c1\", \"\\uc720\\ubc1c\", \"\\uc2dc\\uc2a4\\ud15c\", \"\\ub370\\uc774\\ud130\", \"\\uc8fc\\uc81c\", \"\\ud5ec\\uc2a4\", \"\\uc218\\uc0c1\", \"\\uc131\\uacfc\", \"\\uc8fc\\ubaa9\", \"\\uae30\\uc5ec\", \"\\uc758\\ub8cc\", \"\\uc81c\\uacf5\", \"\\uc11c\\ube44\\uc2a4\", \"\\ud504\\ub85c\\uadf8\\ub7a8\", \"\\ubc1c\\uc804\", \"\\uad6c\\ucd95\", \"\\uacf5\\uc2dd\", \"\\uad50\\uc721\", \"\\ud559\\uc220\", \"\\ucd5c\\uc120\", \"\\ubd84\\uc57c\", \"\\uc601\\uc0c1\", \"\\uc0b0\\uc5c5\", \"\\uae30\\uc220\", \"\\uc138\\uacc4\", \"\\ud559\\ud68c\", \"\\uc13c\\ud130\", \"\\ubcd1\\uc6d0\", \"\\uc0ac\\uc5c5\", \"\\uae30\\uad00\", \"\\ud65c\\uc6a9\", \"\\ub300\\ud45c\", \"\\ud55c\\uad6d\", \"\\uc11c\\uc6b8\", \"\\uad50\\uc218\", \"\\uc808\\uac1c\", \"\\ub0b4\\uc6d0\", \"\\uce58\\ub8cc\", \"\\uc7ac\\ubc1c\", \"\\uc778\\uacf5\", \"\\uce58\\ub8cc\\ubc95\", \"\\uc644\\uce58\", \"\\uc218\\uc220\", \"\\ubcf4\\uc874\", \"\\ubc94\\uc704\", \"\\ubcf5\\ud569\", \"\\ubcd1\\ud589\", \"\\uc57d\\ubb3c\", \"\\uc808\\uc81c\\uc220\", \"\\ud658\\uc790\", \"\\uc2dc\\ud589\", \"\\uc694\\ubc95\", \"\\uace0\\ub824\", \"\\uad50\\uc218\", \"\\ub0b4\\uacfc\", \"\\uc9c4\\ub2e8\", \"\\ubcd1\\uc6d0\", \"\\uac00\\ub2a5\", \"\\uc81c\\uc57d\", \"\\uc2dc\\ud5d8\", \"\\uc0dd\\uc0b0\", \"\\uc758\\uc57d\\ud488\", \"\\ud56d\\uc6d0\", \"\\uc81c\\uc57d\\uc0ac\", \"\\ucd94\\uc9c4\", \"\\ud655\\ubcf4\", \"\\ud2b8\\ub9ac\", \"\\uce58\\ub8cc\\uc81c\", \"\\uc784\\uc0c1\\uc2dc\\ud5d8\", \"\\uc784\\uc0c1\", \"\\uc2b9\\uc778\", \"\\uc2e0\\uc57d\", \"\\uc720\\ud1b5\", \"\\ubc14\\uc774\\uc624\", \"\\uc2dc\\uc7a5\", \"\\ud5c8\\uac00\", \"\\uae30\\uc5c5\", \"\\uc57d\\ud488\", \"\\uac1c\\ubc1c\", \"\\uae00\\ub85c\\ubc8c\", \"\\ubc31\\uc2e0\", \"\\uc9c4\\ub2e8\", \"\\uad6d\\ub0b4\", \"\\ucf54\\ub85c\\ub098-19\", \"\\ubbf8\\uad6d\", \"\\ub300\\uc0c1\", \"\\uc2dc\\ub825\", \"\\uc18c\\ub9ac\", \"\\uad6c\\uac15\", \"\\ub9c8\\uc9c0\\ub9c9\", \"\\ubcd1\\ubcc0\", \"\\ub0b4\\uc7a5\", \"\\uce58\\uc544\", \"\\ubc29\\ud5a5\", \"\\ub0c4\\uc0c8\", \"\\ubaa8\\uc591\", \"\\ubd80\\ubd84\", \"\\uc81c\\uac70\", \"\\uc5ed\\ub958\", \"\\ud45c\\uba74\", \"\\uad6c\\uc870\", \"\\uad50\\uc815\", \"\\uce58\\uacfc\", \"\\uc138\\uade0\", \"\\uba38\\ub9ac\", \"\\uc0c1\\ucc98\", \"\\uc810\\ub9c9\", \"\\ubc29\\ubc95\", \"\\uacfc\\uc815\", \"\\ubd80\\uc704\", \"\\uc0ac\\uc774\", \"\\uc2dc\\uc791\", \"\\uc190\\uc0c1\", \"\\uc911\\uc694\", \"\\ubcf5\\uc9c0\", \"\\uc9c0\\uc801\", \"\\uc18c\\uc18d\", \"\\uc704\\uc6d0\\ud68c\", \"\\uad6c\\uccb4\", \"\\uad6d\\ubbfc\\uac74\\uac15\\ubcf4\\ud5d8\\uacf5\\ub2e8\", \"\\uc778\\uad6c\", \"\\uc18c\\uc544\", \"\\ud604\\ud669\", \"\\uad6d\\ud68c\", \"\\ubcf4\\ud5d8\", \"\\ucc98\\ubc29\", \"\\uccad\\uc18c\\ub144\", \"\\ubbfc\\uc8fc\\ub2f9\", \"\\uad6d\\ubbfc\", \"\\uc758\\uc6d0\", \"\\uc790\\ub8cc\", \"\\uc57d\\uc81c\", \"\\uc870\\uc0ac\", \"\\uacbd\\uc81c\", \"\\uacbd\\ud5d8\", \"\\uc99d\\uac00\", \"\\uad00\\ub828\", \"\\uc9c4\\ub8cc\", \"\\uc774\\uc0c1\", \"\\uac74\\uac15\", \"\\uae30\\uc900\", \"\\ubcf5\\uc6a9\", \"\\ucd5c\\uadfc\", \"\\ube44\\ub9cc\", \"\\uc9c0\\uc218\", \"\\uc720\\ubcd1\", \"\\ud608\\uc555\", \"\\uc2e0\\uc7a5\", \"\\uc54c\\ucf54\\uc62c\", \"\\ud608\\ub2f9\", \"\\ucf5c\\ub808\\uc2a4\\ud14c\\ub864\", \"\\uc778\\uc290\\ub9b0\", \"\\uacf5\\ubcf5\", \"\\uc2ec\\ud608\", \"\\ub2f9\\ub1e8\\ubcd1\", \"\\ub300\\uc0ac\", \"\\uace0\\ud608\\uc555\", \"\\ub0b4\\ubd84\\ube44\", \"\\uc74c\\uc8fc\", \"\\uc704\\ud5d8\", \"\\uc870\\uc808\", \"\\ub9cc\\uc131\", \"\\uc9c8\\ud658\", \"\\uc774\\uc0c1\", \"\\ud658\\uc790\", \"\\uad00\\ub9ac\", \"\\uc99d\\uac00\", \"\\uc77c\\uad50\\ucc28\", \"\\uaca8\\uc6b8\\ucca0\", \"\\ud608\\uc561\", \"\\uc0b0\\uc18c\", \"\\uc2ec\\uc7a5\", \"\\uc628\\ubab8\", \"\\uc218\\ucd95\", \"\\ub0a0\\uc528\", \"\\uccb4\\uc628\", \"\\uaca8\\uc6b8\", \"\\uac00\\uc744\", \"\\uacc4\\uc808\", \"\\uc8fd\\uc0c1\\uacbd\\ud654\\uc99d\", \"\\ud608\\uc804\", \"\\uae30\\uc628\", \"\\ud608\\uad00\", \"\\ud53c\\ubd80\", \"\\ub1cc\\uc878\\uc911\", \"\\uc815\\ub9e5\", \"\\uc804\\uc2e0\", \"\\uae09\\uc131\", \"\\ub1cc\\ud608\\uad00\", \"\\ubc1c\\uc0dd\", \"\\uac74\\uc870\", \"\\uc0c1\\ud0dc\", \"\\uae30\\ub2a5\", \"\\uc8fc\\uc758\", \"\\uc608\\ubc29\", \"\\uc804\\ubd81\", \"\\ub300\\uad6c\", \"\\uce58\\uba85\\ub960\", \"\\uc911\\uc559\", \"\\ucda9\\ubd81\", \"\\ub204\\uc801\", \"\\uc544\\uc2dc\\uc544\", \"\\ub300\\ucc45\", \"\\uac15\\uc6d0\", \"\\uac80\\uc5ed\", \"\\uaca9\\ub9ac\", \"\\uc778\\ucc9c\", \"\\uacbd\\ubd81\", \"\\uacbd\\ub0a8\", \"\\ub300\\ub959\", \"\\ud655\\uc9c4\", \"\\uc9c0\\uc5ed\", \"\\uc720\\uc785\", \"\\uc911\\uad6d\", \"\\ub098\\uba38\\uc9c0\", \"\\uc804\\ub0a0\", \"\\ub300\\uc804\", \"\\ubcf8\\ubd80\", \"\\ubd80\\uc0b0\", \"\\uc2e0\\uaddc\", \"\\ud574\\uc678\", \"\\uc0ac\\ub9dd\\uc790\", \"\\uad6d\\ub0b4\", \"\\ub300\\ube44\", \"\\uc11c\\uc6b8\", \"\\uc911\\uc99d\", \"\\ud655\\uc778\", \"\\ucf54\\ub85c\\ub098-19\", \"\\ubc1c\\uc0dd\", \"\\ubc1c\\uacac\", \"\\uae30\\uce68\", \"\\uac10\\uc5fc\\ubcd1\", \"\\ubc14\\uc774\\ub7ec\\uc2a4\", \"\\ud3d0\\ub834\", \"\\uc2e0\\uc885\", \"\\ubc1c\\uc5f4\", \"\\uc811\\uc885\", \"\\uac10\\uc5fc\\uc99d\", \"\\ub3c5\\uac10\", \"\\ud310\\uc815\", \"\\ub300\\ud1b5\\ub839\", \"\\uc591\\uc131\", \"\\ubb34\\ub8cc\", \"\\ud56d\\uc0dd\\uc81c\", \"\\uac10\\uc5fc\", \"\\uc0ac\\ub840\", \"\\uc0ac\\ub9dd\", \"\\ucf54\\ub85c\\ub098-19\", \"\\ud638\\ud761\\uae30\", \"\\ubc31\\uc2e0\", \"\\uc608\\ubc29\", \"\\uc720\\ud589\", \"\\ubc18\\uc751\", \"\\ud589\\ub3d9\", \"\\uace0\\ud1b5\", \"\\uc2dd\\uc695\", \"\\uc815\\uc2e0\", \"\\uc0ac\\uace0\", \"\\ud45c\\ud604\", \"\\uce58\\ub9e4\", \"\\ud53c\\uace4\", \"\\uc6b0\\uc6b8\\uc99d\", \"\\uc544\\uc774\", \"\\uc2ec\\ub9ac\", \"\\ubd88\\uc548\", \"\\uc218\\uba74\", \"\\uc784\\uc2e0\", \"\\uae30\\uc5b5\", \"\\uc7a5\\uc560\", \"\\uac10\\uc815\", \"\\uc815\\uc0c1\", \"\\uc6b0\\uc6b8\", \"\\uae30\\ub2a5\", \"\\uc2a4\\ud2b8\\ub808\\uc2a4\", \"\\uc800\\ud558\", \"\\ub178\\uc778\", \"\\ud638\\ub974\\ubaac\", \"\\uc0c1\\ud0dc\", \"\\uae34\\uc7a5\", \"\\uc7a5\\uc2dc\\uac04\", \"\\uc790\\uc138\", \"\\uadfc\\uc721\", \"\\ubc14\\ub2e5\", \"\\ub3d9\\uc791\", \"\\uc5f0\\uace8\", \"\\ubb34\\ub98e\", \"\\ucda9\\uaca9\", \"\\uc88c\\uc6b0\", \"\\uc555\\ub825\", \"\\ubcc0\\ud615\", \"\\uace8\\ubc18\", \"\\uc2a4\\ud2b8\\ub808\\uce6d\", \"\\ud5c8\\ub9ac\", \"\\ud1b5\\uc99d\", \"\\uad00\\uc808\", \"\\ucc99\\ucd94\", \"\\ub2e4\\ub9ac\", \"\\uc5c9\\ub369\\uc774\", \"\\uad00\\uc808\\uc5fc\", \"\\uc5b4\\uae68\", \"\\ubb34\\ub9ac\", \"\\uc190\\uac00\\ub77d\", \"\\ubc1c\\ubaa9\", \"\\ubd80\\uc704\", \"\\uc0c1\\ud0dc\", \"\\uc790\\uad81\", \"\\ucd2c\\uc601\", \"\\uac74\\uac15\\uac80\\uc9c4\", \"\\uac80\\uc9c4\", \"\\uc608\\ud6c4\", \"\\uc554\", \"\\uac04\\uc5fc\", \"\\uc720\\uc804\", \"\\uc774\\uc804\", \"\\ud56d\\uc554\", \"\\uc885\\uc591\", \"\\uc0dd\\uc874\", \"\\uc0dd\\ub9ac\", \"\\uc5ec\\uc131\", \"\\ub0a8\\uc131\", \"\\ud3d0\\uacbd\", \"\\uac80\\uc0ac\", \"\\uc815\\uae30\", \"\\uc8fc\\uae30\", \"\\ubc1c\\uacac\", \"\\uc870\\uae30\", \"\\ubc1c\\uc0dd\", \"\\ucd5c\\uadfc\", \"\\uac00\\ub2a5\", \"\\ud638\\ub974\\ubaac\", \"\\uc870\\uc9c1\", \"\\uc99d\\uac00\", \"\\ud655\\uc778\", \"\\uac10\\uc18c\", \"\\uc12c\\uc720\", \"\\ud569\\uc131\", \"\\uce74\\ud398\\uc778\", \"\\ubcf4\\ucda9\", \"\\uc601\\uc591\\uc18c\", \"\\uc2dd\\uc774\", \"\\ud56d\\uc0b0\", \"\\ud568\\uc720\", \"\\ud568\\ub7c9\", \"\\uc74c\\uc2dd\", \"\\ucc44\\uc18c\", \"\\ucde8\\ub7c9\", \"\\uc18c\\ud654\", \"\\uc18c\\ubcc0\", \"\\ub2e4\\uc774\\uc5b4\\ud2b8\", \"\\ube44\\ud0c0\\ubbfc\", \"\\uc9c0\\ubc29\", \"\\ub2e8\\ubc31\\uc9c8\", \"\\ucee4\\ud53c\", \"\\ud761\\uc218\", \"\\ubc30\\ucd9c\", \"\\uacfc\\uc77c\", \"\\uc12d\\ucde8\", \"\\ubd80\\uc871\", \"\\uc2dd\\uc0ac\", \"\\uc131\\ubd84\", \"\\ubd84\\ube44\", \"\\ub3c4\\uc6c0\", \"\\uc2dd\\ud488\", \"\\uc5fc\\uc99d\", \"\\uac74\\uac15\", \"\\ud69f\\uc218\", \"\\uc0dd\\ud65c\", \"\\uc2e4\\ucc9c\", \"\\uc544\\uce68\", \"\\ucd94\\ucc9c\", \"\\uade0\\ud615\", \"\\ud53c\\ub85c\", \"\\uad50\\uac10\", \"\\uc720\\uc0b0\\uc18c\", \"\\uadfc\\ub825\", \"\\uc608\\ubc29\\ubc95\", \"\\uc6b4\\ub3d9\", \"\\uc77c\\uc815\", \"\\uac15\\ub3c4\", \"\\uc800\\ub141\", \"\\uc2e0\\uccb4\", \"\\uc2b5\\uad00\", \"\\ub2a5\\ub825\", \"\\uc77c\\uc0c1\", \"\\ud65c\\ub3d9\", \"\\uc720\\uc9c0\", \"\\uac74\\uac15\", \"\\uc911\\uc694\", \"\\ub3c4\\uc6c0\", \"\\uc790\\uadf9\", \"\\uc2e0\\uacbd\", \"\\ud6a8\\uacfc\", \"\\uc608\\ubc29\", \"\\uac70\\ub9ac\", \"\\ucc28\\ub2e8\", \"\\ub9c8\\uc2a4\\ud06c\", \"\\uc18c\\ub3c5\", \"\\ub450\\uae30\", \"\\uc790\\uc81c\", \"\\uc9c0\\uce68\", \"\\uc2e4\\ub0b4\", \"\\uc624\\ud6c4\", \"\\uc2dc\\uc124\", \"\\uc57c\\uc678\", \"\\uc870\\uce58\", \"\\uc624\\uc804\", \"\\uc218\\uce59\", \"\\ud559\\uad50\", \"\\ucc29\\uc6a9\", \"\\uc704\\uc0dd\", \"\\uc758\\ubb34\", \"\\uac1c\\uc778\", \"\\uc804\\uad6d\", \"\\ub2e8\\uacc4\", \"\\uad00\\ub9ac\", \"\\ubc29\\uc5ed\", \"\\ubc29\\ubb38\", \"\\uc0c1\\ud669\", \"\\uc774\\uc0c1\", \"\\uc774\\uc6a9\", \"\\uc77c\\ubc18\", \"\\uac00\\ub2a5\"], \"Freq\": [1382.0, 1247.0, 1353.0, 996.0, 1175.0, 1091.0, 715.0, 839.0, 677.0, 647.0, 580.0, 765.0, 960.0, 468.0, 466.0, 121.6758359764124, 23.936230028146706, 77.79274759147678, 56.84854631684843, 214.4287273354809, 96.74226303042627, 33.909659206541164, 56.84854631684843, 60.8379179882062, 73.803375920119, 1380.3225982897932, 127.6598934834491, 56.84854631684843, 30.917630453022827, 56.84854631684843, 761.9699892293368, 58.84323215252732, 226.39684234955422, 84.77414801635291, 215.42607025332032, 295.213503680476, 97.7396059482657, 154.58815226511413, 132.6466080726463, 112.6997497158574, 88.7635196877107, 249.98159820918457, 71.59667133175675, 71.59667133175675, 124.99079910459228, 57.03463648461978, 70.38316842782868, 48.540116157123215, 63.102151004260186, 87.3722090828218, 646.7970477936669, 123.77729620066421, 47.326613253195134, 42.47260163748282, 31.551075502130093, 43.6861045414109, 41.25909873355474, 262.1166272484654, 547.2898096715643, 167.4634007420751, 115.28277587316765, 185.6659443009963, 84.94520327496564, 117.7097816810238, 114.06927296923956, 110.42876425745533, 189.30645301278054, 86.15870617889371, 36.987656761646015, 27.300413324072064, 21.135803863797726, 996.9054155757926, 45.79424170489507, 92.46914190411505, 96.87243437573959, 48.436217187869794, 73.97531352329203, 45.79424170489507, 35.22633977299621, 31.703705795696585, 36.987656761646015, 187.58025929120478, 25.53909633542225, 438.56793017380284, 128.57614017143615, 695.7202105166751, 239.53911045637423, 84.5432154551909, 151.4732610238837, 95.99177588141468, 134.7407496317105, 211.35803863797724, 288.85598613856894, 168.2057724160569, 168.2057724160569, 108.32099480196335, 90.8120878453915, 96.3158507451122, 28.436108315223606, 72.46621151298918, 34.85716503156441, 29.35340213184372, 29.35340213184372, 46.781984647625926, 371.5039957311471, 69.71433006312883, 55.95492281382709, 42.195515564525344, 69.71433006312883, 45.86469083100581, 24.766933048743137, 66.04515479664838, 44.9473970143857, 38.526340298044886, 91.72938166201162, 55.95492281382709, 55.95492281382709, 103.65420127807315, 167.86476844148126, 158.69183027528013, 150.43618592569905, 453.14314541033747, 92.64667547863175, 129.3384281434364, 88.97750021215128, 82.55644349581047, 75.21809296284952, 77.05268059608977, 75.21809296284952, 19.66681326376906, 20.453485794319825, 1247.6626334535094, 86.53397836058387, 68.44051015791634, 71.58720028011938, 55.85374966910413, 578.2043099548104, 30.680228691479737, 23.600175916522872, 26.746866038725923, 24.386848447073636, 193.52144251548756, 66.08049256626406, 1120.2216835042857, 136.0943477852819, 55.06707713855337, 67.65383762736558, 189.58807986273374, 55.85374966910413, 132.1609851325281, 183.29469961832766, 83.38728823838082, 96.91189100324873, 103.42697611271082, 127.8585452731937, 99.35504791929701, 54.56383779174508, 54.56383779174508, 19.545255328386297, 51.306295237014034, 68.40839364935205, 216.6265798896148, 66.77962237198652, 253.27393363033912, 83.06733514564176, 57.82138034647613, 34.204196824676025, 169.39221284601456, 81.43856386827625, 61.07892290120718, 99.35504791929701, 54.56383779174508, 281.7774309842358, 80.62417822959347, 175.90729795547668, 137.63117293738685, 134.3736303826558, 131.11608782792473, 101.7982048353453, 83.88172078432453, 70.51187737030943, 92.12035591927524, 131.92544798315961, 27.29492027237785, 56.86441723412052, 84.15933750649837, 145.5729081193485, 43.2169570979316, 90.98306757459284, 61.41357061285016, 92.12035591927524, 166.0440983236319, 54.5898405447557, 70.51187737030943, 50.04068716602605, 127.37629460442997, 59.13899392348534, 138.74917805125406, 89.84577922991042, 70.51187737030943, 89.84577922991042, 189.9271535619625, 113.72883446824105, 168.31867501299675, 98.9440859873697, 106.90510440014658, 106.90510440014658, 110.31696943419381, 56.29286827041612, 29.627825405482167, 29.627825405482167, 63.206027531695284, 31.603013765847642, 26.665042864933948, 78.01994023443638, 100.73460637863937, 30.615419585664903, 29.627825405482167, 101.7222005588221, 78.01994023443638, 76.0447518740709, 23.702260324385733, 146.16393866704536, 109.62295400028401, 93.82144711736018, 37.52857884694408, 205.41958947800967, 35.5533904865786, 88.88347621644651, 335.78202126213125, 161.96544554996916, 123.44927252284236, 260.72486356824305, 197.51883603654778, 96.78422965790841, 88.88347621644651, 97.77182383809114, 161.4322146495131, 49.299658366018974, 86.99939711650407, 182.69873394465856, 46.399678462135505, 93.76601689223216, 162.39887461747426, 89.89937702038755, 62.832897917475165, 37.6997387504851, 170.13215436116354, 410.83048638349146, 234.898372214561, 147.89897509805692, 31.899778942718157, 57.99959807766938, 426.29704587086997, 127.59911577087263, 139.19903538640654, 479.46334410873357, 231.99839231067753, 232.9650522786387, 102.46595660388257, 95.69933682815449, 54.15841660481703, 41.207490894969474, 432.0899759558228, 67.10934231466457, 279.033581203079, 28.256565185121925, 88.30176620350602, 107.13947632692064, 70.64141296280482, 70.64141296280482, 97.72062126521332, 41.207490894969474, 54.15841660481703, 72.99612672823164, 78.88291114179871, 465.05596867179844, 394.41455570899353, 253.13172978338395, 64.75462854923775, 105.96211944420723, 105.96211944420723, 81.23762490722554, 250.77701601795712, 85.9470524380792, 123.62247268490843, 121.26775891948161, 103.6074056787804, 89.47912308621943, 60.43099923083337, 54.06984141706144, 55.66013087050442, 178.11241878561415, 44.52810469640354, 130.40373518232465, 74.74360431182022, 101.77852502035094, 55.66013087050442, 52.479551963618455, 89.05620939280708, 117.68141955478077, 54.06984141706144, 58.84070977739039, 52.479551963618455, 446.87133641747835, 205.14733949414486, 174.93183987872817, 124.04257736855271, 87.46591993936408, 77.92418321870619, 71.56302540493425, 146.3066297167545, 62.02128868427636, 93.82707775313602, 170.16097151839924, 143.1260508098685, 421.4267051623906, 159.02894534429834, 171.75126097184219, 133.5843140892106, 246.49486528366245, 262.39775981809225, 208.32791840103084, 133.5843140892106, 106.02442465986041, 90.3512488405767, 256.30252222122783, 75.60002454007439, 27.658545563441844, 59.004897202009275, 314.38546790445565, 23.970739488316266, 326.3708376486138, 54.395139608102305, 73.75612150251159, 46.09757593906975, 31.34635163856743, 52.551236570539515, 448.06843812775793, 122.61955199792553, 225.87812210144176, 697.917299717516, 119.85369744158135, 331.9025467613022, 294.102534491265, 65.45855783347905, 66.38050935226043, 94.98639869877718, 36.448269268135434, 54.12015739814049, 122.59872390191009, 61.851608455017704, 38.65725528438607, 191.07729040567972, 27.6123252031329, 175.61438829192525, 142.4795980481658, 43.07522731688733, 83.94146861752404, 215.37613658443667, 141.37510504004047, 57.43363642251644, 299.3176052019607, 69.58305951189492, 254.03339186882272, 68.4785665037696, 332.4523954457202, 161.25597918629617, 122.59872390191009, 119.28524487753414, 115.9717658531582, 139.16611902378983, 56.988340406944836, 51.71164222111661, 163.577643760675, 468.5707989015465, 40.10290621229451, 62.26503859277307, 49.60096294678532, 162.52230412350934, 50.65630258395097, 26.38349092914113, 32.715528752135, 32.715528752135, 47.490283672454034, 84.42717097325162, 225.84268235344805, 677.5280470603442, 280.7203434860616, 211.06792743312903, 204.73588961013516, 100.25726553073629, 97.09124661923936, 93.92522770774242, 87.59318988474855, 61.20969895560742, 100.25726553073629, 98.146586256405, 99.20192589357065, 82.15341701932702, 49.47876252300377, 47.611639408928156, 116.69519462972588, 30.80753138224763, 281.93559022541774, 44.81095473781474, 79.35273234821359, 55.08013186523062, 56.94725497930622, 89.62190947562948, 72.81780144894894, 73.75136300598676, 434.1061240225802, 269.7992899839262, 64.41574743560868, 323.94586029211905, 75.61848612006236, 69.08355522079772, 134.4328642134442, 79.35273234821359, 189.51299607867483, 125.09724864306615, 122.29656397195272, 87.75478636155387, 80.2862939052514, 94.28971726081852, 89.62190947562948, 81.21985546228922, 73.38072683885603, 26.937228839580065, 42.72801815933389, 44.58575807930493, 54.80332763914565, 70.59411695889948, 30.652708679522146, 68.73637703892844, 28.794968759551104, 296.3095172353807, 61.30541735904429, 45.51462803929045, 105.89117543834922, 121.68196475810306, 39.012538319391815, 221.07105047655364, 278.66098799565583, 182.98738211714735, 77.09620667879811, 71.522986918885, 66.8786371189574, 50.15897783921805, 294.4517773154097, 118.8953548781465, 130.97066435795824, 135.61501415788584, 96.60247583849403, 121.68196475810306, 107.74891535832026, 92.88699599855194, 104.9623054783637, 31.77965044642851, 356.5279534458698, 50.648817898995446, 134.07040032087028, 33.76587859933029, 82.42846834542395, 73.49044165736593, 35.75210675223207, 32.7727645228794, 71.50421350446415, 24.827851911272273, 715.0421350446416, 57.60061643415168, 38.73144898158475, 38.73144898158475, 144.0015410853792, 198.62281529017818, 60.57995866350434, 122.1530314034596, 181.73987599051304, 153.9326818498881, 280.0581695591513, 165.8500507672988, 152.9395677734372, 100.30452172153998, 139.03597070312475, 136.05662847377207, 95.33895133928554, 98.73522023781888, 58.14407414004889, 250.1292246024745, 74.59994417968538, 51.56172612419431, 61.43524814797619, 44.979378108339716, 73.50288617704294, 34.008798081915394, 139.32636633558886, 58.14407414004889, 47.17349411362458, 55.94995813476403, 87.76464021139455, 50.464668121551874, 230.38218055491072, 61.43524814797619, 53.75584212947917, 68.01759616383079, 55.94995813476403, 164.5587003963648, 211.73219450998937, 125.06461230123725, 85.57052420610971, 102.02639424574618, 115.19109027745536, 74.59994417968538, 70.21171216911564, 71.30877017175808], \"Total\": [1382.0, 1247.0, 1353.0, 996.0, 1175.0, 1091.0, 715.0, 839.0, 677.0, 647.0, 580.0, 765.0, 960.0, 468.0, 466.0, 121.6758359764124, 23.936230028146706, 77.79274759147678, 56.84854631684843, 214.4287273354809, 96.74226303042627, 33.909659206541164, 56.84854631684843, 60.8379179882062, 73.803375920119, 1382.597174979158, 128.5771873000692, 57.83614049703117, 31.73201609170559, 59.12312300621325, 839.9358968406282, 62.70987202437195, 269.85098627759476, 93.99366320416686, 320.86478380044986, 560.0196765060592, 124.34112663024908, 256.4566081863303, 435.9463556386429, 657.5549644880335, 218.52089344589024, 249.98159820918457, 71.59667133175675, 71.59667133175675, 124.99079910459228, 57.03463648461978, 70.38316842782868, 48.540116157123215, 63.102151004260186, 87.3722090828218, 647.7846419738497, 124.95465308337762, 48.43110626132045, 43.52794127464846, 32.33774803268086, 44.78316254405333, 42.363591741680054, 285.33837624810343, 765.0869946240621, 226.46829794408438, 150.31693358686067, 293.41485965931656, 107.2380823146181, 184.09029103328425, 175.98269634582127, 179.65154354549014, 588.0316106298533, 160.75883384134772, 36.987656761646015, 27.300413324072064, 21.135803863797726, 996.9054155757926, 45.79424170489507, 92.46914190411505, 96.87243437573959, 48.436217187869794, 75.11260186797443, 46.76090167285623, 36.33083278112153, 35.6596024126957, 41.69708429249967, 216.297077502463, 29.528468006780034, 515.6819024939252, 156.3833343120611, 1175.1835546254088, 378.57508115949895, 111.29008149391683, 246.75051171322625, 153.02471399112292, 259.4510960151029, 535.3038989300962, 960.6737558672995, 437.9979304859719, 974.1776676304931, 278.32919473417917, 90.8120878453915, 96.3158507451122, 28.436108315223606, 72.46621151298918, 34.85716503156441, 29.35340213184372, 29.35340213184372, 46.781984647625926, 371.5039957311471, 69.71433006312883, 55.95492281382709, 42.195515564525344, 69.71433006312883, 45.86469083100581, 24.766933048743137, 66.04515479664838, 44.9473970143857, 38.526340298044886, 92.54376730069438, 56.88379277381261, 57.0922111585095, 110.16928638753524, 197.73170762087906, 194.86223607210715, 185.00413555685307, 788.9915601263101, 109.04887257358976, 185.17892245574075, 109.33714117922034, 227.4356151088063, 118.32089326408854, 248.80394156793196, 560.0196765060592, 19.66681326376906, 20.453485794319825, 1247.6626334535094, 86.53397836058387, 68.44051015791634, 71.58720028011938, 55.85374966910413, 580.3149892291417, 32.70667321838645, 25.954889681949698, 30.818794232139734, 28.3593047528772, 226.11205046151795, 79.15035436479336, 1353.1867357829244, 169.44636293243914, 83.1002162094269, 114.72512725266695, 560.0196765060592, 100.32010819531733, 437.9979304859719, 788.9915601263101, 494.82822791462934, 96.91189100324873, 103.42697611271082, 127.8585452731937, 99.35504791929701, 54.56383779174508, 54.56383779174508, 19.545255328386297, 51.306295237014034, 68.40839364935205, 216.6265798896148, 66.77962237198652, 253.27393363033912, 83.06733514564176, 57.82138034647613, 34.204196824676025, 169.39221284601456, 81.43856386827625, 61.07892290120718, 100.27234173591712, 54.56383779174508, 313.88271456593986, 94.38358547889521, 507.80984471677885, 437.9979304859719, 588.8229129433705, 1091.431147363533, 320.86478380044986, 256.4566081863303, 70.51187737030943, 92.12035591927524, 131.92544798315961, 27.29492027237785, 56.86441723412052, 84.15933750649837, 145.5729081193485, 43.2169570979316, 90.98306757459284, 61.41357061285016, 92.12035591927524, 166.0440983236319, 54.5898405447557, 70.51187737030943, 50.04068716602605, 128.16296713498073, 59.13899392348534, 141.1761838591102, 90.77464918989594, 71.43382888909083, 100.06334878975113, 310.2965411841932, 155.9243500327664, 298.2538971026639, 153.06200512726724, 212.72775373004197, 264.07563204765665, 386.0870052955123, 56.29286827041612, 29.627825405482167, 29.627825405482167, 63.206027531695284, 31.603013765847642, 26.665042864933948, 78.01994023443638, 100.73460637863937, 30.615419585664903, 29.627825405482167, 101.7222005588221, 78.01994023443638, 76.0447518740709, 23.702260324385733, 147.26843167517066, 110.62029691812346, 96.57332856722053, 38.66586719162649, 268.25219330189475, 36.650448489221034, 107.76361694966481, 525.7710753511043, 258.2346333919355, 185.90107231284105, 974.1776676304931, 725.1695429700769, 244.39097655597044, 177.70885277411082, 435.9463556386429, 161.4322146495131, 49.299658366018974, 86.99939711650407, 182.69873394465856, 46.399678462135505, 93.76601689223216, 162.39887461747426, 89.89937702038755, 62.832897917475165, 37.6997387504851, 170.13215436116354, 412.04398928741955, 236.11187511848908, 153.78575951162398, 35.21325796709411, 67.53894043569206, 657.5549644880335, 180.59618754364993, 206.1290809550993, 1175.1835546254088, 974.1776676304931, 1353.1867357829244, 394.9456235863231, 525.7710753511043, 54.15841660481703, 41.207490894969474, 432.0899759558228, 67.10934231466457, 279.033581203079, 28.256565185121925, 88.30176620350602, 107.13947632692064, 70.64141296280482, 70.64141296280482, 97.72062126521332, 41.207490894969474, 54.15841660481703, 72.99612672823164, 78.88291114179871, 466.0226286397596, 395.3812156769547, 253.13172978338395, 64.75462854923775, 130.99087872429487, 131.77676197008628, 94.49154100472933, 960.6737558672995, 122.34027946791633, 444.350047371462, 517.1890371472879, 272.84455708896525, 587.0026276658026, 60.43099923083337, 54.06984141706144, 55.66013087050442, 178.11241878561415, 44.52810469640354, 130.40373518232465, 74.74360431182022, 101.77852502035094, 55.66013087050442, 52.479551963618455, 89.05620939280708, 117.68141955478077, 54.06984141706144, 58.84070977739039, 52.479551963618455, 446.87133641747835, 205.14733949414486, 174.93183987872817, 124.04257736855271, 87.46591993936408, 77.92418321870619, 71.56302540493425, 147.4036877193969, 62.02128868427636, 94.74437156975614, 183.00308495108087, 156.03337207280802, 588.8229129433705, 186.25008850382946, 248.80394156793196, 174.3207332967211, 588.0316106298533, 1091.431147363533, 960.6737558672995, 268.80385083320556, 106.02442465986041, 90.3512488405767, 256.30252222122783, 75.60002454007439, 27.658545563441844, 59.004897202009275, 314.38546790445565, 23.970739488316266, 326.3708376486138, 54.395139608102305, 74.57050714119435, 47.08517011925249, 32.33946571501832, 57.2002779675194, 490.5433147587211, 134.4706821601184, 294.16482129881973, 1091.431147363533, 150.57132151556945, 507.80984471677885, 587.0026276658026, 79.72031186783066, 184.09029103328425, 94.98639869877718, 36.448269268135434, 54.12015739814049, 122.59872390191009, 61.851608455017704, 38.65725528438607, 191.07729040567972, 27.6123252031329, 175.61438829192525, 142.4795980481658, 43.07522731688733, 83.94146861752404, 215.37613658443667, 141.37510504004047, 57.43363642251644, 300.4548935466431, 69.58305951189492, 267.3018441328921, 69.615854848452, 517.1890371472879, 222.62261038035126, 170.20249406111557, 188.41683749032586, 219.58158565093126, 444.350047371462, 56.988340406944836, 51.71164222111661, 163.577643760675, 468.5707989015465, 40.10290621229451, 62.26503859277307, 49.60096294678532, 162.52230412350934, 50.65630258395097, 26.38349092914113, 32.715528752135, 32.715528752135, 47.490283672454034, 84.42717097325162, 225.84268235344805, 677.5280470603442, 280.7203434860616, 211.06792743312903, 204.73588961013516, 100.25726553073629, 97.09124661923936, 93.92522770774242, 87.59318988474855, 61.20969895560742, 101.17921704951769, 298.2538971026639, 444.350047371462, 82.15341701932702, 49.47876252300377, 47.611639408928156, 116.69519462972588, 30.80753138224763, 281.93559022541774, 44.81095473781474, 79.35273234821359, 55.08013186523062, 56.94725497930622, 89.62190947562948, 72.81780144894894, 73.75136300598676, 434.1061240225802, 269.7992899839262, 65.38240740356983, 535.3038989300962, 87.21840573559624, 80.00781006175752, 268.80385083320556, 108.45961597859181, 960.6737558672995, 435.9463556386429, 494.82822791462934, 219.58158565093126, 137.34110398176784, 525.7710753511043, 588.0316106298533, 257.61608714432197, 73.38072683885603, 26.937228839580065, 42.72801815933389, 44.58575807930493, 54.80332763914565, 70.59411695889948, 30.652708679522146, 68.73637703892844, 28.794968759551104, 296.3095172353807, 61.30541735904429, 45.51462803929045, 105.89117543834922, 121.68196475810306, 39.012538319391815, 221.07105047655364, 279.4476605262066, 183.90933363592873, 77.09620667879811, 71.522986918885, 66.8786371189574, 50.15897783921805, 334.0848360018171, 135.32857433348616, 164.76327640340838, 202.35767387393025, 170.48660855494762, 357.75001716861, 293.41485965931656, 259.4510960151029, 725.1695429700769, 31.77965044642851, 356.5279534458698, 50.648817898995446, 134.07040032087028, 33.76587859933029, 82.42846834542395, 73.49044165736593, 35.75210675223207, 32.7727645228794, 71.50421350446415, 24.827851911272273, 715.0421350446416, 57.60061643415168, 38.73144898158475, 38.73144898158475, 152.95663839059478, 217.12718772160432, 65.46627249560092, 145.70097992186692, 248.6604141517014, 275.08355702545066, 725.1695429700769, 386.0870052955123, 357.75001716861, 167.5648082099262, 378.57508115949895, 765.0869946240621, 587.0026276658026, 98.73522023781888, 58.14407414004889, 250.1292246024745, 74.59994417968538, 51.56172612419431, 61.43524814797619, 44.979378108339716, 73.50288617704294, 34.008798081915394, 139.32636633558886, 58.14407414004889, 47.17349411362458, 55.94995813476403, 87.76464021139455, 50.464668121551874, 231.48667356303602, 61.43524814797619, 53.75584212947917, 69.00519034401353, 56.87190965354543, 228.17027853408413, 394.9456235863231, 231.61400568191715, 123.43883946208064, 192.59004181555676, 974.1776676304931, 203.83895033290133, 163.85064538086186, 494.82822791462934], \"Category\": [\"Default\", \"Default\", \"Default\", \"Default\", \"Default\", \"Default\", \"Default\", \"Default\", \"Default\", \"Default\", \"Default\", \"Default\", \"Default\", \"Default\", \"Default\", \"Topic1\", \"Topic1\", \"Topic1\", \"Topic1\", \"Topic1\", \"Topic1\", \"Topic1\", \"Topic1\", \"Topic1\", \"Topic1\", \"Topic1\", \"Topic1\", \"Topic1\", \"Topic1\", \"Topic1\", \"Topic1\", \"Topic1\", \"Topic1\", \"Topic1\", \"Topic1\", \"Topic1\", \"Topic1\", \"Topic1\", \"Topic1\", \"Topic1\", \"Topic1\", \"Topic2\", \"Topic2\", \"Topic2\", \"Topic2\", \"Topic2\", \"Topic2\", \"Topic2\", \"Topic2\", \"Topic2\", \"Topic2\", \"Topic2\", \"Topic2\", \"Topic2\", \"Topic2\", \"Topic2\", \"Topic2\", \"Topic2\", \"Topic2\", \"Topic2\", \"Topic2\", \"Topic2\", \"Topic2\", \"Topic2\", \"Topic2\", \"Topic2\", \"Topic2\", \"Topic2\", \"Topic3\", \"Topic3\", \"Topic3\", \"Topic3\", \"Topic3\", \"Topic3\", \"Topic3\", \"Topic3\", \"Topic3\", \"Topic3\", \"Topic3\", \"Topic3\", \"Topic3\", \"Topic3\", \"Topic3\", \"Topic3\", \"Topic3\", \"Topic3\", \"Topic3\", \"Topic3\", \"Topic3\", \"Topic3\", \"Topic3\", \"Topic3\", \"Topic3\", \"Topic3\", \"Topic3\", \"Topic3\", \"Topic4\", \"Topic4\", \"Topic4\", \"Topic4\", \"Topic4\", \"Topic4\", \"Topic4\", \"Topic4\", \"Topic4\", \"Topic4\", \"Topic4\", \"Topic4\", \"Topic4\", \"Topic4\", \"Topic4\", \"Topic4\", \"Topic4\", \"Topic4\", \"Topic4\", \"Topic4\", \"Topic4\", \"Topic4\", \"Topic4\", \"Topic4\", \"Topic4\", \"Topic4\", \"Topic4\", \"Topic4\", \"Topic4\", \"Topic4\", \"Topic4\", \"Topic4\", \"Topic4\", \"Topic5\", \"Topic5\", \"Topic5\", \"Topic5\", \"Topic5\", \"Topic5\", \"Topic5\", \"Topic5\", \"Topic5\", \"Topic5\", \"Topic5\", \"Topic5\", \"Topic5\", \"Topic5\", \"Topic5\", \"Topic5\", \"Topic5\", \"Topic5\", \"Topic5\", \"Topic5\", \"Topic5\", \"Topic5\", \"Topic5\", \"Topic6\", \"Topic6\", \"Topic6\", \"Topic6\", \"Topic6\", \"Topic6\", \"Topic6\", \"Topic6\", \"Topic6\", \"Topic6\", \"Topic6\", \"Topic6\", \"Topic6\", \"Topic6\", \"Topic6\", \"Topic6\", \"Topic6\", \"Topic6\", \"Topic6\", \"Topic6\", \"Topic6\", \"Topic6\", \"Topic6\", \"Topic6\", \"Topic6\", \"Topic6\", \"Topic6\", \"Topic6\", \"Topic7\", \"Topic7\", \"Topic7\", \"Topic7\", \"Topic7\", \"Topic7\", \"Topic7\", \"Topic7\", \"Topic7\", \"Topic7\", \"Topic7\", \"Topic7\", \"Topic7\", \"Topic7\", \"Topic7\", \"Topic7\", \"Topic7\", \"Topic7\", \"Topic7\", \"Topic7\", \"Topic7\", \"Topic7\", \"Topic7\", \"Topic7\", \"Topic7\", \"Topic7\", \"Topic7\", \"Topic7\", \"Topic8\", \"Topic8\", \"Topic8\", \"Topic8\", \"Topic8\", \"Topic8\", \"Topic8\", \"Topic8\", \"Topic8\", \"Topic8\", \"Topic8\", \"Topic8\", \"Topic8\", \"Topic8\", \"Topic8\", \"Topic8\", \"Topic8\", \"Topic8\", \"Topic8\", \"Topic8\", \"Topic8\", \"Topic8\", \"Topic8\", \"Topic8\", \"Topic8\", \"Topic8\", \"Topic8\", \"Topic8\", \"Topic8\", \"Topic9\", \"Topic9\", \"Topic9\", \"Topic9\", \"Topic9\", \"Topic9\", \"Topic9\", \"Topic9\", \"Topic9\", \"Topic9\", \"Topic9\", \"Topic9\", \"Topic9\", \"Topic9\", \"Topic9\", \"Topic9\", \"Topic9\", \"Topic9\", \"Topic9\", \"Topic9\", \"Topic9\", \"Topic9\", \"Topic9\", \"Topic9\", \"Topic10\", \"Topic10\", \"Topic10\", \"Topic10\", \"Topic10\", \"Topic10\", \"Topic10\", \"Topic10\", \"Topic10\", \"Topic10\", \"Topic10\", \"Topic10\", \"Topic10\", \"Topic10\", \"Topic10\", \"Topic10\", \"Topic10\", \"Topic10\", \"Topic10\", \"Topic10\", \"Topic10\", \"Topic10\", \"Topic10\", \"Topic10\", \"Topic10\", \"Topic10\", \"Topic10\", \"Topic10\", \"Topic11\", \"Topic11\", \"Topic11\", \"Topic11\", \"Topic11\", \"Topic11\", \"Topic11\", \"Topic11\", \"Topic11\", \"Topic11\", \"Topic11\", \"Topic11\", \"Topic11\", \"Topic11\", \"Topic11\", \"Topic11\", \"Topic11\", \"Topic11\", \"Topic11\", \"Topic11\", \"Topic11\", \"Topic11\", \"Topic11\", \"Topic11\", \"Topic11\", \"Topic11\", \"Topic11\", \"Topic11\", \"Topic11\", \"Topic11\", \"Topic11\", \"Topic11\", \"Topic11\", \"Topic11\", \"Topic11\", \"Topic12\", \"Topic12\", \"Topic12\", \"Topic12\", \"Topic12\", \"Topic12\", \"Topic12\", \"Topic12\", \"Topic12\", \"Topic12\", \"Topic12\", \"Topic12\", \"Topic12\", \"Topic12\", \"Topic12\", \"Topic12\", \"Topic12\", \"Topic12\", \"Topic12\", \"Topic12\", \"Topic12\", \"Topic12\", \"Topic12\", \"Topic13\", \"Topic13\", \"Topic13\", \"Topic13\", \"Topic13\", \"Topic13\", \"Topic13\", \"Topic13\", \"Topic13\", \"Topic13\", \"Topic13\", \"Topic13\", \"Topic13\", \"Topic13\", \"Topic13\", \"Topic13\", \"Topic13\", \"Topic13\", \"Topic13\", \"Topic13\", \"Topic13\", \"Topic13\", \"Topic13\", \"Topic13\", \"Topic13\", \"Topic14\", \"Topic14\", \"Topic14\", \"Topic14\", \"Topic14\", \"Topic14\", \"Topic14\", \"Topic14\", \"Topic14\", \"Topic14\", \"Topic14\", \"Topic14\", \"Topic14\", \"Topic14\", \"Topic14\", \"Topic14\", \"Topic14\", \"Topic14\", \"Topic14\", \"Topic14\", \"Topic14\", \"Topic14\", \"Topic14\", \"Topic14\", \"Topic14\", \"Topic14\", \"Topic14\", \"Topic15\", \"Topic15\", \"Topic15\", \"Topic15\", \"Topic15\", \"Topic15\", \"Topic15\", \"Topic15\", \"Topic15\", \"Topic15\", \"Topic15\", \"Topic15\", \"Topic15\", \"Topic15\", \"Topic15\", \"Topic15\", \"Topic15\", \"Topic15\", \"Topic15\", \"Topic15\", \"Topic15\", \"Topic15\", \"Topic15\", \"Topic15\", \"Topic15\", \"Topic15\", \"Topic15\", \"Topic15\", \"Topic15\", \"Topic16\", \"Topic16\", \"Topic16\", \"Topic16\", \"Topic16\", \"Topic16\", \"Topic16\", \"Topic16\", \"Topic16\", \"Topic16\", \"Topic16\", \"Topic16\", \"Topic16\", \"Topic16\", \"Topic16\", \"Topic16\", \"Topic16\", \"Topic16\", \"Topic16\", \"Topic16\", \"Topic16\", \"Topic16\", \"Topic16\", \"Topic16\", \"Topic16\", \"Topic16\", \"Topic16\", \"Topic16\", \"Topic16\", \"Topic16\", \"Topic16\", \"Topic17\", \"Topic17\", \"Topic17\", \"Topic17\", \"Topic17\", \"Topic17\", \"Topic17\", \"Topic17\", \"Topic17\", \"Topic17\", \"Topic17\", \"Topic17\", \"Topic17\", \"Topic17\", \"Topic17\", \"Topic17\", \"Topic17\", \"Topic17\", \"Topic17\", \"Topic17\", \"Topic17\", \"Topic17\", \"Topic17\", \"Topic17\", \"Topic17\", \"Topic17\", \"Topic17\", \"Topic17\", \"Topic18\", \"Topic18\", \"Topic18\", \"Topic18\", \"Topic18\", \"Topic18\", \"Topic18\", \"Topic18\", \"Topic18\", \"Topic18\", \"Topic18\", \"Topic18\", \"Topic18\", \"Topic18\", \"Topic18\", \"Topic18\", \"Topic18\", \"Topic18\", \"Topic18\", \"Topic18\", \"Topic18\", \"Topic18\", \"Topic18\", \"Topic18\", \"Topic18\", \"Topic18\", \"Topic18\", \"Topic18\", \"Topic18\"], \"logprob\": [15.0, 14.0, 13.0, 12.0, 11.0, 10.0, 9.0, 8.0, 7.0, 6.0, 5.0, 4.0, 3.0, 2.0, 1.0, -3.9159, -5.5419, -4.3633, -4.6769, -3.3493, -4.1453, -5.1936, -4.6769, -4.6091, -4.4159, -1.4872, -3.8679, -4.6769, -5.286, -4.6769, -2.0814, -4.6424, -3.295, -4.2773, -3.3447, -3.0296, -4.135, -3.6765, -3.8296, -3.9926, -4.2313, -3.1504, -4.4007, -4.4007, -3.8435, -4.6281, -4.4178, -4.7894, -4.527, -4.2016, -2.1997, -3.8533, -4.8147, -4.9229, -5.2201, -4.8947, -4.9519, -3.103, -2.3668, -3.551, -3.9244, -3.4478, -4.2297, -3.9035, -3.9349, -3.9674, -3.4284, -4.2156, -5.0605, -5.3642, -5.6201, -1.7664, -4.8469, -4.1442, -4.0977, -4.7908, -4.3673, -4.8469, -5.1093, -5.2146, -5.0605, -3.4369, -5.4309, -2.5876, -3.8145, -2.1261, -3.1924, -4.2338, -3.6507, -4.1068, -3.7677, -3.3175, -3.0051, -3.5459, -3.5459, -3.986, -4.142, -4.0832, -5.3031, -4.3677, -5.0995, -5.2714, -5.2714, -4.8053, -2.7332, -4.4064, -4.6263, -4.9085, -4.4064, -4.8251, -5.4413, -4.4605, -4.8453, -4.9995, -4.132, -4.6263, -4.6263, -4.0097, -3.5276, -3.5838, -3.6373, -2.5346, -4.122, -3.7884, -4.1624, -4.2373, -4.3304, -4.3063, -4.3304, -5.6618, -5.6226, -1.5118, -4.1802, -4.4148, -4.3699, -4.618, -2.2809, -5.2172, -5.4795, -5.3544, -5.4467, -3.3754, -4.4499, -1.6195, -3.7274, -4.6322, -4.4264, -3.3959, -4.618, -3.7568, -3.4297, -4.2173, -4.0619, -3.9968, -3.7848, -4.037, -4.6363, -4.6363, -5.663, -4.6979, -4.4102, -3.2575, -4.4343, -3.1012, -4.216, -4.5783, -5.1033, -3.5035, -4.2358, -4.5235, -4.037, -4.6363, -2.9946, -4.2459, -3.4657, -3.7111, -3.7351, -3.7596, -4.0127, -4.2063, -4.377, -4.1097, -3.7505, -5.3261, -4.5921, -4.2, -3.6521, -4.8665, -4.1221, -4.5151, -4.1097, -3.5205, -4.6329, -4.377, -4.7199, -3.7856, -4.5529, -3.7001, -4.1347, -4.377, -4.1347, -3.3861, -3.8989, -3.5069, -4.0382, -3.9608, -3.9608, -3.9294, -4.6004, -5.2423, -5.2423, -4.4846, -5.1777, -5.3476, -4.274, -4.0185, -5.2095, -5.2423, -4.0087, -4.274, -4.2997, -5.4654, -3.6463, -3.9339, -4.0896, -5.0059, -3.3059, -5.06, -4.1437, -2.8145, -3.5436, -3.8152, -3.0675, -3.3452, -4.0585, -4.1437, -4.0484, -3.541, -4.7272, -4.1592, -3.4173, -4.7878, -4.0843, -3.5351, -4.1264, -4.4847, -4.9955, -3.4886, -2.607, -3.166, -3.6286, -5.1625, -4.5647, -2.57, -3.7762, -3.6892, -2.4525, -3.1784, -3.1742, -3.9956, -4.0639, -4.6326, -4.9059, -2.5559, -4.4182, -2.9932, -5.2832, -4.1438, -3.9504, -4.3669, -4.3669, -4.0424, -4.9059, -4.6326, -4.3341, -4.2566, -2.4824, -2.6471, -3.0906, -4.4539, -3.9614, -3.9614, -4.2272, -3.1, -4.1708, -3.8073, -3.8265, -3.9839, -4.1305, -4.5166, -4.6279, -4.5989, -3.4357, -4.822, -3.7475, -4.3041, -3.9953, -4.5989, -4.6577, -4.1289, -3.8501, -4.6279, -4.5433, -4.6577, -2.5159, -3.2944, -3.4537, -3.7975, -4.1469, -4.2624, -4.3476, -3.6324, -4.4907, -4.0767, -3.4814, -3.6544, -2.5745, -3.549, -3.4721, -3.7234, -3.1108, -3.0483, -3.279, -3.7234, -3.9395, -4.0994, -3.0568, -4.2777, -5.2832, -4.5255, -2.8525, -5.4263, -2.8151, -4.6069, -4.3024, -4.7724, -5.158, -4.6413, -2.4982, -3.7941, -3.1831, -2.055, -3.8169, -2.7983, -2.9192, -4.4217, -4.4077, -4.0475, -5.0054, -4.6101, -3.7923, -4.4765, -4.9465, -3.3486, -5.283, -3.433, -3.6421, -4.8383, -4.1711, -3.2289, -3.6498, -4.5506, -2.8998, -4.3587, -3.0638, -4.3747, -2.7948, -3.5183, -3.7923, -3.8197, -3.8479, -3.6656, -4.5584, -4.6555, -3.5039, -2.4515, -4.9097, -4.4698, -4.6972, -3.5104, -4.6761, -5.3285, -5.1133, -5.1133, -4.7407, -4.1653, -3.1814, -2.0827, -2.9638, -3.249, -3.2795, -3.9935, -4.0255, -4.0587, -4.1285, -4.4869, -3.9935, -4.0147, -4.004, -4.1924, -4.6995, -4.7379, -3.8414, -5.1732, -2.9593, -4.7985, -4.2271, -4.5922, -4.5589, -4.1054, -4.313, -4.3003, -2.5277, -3.0033, -4.4356, -2.8204, -4.2753, -4.3657, -3.6999, -4.2271, -3.3565, -3.7719, -3.7945, -4.1264, -4.2154, -4.0546, -4.1054, -4.2038, -4.2994, -5.3016, -4.8402, -4.7977, -4.5913, -4.3382, -5.1724, -4.3648, -5.2349, -2.9037, -4.4792, -4.7771, -3.9327, -3.7937, -4.9312, -3.1966, -2.9651, -3.3857, -4.25, -4.3251, -4.3922, -4.6799, -2.91, -3.8169, -3.7201, -3.6853, -4.0245, -3.7937, -3.9153, -4.0637, -3.9415, -5.1245, -2.7069, -4.6584, -3.685, -5.0639, -4.1714, -4.2862, -5.0067, -5.0938, -4.3136, -5.3714, -2.011, -4.5298, -4.9267, -4.9267, -3.6135, -3.2919, -4.4794, -3.7781, -3.3808, -3.5468, -2.9484, -3.4723, -3.5533, -3.9751, -3.6486, -3.6703, -4.0259, -3.9857, -4.5152, -3.0562, -4.266, -4.6353, -4.4601, -4.7719, -4.2808, -5.0515, -3.6413, -4.5152, -4.7243, -4.5537, -4.1035, -4.6569, -3.1384, -4.4601, -4.5937, -4.3584, -4.5537, -3.4749, -3.2228, -3.7493, -4.1288, -3.9529, -3.8315, -4.266, -4.3266, -4.3111], \"loglift\": [15.0, 14.0, 13.0, 12.0, 11.0, 10.0, 9.0, 8.0, 7.0, 6.0, 5.0, 4.0, 3.0, 2.0, 1.0, 2.8004, 2.8004, 2.8004, 2.8004, 2.8004, 2.8004, 2.8004, 2.8004, 2.8004, 2.8004, 2.7988, 2.7933, 2.7832, 2.7744, 2.7612, 2.703, 2.7368, 2.6249, 2.6972, 2.402, 2.1602, 2.5597, 2.2942, 1.6106, 1.0366, 1.8995, 2.846, 2.846, 2.846, 2.846, 2.846, 2.846, 2.846, 2.846, 2.846, 2.8445, 2.8365, 2.8229, 2.8214, 2.8214, 2.8212, 2.8196, 2.7611, 2.511, 2.5441, 2.5806, 2.3883, 2.6129, 2.3988, 2.4124, 2.3593, 1.7126, 2.2223, 2.8467, 2.8467, 2.8467, 2.8467, 2.8467, 2.8467, 2.8467, 2.8467, 2.8314, 2.8258, 2.8158, 2.7291, 2.7268, 2.7042, 2.7015, 2.6847, 2.6509, 2.3224, 2.389, 2.5718, 2.3587, 2.3803, 2.1915, 1.9174, 1.645, 1.8897, 1.0903, 1.903, 2.8669, 2.8669, 2.8669, 2.8669, 2.8669, 2.8669, 2.8669, 2.8669, 2.8669, 2.8669, 2.8669, 2.8669, 2.8669, 2.8669, 2.8669, 2.8669, 2.8669, 2.8669, 2.8581, 2.8505, 2.8468, 2.806, 2.7032, 2.6616, 2.6601, 2.3124, 2.7039, 2.508, 2.6609, 1.8536, 2.4139, 1.6948, 0.8594, 2.877, 2.877, 2.877, 2.877, 2.877, 2.877, 2.877, 2.8733, 2.813, 2.7819, 2.7353, 2.7261, 2.7213, 2.6965, 2.688, 2.6578, 2.4655, 2.3488, 1.7938, 2.2913, 1.6788, 1.4173, 1.0962, 2.8821, 2.8821, 2.8821, 2.8821, 2.8821, 2.8821, 2.8821, 2.8821, 2.8821, 2.8821, 2.8821, 2.8821, 2.8821, 2.8821, 2.8821, 2.8821, 2.8821, 2.8821, 2.8729, 2.8821, 2.7741, 2.7245, 1.8219, 1.7244, 1.4045, 0.7629, 1.734, 1.7645, 2.885, 2.885, 2.885, 2.885, 2.885, 2.885, 2.885, 2.885, 2.885, 2.885, 2.885, 2.885, 2.885, 2.885, 2.885, 2.8788, 2.885, 2.8676, 2.8747, 2.872, 2.7773, 2.3941, 2.5694, 2.3129, 2.4487, 2.1969, 1.9807, 1.6323, 2.8868, 2.8868, 2.8868, 2.8868, 2.8868, 2.8868, 2.8868, 2.8868, 2.8868, 2.8868, 2.8868, 2.8868, 2.8868, 2.8868, 2.8792, 2.8777, 2.8578, 2.8569, 2.6199, 2.8564, 2.6941, 2.4384, 2.4203, 2.4774, 1.5686, 1.5862, 1.9605, 2.1939, 1.3919, 2.8926, 2.8926, 2.8926, 2.8926, 2.8926, 2.8926, 2.8926, 2.8926, 2.8926, 2.8926, 2.8926, 2.8897, 2.8875, 2.8536, 2.7938, 2.7403, 2.4592, 2.5452, 2.5, 1.9961, 1.4577, 1.1333, 1.5434, 1.189, 2.8932, 2.8932, 2.8932, 2.8932, 2.8932, 2.8932, 2.8932, 2.8932, 2.8932, 2.8932, 2.8932, 2.8932, 2.8932, 2.8932, 2.8932, 2.8911, 2.8908, 2.8932, 2.8932, 2.6812, 2.6752, 2.7421, 1.5501, 2.5401, 1.6138, 1.4428, 1.9249, 1.0122, 2.8996, 2.8996, 2.8996, 2.8996, 2.8996, 2.8996, 2.8996, 2.8996, 2.8996, 2.8996, 2.8996, 2.8996, 2.8996, 2.8996, 2.8996, 2.8996, 2.8996, 2.8996, 2.8996, 2.8996, 2.8996, 2.8996, 2.8921, 2.8996, 2.8899, 2.8269, 2.8133, 2.5651, 2.7416, 2.529, 2.6335, 2.0302, 1.4742, 1.3711, 2.2004, 2.9146, 2.9146, 2.9146, 2.9146, 2.9146, 2.9146, 2.9146, 2.9146, 2.9146, 2.9146, 2.9036, 2.8934, 2.8834, 2.8298, 2.824, 2.8223, 2.6505, 2.4675, 2.6864, 2.4893, 2.2235, 2.7175, 1.8946, 2.9165, 2.9165, 2.9165, 2.9165, 2.9165, 2.9165, 2.9165, 2.9165, 2.9165, 2.9165, 2.9165, 2.9165, 2.9165, 2.9165, 2.9165, 2.9127, 2.9165, 2.8656, 2.9, 2.4746, 2.594, 2.5884, 2.4593, 2.2781, 1.7555, 2.9165, 2.9165, 2.9165, 2.9165, 2.9165, 2.9165, 2.9165, 2.9165, 2.9165, 2.9165, 2.9165, 2.9165, 2.9165, 2.9165, 2.9165, 2.9165, 2.9165, 2.9165, 2.9165, 2.9165, 2.9165, 2.9165, 2.9165, 2.9165, 2.9074, 1.8051, 1.4171, 2.9167, 2.9167, 2.9167, 2.9167, 2.9167, 2.9167, 2.9167, 2.9167, 2.9167, 2.9167, 2.9167, 2.9167, 2.9167, 2.9167, 2.9167, 2.9019, 2.4145, 2.774, 2.7699, 2.2238, 2.6043, 1.2936, 1.6683, 1.519, 1.9996, 2.3799, 1.1983, 1.0356, 1.7624, 2.9226, 2.9226, 2.9226, 2.9226, 2.9226, 2.9226, 2.9226, 2.9226, 2.9226, 2.9226, 2.9226, 2.9226, 2.9226, 2.9226, 2.9226, 2.9226, 2.9198, 2.9176, 2.9226, 2.9226, 2.9226, 2.9226, 2.7964, 2.7932, 2.6931, 2.5224, 2.3546, 1.8442, 1.9209, 1.8955, 0.9898, 2.9344, 2.9344, 2.9344, 2.9344, 2.9344, 2.9344, 2.9344, 2.9344, 2.9344, 2.9344, 2.9344, 2.9344, 2.9344, 2.9344, 2.9344, 2.8741, 2.8453, 2.8568, 2.7581, 2.6209, 2.3538, 1.983, 2.0894, 2.0846, 2.4212, 1.9327, 1.2075, 1.1168, 2.9396, 2.9396, 2.9396, 2.9396, 2.9396, 2.9396, 2.9396, 2.9396, 2.9396, 2.9396, 2.9396, 2.9396, 2.9396, 2.9396, 2.9396, 2.9348, 2.9396, 2.9396, 2.9252, 2.9233, 2.6128, 2.3162, 2.3234, 2.5732, 2.3043, 0.8046, 1.9344, 2.0922, 1.0024]}, \"token.table\": {\"Topic\": [1, 5, 6, 7, 12, 15, 18, 10, 15, 1, 9, 12, 13, 15, 17, 5, 12, 18, 12, 12, 13, 17, 11, 4, 6, 8, 18, 18, 8, 9, 13, 16, 17, 15, 7, 10, 3, 15, 11, 15, 1, 10, 10, 11, 1, 8, 15, 11, 11, 8, 18, 5, 8, 10, 5, 8, 18, 13, 9, 10, 3, 14, 9, 4, 16, 4, 7, 1, 8, 1, 8, 9, 12, 7, 9, 18, 14, 14, 17, 1, 4, 5, 4, 5, 7, 7, 2, 13, 7, 8, 4, 3, 13, 4, 6, 11, 8, 13, 8, 1, 4, 8, 17, 1, 1, 6, 17, 14, 4, 6, 10, 12, 4, 8, 18, 9, 10, 13, 15, 16, 4, 6, 13, 4, 6, 4, 10, 2, 13, 6, 8, 9, 11, 12, 14, 11, 10, 15, 5, 9, 9, 13, 5, 7, 7, 8, 13, 2, 12, 1, 10, 10, 13, 11, 6, 17, 14, 16, 11, 18, 12, 16, 2, 9, 11, 11, 6, 8, 11, 2, 9, 1, 6, 12, 13, 18, 1, 12, 11, 11, 6, 12, 3, 4, 7, 10, 14, 1, 4, 4, 1, 13, 14, 16, 17, 12, 3, 9, 14, 18, 3, 7, 18, 7, 3, 9, 7, 16, 2, 12, 7, 12, 17, 14, 14, 2, 1, 2, 6, 8, 14, 12, 6, 1, 7, 2, 12, 5, 11, 15, 12, 14, 3, 9, 10, 11, 15, 12, 4, 1, 2, 6, 8, 2, 5, 3, 18, 5, 7, 13, 17, 11, 18, 7, 16, 6, 12, 5, 10, 14, 7, 3, 4, 5, 13, 14, 5, 17, 2, 5, 12, 13, 16, 8, 8, 9, 16, 8, 5, 6, 11, 18, 7, 11, 7, 10, 14, 2, 10, 9, 16, 8, 13, 16, 1, 8, 4, 6, 13, 9, 16, 3, 8, 17, 13, 8, 12, 10, 12, 11, 12, 4, 6, 16, 2, 8, 1, 7, 14, 15, 10, 4, 7, 7, 12, 7, 9, 10, 13, 14, 17, 6, 12, 13, 18, 15, 6, 15, 17, 4, 4, 11, 16, 9, 16, 4, 2, 16, 4, 6, 10, 2, 7, 2, 16, 4, 15, 18, 18, 7, 16, 8, 8, 16, 14, 3, 7, 10, 14, 13, 4, 5, 14, 10, 18, 2, 3, 5, 13, 17, 14, 9, 13, 17, 6, 7, 18, 4, 6, 7, 8, 12, 14, 15, 17, 6, 5, 8, 18, 6, 9, 13, 16, 18, 13, 16, 2, 16, 3, 17, 4, 11, 6, 9, 12, 1, 5, 8, 17, 18, 18, 17, 13, 10, 9, 11, 13, 17, 3, 17, 1, 2, 4, 6, 12, 18, 3, 9, 15, 14, 18, 5, 8, 7, 8, 6, 3, 8, 12, 14, 2, 16, 14, 15, 7, 14, 1, 1, 7, 1, 2, 3, 5, 9, 16, 1, 4, 16, 16, 10, 12, 15, 16, 17, 17, 15, 18, 18, 10, 5, 5, 9, 7, 13, 13, 17, 3, 7, 15, 18, 8, 1, 9, 14, 15, 18, 2, 18, 2, 3, 7, 10, 14, 16, 9, 17, 11, 15, 2, 14, 17, 18, 6, 12, 18, 16, 7, 9, 15, 4, 18, 3, 13, 6, 1, 8, 3, 8, 9, 11, 12, 15, 16, 18, 1, 5, 7, 14, 18, 15, 5, 8, 9, 11, 2, 10, 5, 7, 13, 15, 18, 5, 15, 17, 3, 17, 6, 6, 13, 15, 7, 10, 17, 4, 8, 14, 18, 14, 7, 13, 5, 1, 17, 3, 13, 16, 12, 18, 11, 11, 3, 10, 15, 5, 5, 15, 7, 16, 12, 9, 15, 10, 9, 13, 15, 13, 3, 5, 7, 4, 1, 6, 6, 2, 6, 5, 15, 2, 1, 8, 9, 13, 17, 7, 15, 16, 18, 15, 14, 15, 17, 4, 2, 7, 10, 14, 16, 4, 10, 11, 11, 5, 7, 9, 17, 5, 11, 12, 8, 9, 15, 3, 3, 10, 5, 16, 2, 3, 8, 14, 18, 9, 11, 8, 18, 3, 5, 6, 4, 8, 17, 2, 3, 9, 18, 13, 18, 16, 8, 14, 1, 3, 8, 10, 15, 1, 2, 3, 4, 8, 13, 15, 18, 4, 6, 17, 1, 14, 11, 16, 1, 9, 7, 5, 5, 6, 13, 11, 7, 16, 16, 6, 11, 12, 9, 14, 2, 2, 6, 2, 14, 12, 9, 15, 12, 2, 4, 6, 15, 18, 7, 13, 4, 13, 17, 9, 10, 18, 4, 1, 4, 9, 15, 4, 6, 15, 16, 16, 16, 16, 12, 15, 16, 15, 6, 4, 11, 13, 6, 14, 4, 8, 3, 9, 9, 10, 9, 9, 10, 10, 13, 15, 16, 17, 3, 3, 12, 18, 6, 1, 2, 8, 11, 15, 11, 5, 9, 17, 18, 4, 6, 17, 2, 16, 17, 2, 16], \"Freq\": [0.15358865099569857, 0.16773497411372346, 0.15965136090342352, 0.12125419815449888, 0.006062709907724944, 0.24655020291414773, 0.14348413448282368, 1.0028589537312544, 1.0042187287303148, 0.1319793355177873, 0.22902296457498383, 0.2018507484389688, 0.0038817451622878618, 0.3144213581453168, 0.12033410003092371, 0.002038555964200349, 0.9132730719617563, 0.08561935049641466, 0.9961124074643786, 1.0012206762206062, 1.0059919826898933, 1.006933668258653, 1.0061061503841287, 0.10194890803162562, 0.8984247520287009, 0.014491663525811199, 0.9854331197551616, 1.002681715415668, 0.27303959731823735, 0.07308635685791201, 0.12272992000668244, 0.1447937258505804, 0.38611660226821437, 1.0081568413920026, 0.29426122088793316, 0.7029573610100626, 0.394168621640385, 0.6052636654572736, 0.9908621178025508, 1.0026119787643464, 1.002664161055367, 1.0050761589010682, 0.9949647287310375, 0.9993688324128063, 0.9072120894775665, 0.09167366258500344, 0.0011905670465584862, 1.0027071431193173, 0.9987083110430688, 0.9822526458465486, 0.027284795717959682, 0.1763118252505824, 0.8258817077527281, 0.9949647287310375, 0.5927210684215584, 0.2702110753098281, 0.13946378080507257, 0.9877012193682587, 0.9623777940818593, 0.03901531597629159, 0.9909939872848073, 0.9896761266823425, 1.0079645445689205, 1.009410408256774, 0.9968305207548757, 0.269361392182645, 0.731123778781465, 0.9855429409734889, 0.017290227034622612, 0.21298459961613192, 0.6273364570511523, 0.06970405078346135, 0.08906628711220063, 0.2050915244090453, 0.25826340110768664, 0.5367827552434272, 1.0009962103582004, 0.9990601972637431, 1.006933668258653, 0.5267672054676604, 0.1339238657968628, 0.33927379335205243, 0.9993163041742061, 0.0078025659233279445, 0.990925872262649, 1.0005651071721198, 0.9678121782025753, 0.02360517507811159, 0.9991869183192656, 1.012561657476521, 1.0029501816439308, 0.9633690537968327, 0.027524830108480936, 0.05604401471919919, 0.2275726658294755, 0.7149857635388746, 0.9913869411065066, 0.006790321514428127, 1.012561657476521, 0.788154351306634, 0.21714456617631753, 1.012561657476521, 0.9948019373157777, 0.9980006068179003, 0.9769313084428654, 0.0315139131755763, 1.006933668258653, 1.0009159791849165, 0.14833087691005858, 0.8582000735510533, 0.8043906863037226, 0.19730337588581875, 0.6966235589303207, 0.005400182627366827, 0.2970100445051755, 0.0058005869895220614, 0.2339570085773898, 0.6419316268404415, 0.07347410186727944, 0.04253763792316178, 0.9440017577509403, 0.06353857984862098, 0.9924497829229139, 0.009972839794982112, 0.987311139703229, 1.0046602416296833, 1.001484337437684, 0.9704506799081026, 0.020647886806555375, 0.07774427790973952, 0.39690499774972277, 0.02045902050256303, 0.5073837084635632, 0.9997696317623154, 1.0002045961151333, 0.9946731259479454, 0.998698179870741, 1.0007439234405908, 0.5582131140745114, 0.4385960182014018, 0.908748631833589, 0.08519518423439898, 0.9778284347773247, 0.9981067162454068, 1.0001861052375849, 0.3662093097361469, 0.6315783747623404, 0.7650501993080322, 0.23284136500679242, 1.0026641610553673, 0.9994795998767255, 0.8572195895921089, 0.13757845265058538, 0.9969039599842737, 0.07637520526826971, 0.9317775042728905, 1.0012900053350087, 0.9996786079570326, 0.2804922727498869, 0.7231441406833022, 0.005437461928819902, 0.9950555329740421, 0.0024269253429212243, 0.9974663159406232, 0.9987083110430688, 0.9908621178025508, 0.13422812413582277, 0.010738249930865822, 0.8536908695038329, 0.004235280413143835, 0.9952908970888013, 0.6043907431208936, 0.3275407898203552, 0.015597180467635962, 0.023395770701453943, 0.03509365605218091, 0.9043162815706903, 0.09575113569572015, 1.0061061503841287, 1.0021760482341906, 0.013410127385972657, 0.9923494265619767, 0.21544558875072473, 0.3649384462512276, 0.3517479000011832, 0.004396848750014791, 0.06595273125022186, 0.9955109665082176, 0.00777742942584545, 0.9967206774101175, 0.008385743832364597, 0.19566735608850727, 0.03074772738533686, 0.341020249182827, 0.4276729354505945, 0.9988637537247949, 0.6273496450094266, 0.37248885172434704, 0.9957433802537813, 1.0084999845573448, 0.9851875472250308, 0.013313345232770687, 0.9994833686360326, 0.9891950491360729, 0.32503904684169466, 0.674334738970083, 0.9914662386821742, 0.011016291540913046, 0.7374100548114365, 0.26052211517290275, 0.9932658106551515, 0.9585810808743115, 0.030921970350784242, 1.002939263500274, 1.004644312141009, 1.0000736125816752, 0.6700641854598521, 0.01246631042716004, 0.317890915892581, 1.012561657476521, 0.9974339462643991, 0.9988196674047292, 0.9976845875059729, 0.9640898028003336, 0.033827712378959075, 0.6409898063481531, 0.35851972219472966, 0.0037201847998096804, 0.49850476317449716, 0.49850476317449716, 0.009883452641371936, 0.9883452641371936, 0.3008305350645182, 0.02394153047226269, 0.2612749629799102, 0.21651471035785388, 0.1977778604230396, 0.9999170034651106, 1.004097721897528, 0.40728370910691897, 0.1281342006179071, 0.22881107253197697, 0.2333872939826165, 0.9895556106028309, 0.030923612831338466, 0.3078447607381571, 0.6967013006179346, 0.10634988025989976, 0.6123174924054835, 0.15791345856772995, 0.1256862221253361, 0.4619755169164791, 0.5396910244351392, 0.9949798155052897, 1.0018146733586502, 0.3465864276384019, 0.6537880339542582, 0.9246812563680737, 0.07705677136400614, 1.0086952972706098, 1.0023843164578872, 0.06970923743619642, 0.5741506283381269, 0.2319416445604354, 0.05449994926829902, 0.06970923743619642, 0.846283088007123, 0.14104718133452052, 1.0056333438516205, 0.9478188072815972, 0.03057480023489023, 0.03057480023489023, 1.0092909022643117, 1.0027309617728655, 0.5008191691672763, 0.21946008536543565, 0.2813590838018406, 0.9947974178716696, 0.8760887851946765, 0.12979093113995208, 0.9904772550733668, 0.0067840907881737455, 0.9986934926805894, 0.9996567519842303, 0.5632784739177159, 0.10729113788908874, 0.3285791097853343, 0.9923600037307885, 0.008002903255893456, 0.11823075857262545, 0.8793412668839018, 0.005865563333543006, 0.42818612334863937, 0.5689596433536716, 0.837499255116728, 0.15934720340716507, 0.9941242147736695, 0.010805697986670321, 1.0006972880441567, 0.9973226245427439, 0.9996786079570325, 0.8973739984438865, 0.08412881235411436, 0.028042937451371455, 1.0023991541802864, 0.08923878281297948, 0.9146975238330396, 0.23116292322025805, 0.7682767742320341, 0.9164706120256991, 0.08331551018415446, 0.8528286244980712, 0.13755300395130182, 0.00917020026342012, 0.9987887301998102, 0.0015437229214834778, 0.0718663001366915, 0.6467967012302235, 0.274398600521913, 0.0065333000124265, 0.998370684156732, 0.9808693491398133, 0.01751552409178238, 0.9939268425641246, 0.01399896961357922, 0.09677055342823766, 0.047260037720767235, 0.279059270351197, 0.31281644015174503, 0.22279732068361696, 0.04050860376065763, 0.04673138816086498, 0.17654079971882325, 0.24404169372896153, 0.5296223991564697, 1.0033712867651416, 1.0011063376836022, 1.0025021155188103, 1.0013240099396634, 1.0008055982191753, 0.30948062765708384, 0.6913073760651743, 0.9948116234976507, 0.11973006760409334, 0.880015996890086, 0.9879604370813175, 0.331096907358904, 0.6720773044897157, 0.8496361156305535, 0.11631923011608768, 0.03540150481793973, 0.014166695439196336, 0.9845853330241453, 0.9182080708701778, 0.08060605202295454, 0.8107926860581122, 0.04864756116348673, 0.1351321143430187, 1.0053626825691857, 0.9986934926805894, 1.0026136596539115, 1.012561657476521, 1.0026345824032217, 1.001027701894896, 0.996574089414171, 0.13253778748386633, 0.4051869503078199, 0.21584725390229662, 0.24614160532718035, 0.9982535828230478, 1.004097721897528, 0.9960108057311826, 0.0034464041720802165, 0.9965825575582424, 1.002681715415668, 0.9945559650639828, 0.9889960155362492, 0.0044919067218352066, 0.7231969822154682, 0.2740063100319476, 0.9949403613987379, 0.07829512360191863, 0.004605595505995214, 0.9165135056930476, 0.9991893908053785, 1.0069225589772213, 0.9976575407500203, 1.0020692416512702, 0.04700844071662744, 0.5029903156679136, 0.07051266107494117, 0.07991434921826665, 0.014102532214988233, 0.15512785436487056, 0.13632447807821957, 0.994614788775185, 0.8026138634455393, 0.03540943515200909, 0.15934245818404089, 0.9958717142397597, 0.01213862726972712, 0.04248519544404492, 0.7950800861671264, 0.151732840871589, 0.9977798032393634, 1.0057495306774193, 0.6339147247551274, 0.3680795175997514, 0.6339561475227807, 0.3671662687736105, 0.010554716691151872, 0.9921433689682759, 1.0030891627362326, 0.991386180349037, 1.0123453504008353, 0.032689002926645436, 0.006537800585329087, 0.006537800585329087, 0.9414432842873885, 0.013075601170658174, 1.0067631877986354, 1.006933668258653, 0.9982535828230479, 0.9998796517503943, 0.9992232252529819, 1.0034303361543837, 0.9966339177346383, 0.9994749003456259, 0.8248960835083745, 0.17904721192429834, 0.005682376851613372, 0.6477909610839244, 0.10796516018065408, 0.08523565277420059, 0.07955327592258721, 0.07387089907097384, 0.9949265031073661, 1.0024953934860725, 1.0002284556360224, 1.0086952972706098, 0.997522118252294, 0.8579816936073333, 0.14594533963423711, 0.025862603702744853, 0.9827789407043045, 1.0079936130944387, 0.9935747007933615, 0.02123810952508619, 0.9769530381539648, 1.0007960831619194, 0.7926288699440243, 0.205151001632571, 0.997433946264399, 0.9997555343804025, 1.007513475971926, 1.0080449456927436, 1.002664161055367, 0.9981215244568997, 0.0014465529339955068, 1.002664161055367, 0.09250298175114641, 0.5203292723501985, 0.003854290906297767, 0.02698003634408437, 0.35844905428569235, 1.002664161055367, 0.9844631883579417, 0.0175796997921061, 1.0035886937769427, 0.15161771993066825, 0.5008495467372637, 0.11243561253285511, 0.07154993524818053, 0.1618391392518369, 1.0069336682586532, 1.0062474534348207, 1.0008944039799894, 0.9997412998279386, 0.9909201566630251, 1.0026184514336514, 0.6618514669250739, 0.3369425649800376, 0.014364543855374869, 0.9767889821654911, 1.0021957865287994, 0.99994107334019, 0.8512999930323741, 0.09695899692851642, 0.05235785834139887, 0.9929153350707101, 0.9967403815784505, 0.17184875197160254, 0.6478545870787848, 0.0045623562470336965, 0.1216628332542319, 0.053227489548726456, 0.9825121206372387, 0.022329820923573607, 0.2874294235515061, 0.3880297217945332, 0.003592867794393826, 0.19042199310287278, 0.0970074304486333, 0.028742942355150607, 1.0000069297433765, 1.0069336682586532, 1.000389638166037, 0.9955548808746025, 0.06179940445668719, 0.20720976788418646, 0.5598298991958722, 0.17085717702731165, 0.994030065207416, 0.8153505483993131, 0.1756139642706213, 0.9989554259401838, 0.014806273144781728, 0.8587638423973402, 0.11845018515825383, 1.0013351249907199, 1.004541978338517, 0.8691749429571429, 0.1340748582221125, 0.9964264732720435, 0.00903993234388223, 0.9943925578270453, 0.17245314236019071, 0.26791827473815344, 0.23814957754502528, 0.06056390118601936, 0.0667229419845976, 0.07596150318246496, 0.00102650679976304, 0.11804828197274961, 0.004905833739659871, 0.18642168210707508, 0.3385025280365311, 0.10302250853285728, 0.3679375304744903, 0.9985451765905956, 0.9935636049921323, 0.9997444213059321, 1.0026594680185579, 1.0027071431193173, 1.0056333438516205, 0.9970749402447829, 0.061031190794247694, 0.30515595397123846, 0.10375302435022107, 0.10375302435022107, 0.4272183355597339, 0.13040406461362766, 0.034316859108849386, 0.837331362255925, 1.0003337123633846, 1.006933668258653, 0.9989184294395691, 1.0033000729891208, 0.9973467390886519, 0.9981325546167978, 0.37597393314873856, 0.02983920104355068, 0.5967840208710137, 0.031064477578939712, 0.9733536308067776, 1.002581992438667, 0.9929153350707101, 1.0055762641930879, 0.0033282866129945667, 0.9951576972853755, 1.0053854179392312, 1.002664161055367, 1.006933668258653, 0.2761416644289798, 0.7226686111652024, 0.005875354562318719, 0.0175833729883846, 0.9846688873495375, 1.0009729557393117, 0.9928679115632848, 0.1374141480330534, 0.8092166495279811, 0.05343883534618743, 1.0169415721684179, 0.8338560266681164, 0.16424436888917446, 0.8994302218398086, 0.09993669131553429, 0.9987739003745147, 0.13758563801748636, 0.8713757074440803, 1.0037892496067007, 0.022446534252180593, 0.9502366166756451, 0.02618762329421069, 1.0032730854393799, 0.7637697704862059, 0.2426092212132654, 0.9997344180005364, 1.004097721897528, 1.002664161055367, 1.0009091660046994, 1.0079936130944387, 0.6122964369195445, 0.3840768558858961, 0.26738062585178374, 0.7283817049065833, 0.9993927113986407, 0.234853624958432, 0.7642062399441042, 0.7087635776866138, 0.18272810987233012, 0.1107443090135334, 0.34949478785587773, 0.5824913130931296, 0.06553027272297708, 0.9963222119352302, 1.0042187287303148, 0.9854647389092261, 0.8624158059911818, 0.13748657776671014, 0.9879604370813175, 0.20524506919791816, 0.1722592545053956, 0.3811694142247051, 0.13927343981287302, 0.10628762512035046, 0.9846635724414465, 0.9970749402447829, 0.9996567519842303, 0.9993688324128063, 0.13468466767017714, 0.2849098739176824, 0.15022520624750527, 0.42995490063941166, 0.11473104559488559, 0.7686980054857335, 0.11473104559488559, 0.6390614009635711, 0.18258897170387745, 0.17878503479338, 1.0000948780322882, 0.8873522124580647, 0.11991246114298172, 0.0035784876427914125, 0.9983980523388041, 0.0040526764992576845, 0.6119541513879103, 0.19452847196436884, 0.154001706971792, 0.032421411994061476, 0.993921694876784, 0.9992817869609805, 1.012561657476521, 1.000458474361531, 0.38356345614144555, 0.30137128696827864, 0.31506998183047313, 0.32813151232041843, 0.6616422297608437, 0.005379205120006859, 0.9957399602604877, 0.5922479065169107, 0.40759590118046013, 0.997522118252294, 0.004319903105470521, 0.9935777142582197, 0.9950181016262304, 0.9997444213059321, 0.9996781726434939, 0.135462496702557, 0.8805062285666204, 0.9994115060807219, 1.0050761589010682, 0.9903238783956817, 0.30508340826742464, 0.06422808595103677, 0.0022938602125370275, 0.03899562361312947, 0.2247983008286287, 0.006881580637611083, 0.28673252656712844, 0.07340352680118488, 1.0122944379946504, 1.0232662435958695, 1.006933668258653, 1.002664161055367, 1.0067848895106277, 1.0105976956983433, 1.0106640871653516, 0.9408407017171058, 0.06378581028590548, 0.9976497076756975, 1.0002703988541812, 1.005766390056677, 1.0017237963622723, 0.9995955018751018, 1.0061061503841287, 1.002933869262963, 1.0063654213881832, 0.9987521217587406, 0.12002589473137569, 0.24005178946275138, 0.6395272864312995, 1.0011192845039363, 1.0006965806680677, 1.0094743045399428, 1.0000736125816752, 0.994030065207416, 0.9648974605757804, 0.022973749061328104, 0.9927357552356857, 0.015294634133422882, 0.9788565845390644, 1.0052906789694704, 0.5349628256502101, 0.006220497972676862, 0.049763983781414896, 0.24259942093439762, 0.16173294728959842, 1.0069225589772213, 1.0088662454975785, 0.9953664373592885, 1.0140399185514124, 0.993326456525428, 0.0025292046266989264, 0.9965066229193771, 0.9907922089087626, 1.0011703232914124, 1.002664161055367, 0.8159610769382908, 0.10263661345135733, 0.08210929076108586, 0.6338694539146382, 0.20283822525268425, 0.16058026165837502, 1.007120384194926, 1.0038352757655857, 1.002330275352144, 1.0113298737840375, 0.926568923845012, 0.017482432525377584, 0.06992973010151034, 1.0009262083082484, 1.0079936130944387, 0.07103705384789044, 0.9289460887801058, 1.000143192092859, 0.9987078537495687, 1.0006965806680677, 0.9935664980512248, 1.012561657476521, 0.9837278229111242, 0.021385387454589656, 0.0021458185473070893, 0.9978056244977964, 0.997543858487851, 1.0016489772470603, 0.9997917656950412, 1.0000530613327303, 0.5282774493868768, 0.40076220298314796, 0.06831173914485476, 0.004554115942990318, 1.004493104098783, 1.0013168413190239, 0.7969645135085813, 0.2058824993230502, 0.9940300652074161, 0.06802355396703103, 0.3214112924942216, 0.03911354353104284, 0.4183448568972408, 0.15305299642581982, 1.0002879208667828, 0.8276758634882659, 0.17218613945782676, 0.7319218888172785, 0.2694437722569102, 0.813996040504803, 0.18292045854040517, 1.0069336682586532, 0.7149513765670233, 0.10717735443966347, 0.17775756346090527, 0.9983811803142291, 1.0066693674532357], \"Term\": [\"\\uac00\\ub2a5\", \"\\uac00\\ub2a5\", \"\\uac00\\ub2a5\", \"\\uac00\\ub2a5\", \"\\uac00\\ub2a5\", \"\\uac00\\ub2a5\", \"\\uac00\\ub2a5\", \"\\uac00\\uc744\", \"\\uac04\\uc5fc\", \"\\uac10\\uc18c\", \"\\uac10\\uc18c\", \"\\uac10\\uc18c\", \"\\uac10\\uc18c\", \"\\uac10\\uc18c\", \"\\uac10\\uc18c\", \"\\uac10\\uc5fc\", \"\\uac10\\uc5fc\", \"\\uac10\\uc5fc\", \"\\uac10\\uc5fc\\ubcd1\", \"\\uac10\\uc5fc\\uc99d\", \"\\uac10\\uc815\", \"\\uac15\\ub3c4\", \"\\uac15\\uc6d0\", \"\\uac1c\\ubc1c\", \"\\uac1c\\ubc1c\", \"\\uac1c\\uc778\", \"\\uac1c\\uc778\", \"\\uac70\\ub9ac\", \"\\uac74\\uac15\", \"\\uac74\\uac15\", \"\\uac74\\uac15\", \"\\uac74\\uac15\", \"\\uac74\\uac15\", \"\\uac74\\uac15\\uac80\\uc9c4\", \"\\uac74\\uc870\", \"\\uac74\\uc870\", \"\\uac80\\uc0ac\", \"\\uac80\\uc0ac\", \"\\uac80\\uc5ed\", \"\\uac80\\uc9c4\", \"\\uac8c\\uc7ac\", \"\\uaca8\\uc6b8\", \"\\uaca8\\uc6b8\\ucca0\", \"\\uaca9\\ub9ac\", \"\\uacb0\\uacfc\", \"\\uacb0\\uacfc\", \"\\uacb0\\uacfc\", \"\\uacbd\\ub0a8\", \"\\uacbd\\ubd81\", \"\\uacbd\\uc81c\", \"\\uacbd\\uc81c\", \"\\uacbd\\ud5d8\", \"\\uacbd\\ud5d8\", \"\\uacc4\\uc808\", \"\\uace0\\ub824\", \"\\uace0\\ub824\", \"\\uace0\\ub824\", \"\\uace0\\ud1b5\", \"\\uace0\\ud608\\uc555\", \"\\uace0\\ud608\\uc555\", \"\\uace4\\ub780\", \"\\uace8\\ubc18\", \"\\uacf5\\ubcf5\", \"\\uacf5\\uc2dd\", \"\\uacfc\\uc77c\", \"\\uacfc\\uc815\", \"\\uacfc\\uc815\", \"\\uacfc\\ud559\", \"\\uacfc\\ud559\", \"\\uad00\\ub828\", \"\\uad00\\ub828\", \"\\uad00\\ub828\", \"\\uad00\\ub828\", \"\\uad00\\ub9ac\", \"\\uad00\\ub9ac\", \"\\uad00\\ub9ac\", \"\\uad00\\uc808\", \"\\uad00\\uc808\\uc5fc\", \"\\uad50\\uac10\", \"\\uad50\\uc218\", \"\\uad50\\uc218\", \"\\uad50\\uc218\", \"\\uad50\\uc721\", \"\\uad50\\uc815\", \"\\uad50\\uc815\", \"\\uad6c\\uac15\", \"\\uad6c\\ub9e4\", \"\\uad6c\\ub9e4\", \"\\uad6c\\uc870\", \"\\uad6c\\uccb4\", \"\\uad6c\\ucd95\", \"\\uad6c\\ud1a0\", \"\\uad6c\\ud1a0\", \"\\uad6d\\ub0b4\", \"\\uad6d\\ub0b4\", \"\\uad6d\\ub0b4\", \"\\uad6d\\ubbfc\", \"\\uad6d\\ubbfc\", \"\\uad6d\\ubbfc\\uac74\\uac15\\ubcf4\\ud5d8\\uacf5\\ub2e8\", \"\\uad6d\\uc81c\", \"\\uad6d\\uc81c\", \"\\uad6d\\ud68c\", \"\\uade0\\ud615\", \"\\uadf8\\ub8f9\", \"\\uadfc\\uac70\", \"\\uadfc\\uac70\", \"\\uadfc\\ub825\", \"\\uadfc\\uc721\", \"\\uae00\\ub85c\\ubc8c\", \"\\uae00\\ub85c\\ubc8c\", \"\\uae09\\uc131\", \"\\uae09\\uc131\", \"\\uae30\\uad00\", \"\\uae30\\uad00\", \"\\uae30\\uad00\", \"\\uae30\\ub2a5\", \"\\uae30\\ub2a5\", \"\\uae30\\ub2a5\", \"\\uae30\\ub2a5\", \"\\uae30\\ub2a5\", \"\\uae30\\uc220\", \"\\uae30\\uc220\", \"\\uae30\\uc5b5\", \"\\uae30\\uc5c5\", \"\\uae30\\uc5c5\", \"\\uae30\\uc5ec\", \"\\uae30\\uc628\", \"\\uae30\\uc804\", \"\\uae30\\uc804\", \"\\uae30\\uc900\", \"\\uae30\\uc900\", \"\\uae30\\uc900\", \"\\uae30\\uc900\", \"\\uae30\\uce68\", \"\\uae34\\uc7a5\", \"\\ub098\\uba38\\uc9c0\", \"\\ub0a0\\uc528\", \"\\ub0a8\\uc131\", \"\\ub0b4\\uacfc\", \"\\ub0b4\\uacfc\", \"\\ub0b4\\ubd84\\ube44\", \"\\ub0b4\\ubd84\\ube44\", \"\\ub0b4\\uc6d0\", \"\\ub0b4\\uc7a5\", \"\\ub0c4\\uc0c8\", \"\\ub178\\uc778\", \"\\ub178\\uc778\", \"\\ub178\\ucd9c\", \"\\ub178\\ucd9c\", \"\\ub17c\\ubb38\", \"\\ub1cc\\uc878\\uc911\", \"\\ub1cc\\ud608\\uad00\", \"\\ub1cc\\ud608\\uad00\", \"\\ub204\\uc801\", \"\\ub2a5\\ub825\", \"\\ub2a5\\ub825\", \"\\ub2e4\\ub9ac\", \"\\ub2e4\\uc774\\uc5b4\\ud2b8\", \"\\ub2e8\\uacc4\", \"\\ub2e8\\uacc4\", \"\\ub2e8\\ubc31\\uc9c8\", \"\\ub2e8\\ubc31\\uc9c8\", \"\\ub2f9\\ub1e8\\ubcd1\", \"\\ub2f9\\ub1e8\\ubcd1\", \"\\ub300\\uad6c\", \"\\ub300\\ub959\", \"\\ub300\\ube44\", \"\\ub300\\ube44\", \"\\ub300\\ube44\", \"\\ub300\\uc0ac\", \"\\ub300\\uc0ac\", \"\\ub300\\uc0c1\", \"\\ub300\\uc0c1\", \"\\ub300\\uc0c1\", \"\\ub300\\uc0c1\", \"\\ub300\\uc0c1\", \"\\ub300\\uc0c1\\uc790\", \"\\ub300\\uc0c1\\uc790\", \"\\ub300\\uc804\", \"\\ub300\\ucc45\", \"\\ub300\\ud1b5\\ub839\", \"\\ub300\\ud1b5\\ub839\", \"\\ub300\\ud45c\", \"\\ub300\\ud45c\", \"\\ub300\\ud45c\", \"\\ub300\\ud45c\", \"\\ub300\\ud45c\", \"\\ub300\\ud559\", \"\\ub300\\ud559\", \"\\ub370\\uc774\\ud130\", \"\\ub3c4\\uc6c0\", \"\\ub3c4\\uc6c0\", \"\\ub3c4\\uc6c0\", \"\\ub3c4\\uc6c0\", \"\\ub3c4\\uc6c0\", \"\\ub3c5\\uac10\", \"\\ub3d9\\ubc18\", \"\\ub3d9\\ubc18\", \"\\ub3d9\\uc791\", \"\\ub450\\uae30\", \"\\ub450\\ud1b5\", \"\\ub450\\ud1b5\", \"\\ub9c8\\uc2a4\\ud06c\", \"\\ub9c8\\uc9c0\\ub9c9\", \"\\ub9cc\\uc131\", \"\\ub9cc\\uc131\", \"\\uba38\\ub9ac\", \"\\uba38\\ub9ac\", \"\\uba74\\uc5ed\", \"\\uba74\\uc5ed\", \"\\ubaa8\\uc591\", \"\\ubb34\\ub8cc\", \"\\ubb34\\ub8cc\", \"\\ubb34\\ub98e\", \"\\ubb34\\ub9ac\", \"\\ubb3c\\uc9c8\", \"\\ubbf8\\uad6d\", \"\\ubbf8\\uad6d\", \"\\ubbf8\\uad6d\", \"\\ubbfc\\uc8fc\\ub2f9\", \"\\ubc14\\ub2e5\", \"\\ubc14\\uc774\\ub7ec\\uc2a4\", \"\\ubc14\\uc774\\uc624\", \"\\ubc15\\uc0ac\", \"\\ubc15\\uc0ac\", \"\\ubc18\\uc751\", \"\\ubc18\\uc751\", \"\\ubc1c\\uacac\", \"\\ubc1c\\uacac\", \"\\ubc1c\\uacac\", \"\\ubc1c\\ubaa9\", \"\\ubc1c\\ubaa9\", \"\\ubc1c\\uc0dd\", \"\\ubc1c\\uc0dd\", \"\\ubc1c\\uc0dd\", \"\\ubc1c\\uc0dd\", \"\\ubc1c\\uc0dd\", \"\\ubc1c\\uc5f4\", \"\\ubc1c\\uc804\", \"\\ubc1c\\ud45c\", \"\\ubc1c\\ud45c\", \"\\ubc1c\\ud45c\", \"\\ubc1c\\ud45c\", \"\\ubc1c\\ud604\", \"\\ubc1c\\ud604\", \"\\ubc29\\ubb38\", \"\\ubc29\\ubb38\", \"\\ubc29\\ubc95\", \"\\ubc29\\ubc95\", \"\\ubc29\\ubc95\", \"\\ubc29\\ubc95\", \"\\ubc29\\uc5ed\", \"\\ubc29\\uc5ed\", \"\\ubc29\\ud5a5\", \"\\ubc30\\ucd9c\", \"\\ubc31\\uc2e0\", \"\\ubc31\\uc2e0\", \"\\ubc94\\uc704\", \"\\ubc94\\uc704\", \"\\ubcc0\\ud615\", \"\\ubcd1\\ubcc0\", \"\\ubcd1\\uc6d0\", \"\\ubcd1\\uc6d0\", \"\\ubcd1\\uc6d0\", \"\\ubcd1\\uc6d0\", \"\\ubcd1\\uc6d0\", \"\\ubcd1\\ud589\", \"\\ubcd1\\ud589\", \"\\ubcf4\\uad00\", \"\\ubcf4\\uc874\", \"\\ubcf4\\uc874\", \"\\ubcf4\\uc874\", \"\\ubcf4\\ucda9\", \"\\ubcf4\\ud5d8\", \"\\ubcf5\\uc6a9\", \"\\ubcf5\\uc6a9\", \"\\ubcf5\\uc6a9\", \"\\ubcf5\\uc9c0\", \"\\ubcf5\\ud569\", \"\\ubcf5\\ud569\", \"\\ubcf8\\ubd80\", \"\\ubcf8\\ubd80\", \"\\ubd80\\ubd84\", \"\\ubd80\\uc0b0\", \"\\ubd80\\uc704\", \"\\ubd80\\uc704\", \"\\ubd80\\uc704\", \"\\ubd80\\uc791\\uc6a9\", \"\\ubd80\\uc791\\uc6a9\", \"\\ubd80\\uc871\", \"\\ubd80\\uc871\", \"\\ubd84\\ube44\", \"\\ubd84\\ube44\", \"\\ubd84\\ube44\", \"\\ubd84\\uc11d\", \"\\ubd84\\uc11d\", \"\\ubd84\\uc57c\", \"\\ubd84\\uc57c\", \"\\ubd88\\uc548\", \"\\ube44\\ub9cc\", \"\\ube44\\ud0c0\\ubbfc\", \"\\ube48\\ub3c4\", \"\\ube48\\ub3c4\", \"\\ube48\\ub3c4\", \"\\uc0ac\\uace0\", \"\\uc0ac\\ub840\", \"\\uc0ac\\ub840\", \"\\uc0ac\\ub9dd\", \"\\uc0ac\\ub9dd\", \"\\uc0ac\\ub9dd\\uc790\", \"\\uc0ac\\ub9dd\\uc790\", \"\\uc0ac\\uc5c5\", \"\\uc0ac\\uc5c5\", \"\\uc0ac\\uc5c5\", \"\\uc0ac\\uc6a9\", \"\\uc0ac\\uc6a9\", \"\\uc0ac\\uc774\", \"\\uc0ac\\uc774\", \"\\uc0ac\\uc774\", \"\\uc0ac\\uc774\", \"\\uc0b0\\uc18c\", \"\\uc0b0\\uc5c5\", \"\\uc0b0\\uc5c5\", \"\\uc0c1\\ucc98\", \"\\uc0c1\\ucc98\", \"\\uc0c1\\ud0dc\", \"\\uc0c1\\ud0dc\", \"\\uc0c1\\ud0dc\", \"\\uc0c1\\ud0dc\", \"\\uc0c1\\ud0dc\", \"\\uc0c1\\ud0dc\", \"\\uc0c1\\ud669\", \"\\uc0c1\\ud669\", \"\\uc0c1\\ud669\", \"\\uc0c1\\ud669\", \"\\uc0dd\\ub9ac\", \"\\uc0dd\\uc0b0\", \"\\uc0dd\\uc874\", \"\\uc0dd\\ud65c\", \"\\uc11c\\ube44\\uc2a4\", \"\\uc11c\\uc6b8\", \"\\uc11c\\uc6b8\", \"\\uc12c\\uc720\", \"\\uc12d\\ucde8\", \"\\uc12d\\ucde8\", \"\\uc131\\uacfc\", \"\\uc131\\ubd84\", \"\\uc131\\ubd84\", \"\\uc138\\uacc4\", \"\\uc138\\uacc4\", \"\\uc138\\uacc4\", \"\\uc138\\uade0\", \"\\uc138\\uade0\", \"\\uc138\\ud3ec\", \"\\uc138\\ud3ec\", \"\\uc13c\\ud130\", \"\\uc13c\\ud130\", \"\\uc13c\\ud130\", \"\\uc18c\\ub3c5\", \"\\uc18c\\ub9ac\", \"\\uc18c\\ubcc0\", \"\\uc18c\\uc18d\", \"\\uc18c\\uc544\", \"\\uc18c\\ud654\", \"\\uc190\\uac00\\ub77d\", \"\\uc190\\uc0c1\", \"\\uc190\\uc0c1\", \"\\uc190\\uc0c1\", \"\\uc190\\uc0c1\", \"\\uc218\\uba74\", \"\\uc218\\uc0c1\", \"\\uc218\\uc220\", \"\\uc218\\uc220\", \"\\uc218\\ucd95\", \"\\uc218\\uce59\", \"\\uc2a4\\ub9c8\\ud2b8\\ud3f0\", \"\\uc2a4\\ud14c\\ub85c\\uc774\\ub4dc\", \"\\uc2a4\\ud2b8\\ub808\\uc2a4\", \"\\uc2a4\\ud2b8\\ub808\\uc2a4\", \"\\uc2a4\\ud2b8\\ub808\\uc2a4\", \"\\uc2a4\\ud2b8\\ub808\\uce6d\", \"\\uc2b5\\uad00\", \"\\uc2b5\\uad00\", \"\\uc2b5\\uad00\", \"\\uc2b9\\uc778\", \"\\uc2dc\\ub825\", \"\\uc2dc\\uc124\", \"\\uc2dc\\uc2a4\\ud15c\", \"\\uc2dc\\uc791\", \"\\uc2dc\\uc791\", \"\\uc2dc\\uc791\", \"\\uc2dc\\uc791\", \"\\uc2dc\\uc791\", \"\\uc2dc\\uc791\", \"\\uc2dc\\uc791\", \"\\uc2dc\\uc7a5\", \"\\uc2dc\\ud589\", \"\\uc2dc\\ud589\", \"\\uc2dc\\ud589\", \"\\uc2dc\\ud5d8\", \"\\uc2dd\\uc0ac\", \"\\uc2dd\\uc0ac\", \"\\uc2dd\\uc0ac\", \"\\uc2dd\\uc0ac\", \"\\uc2dd\\uc695\", \"\\uc2dd\\uc774\", \"\\uc2dd\\ud488\", \"\\uc2dd\\ud488\", \"\\uc2e0\\uacbd\", \"\\uc2e0\\uacbd\", \"\\uc2e0\\uaddc\", \"\\uc2e0\\uaddc\", \"\\uc2e0\\uc57d\", \"\\uc2e0\\uc7a5\", \"\\uc2e0\\uc885\", \"\\uc2e0\\uccb4\", \"\\uc2e0\\uccb4\", \"\\uc2e0\\uccb4\", \"\\uc2e0\\uccb4\", \"\\uc2e0\\uccb4\", \"\\uc2e4\\ub0b4\", \"\\uc2e4\\ucc9c\", \"\\uc2ec\\ub9ac\", \"\\uc2ec\\uc7a5\", \"\\uc2ec\\ud608\", \"\\uc544\\uc2dc\\uc544\", \"\\uc544\\uc774\", \"\\uc544\\uce68\", \"\\uc545\\ud654\", \"\\uc545\\ud654\", \"\\uc548\\uc804\", \"\\uc548\\uc804\", \"\\uc548\\uc804\", \"\\uc548\\uc804\", \"\\uc548\\uc804\", \"\\uc548\\uc804\", \"\\uc54c\\ub808\\ub974\\uae30\", \"\\uc54c\\ucf54\\uc62c\", \"\\uc554\", \"\\uc555\\ub825\", \"\\uc57c\\uc678\", \"\\uc57d\\ubb3c\", \"\\uc57d\\ubb3c\", \"\\uc57d\\uc81c\", \"\\uc57d\\uc81c\", \"\\uc57d\\ud488\", \"\\uc591\\uc0c1\", \"\\uc591\\uc131\", \"\\uc591\\uc131\", \"\\uc5b4\\uae68\", \"\\uc5b5\\uc81c\", \"\\uc5b5\\uc81c\", \"\\uc5c9\\ub369\\uc774\", \"\\uc5ec\\uc131\", \"\\uc5ed\\ub958\", \"\\uc5f0\\uace8\", \"\\uc5f0\\uad00\", \"\\uc5f0\\uad6c\", \"\\uc5f0\\uad6c\", \"\\uc5f0\\uad6c\\uc18c\", \"\\uc5fc\\uc99d\", \"\\uc5fc\\uc99d\", \"\\uc5fc\\uc99d\", \"\\uc5fc\\uc99d\", \"\\uc5fc\\uc99d\", \"\\uc601\\uad6d\", \"\\uc601\\uc0c1\", \"\\uc601\\uc0c1\", \"\\uc601\\uc591\\uc18c\", \"\\uc608\\ubc29\", \"\\uc608\\ubc29\", \"\\uc608\\ubc29\", \"\\uc608\\ubc29\", \"\\uc608\\ubc29\", \"\\uc608\\ubc29\\ubc95\", \"\\uc608\\ud6c4\", \"\\uc624\\uc804\", \"\\uc624\\ud6c4\", \"\\uc628\\ubab8\", \"\\uc644\\uce58\", \"\\uc694\\ubc95\", \"\\uc694\\ubc95\", \"\\uc6b0\\uc6b8\", \"\\uc6b0\\uc6b8\", \"\\uc6b0\\uc6b8\\uc99d\", \"\\uc6b4\\ub3d9\", \"\\uc6d0\\uc778\", \"\\uc6d0\\uc778\", \"\\uc6d0\\uc778\", \"\\uc704\\uc0dd\", \"\\uc704\\uc6d0\\ud68c\", \"\\uc704\\ud5d8\", \"\\uc704\\ud5d8\", \"\\uc704\\ud5d8\", \"\\uc704\\ud5d8\", \"\\uc704\\ud5d8\", \"\\uc720\\ub3c4\", \"\\uc720\\ub3c4\", \"\\uc720\\ubc1c\", \"\\uc720\\ubc1c\", \"\\uc720\\ubc1c\", \"\\uc720\\ubc1c\", \"\\uc720\\ubc1c\", \"\\uc720\\ubc1c\", \"\\uc720\\ubcd1\", \"\\uc720\\uc0b0\\uc18c\", \"\\uc720\\uc785\", \"\\uc720\\uc804\", \"\\uc720\\uc9c0\", \"\\uc720\\uc9c0\", \"\\uc720\\uc9c0\", \"\\uc720\\uc9c0\", \"\\uc720\\ud1b5\", \"\\uc720\\ud589\", \"\\uc720\\ud589\", \"\\uc74c\\uc2dd\", \"\\uc74c\\uc8fc\", \"\\uc74c\\uc8fc\", \"\\uc74c\\uc8fc\", \"\\uc758\\ub8cc\", \"\\uc758\\ubb34\", \"\\uc758\\uc2ec\", \"\\uc758\\uc2ec\", \"\\uc758\\uc57d\\ud488\", \"\\uc758\\uc6d0\", \"\\uc758\\uc6d0\", \"\\uc774\\uc0c1\", \"\\uc774\\uc0c1\", \"\\uc774\\uc0c1\", \"\\uc774\\uc0c1\", \"\\uc774\\uc0c1\", \"\\uc774\\uc0c1\", \"\\uc774\\uc0c1\", \"\\uc774\\uc0c1\", \"\\uc774\\uc6a9\", \"\\uc774\\uc6a9\", \"\\uc774\\uc6a9\", \"\\uc774\\uc6a9\", \"\\uc774\\uc6a9\", \"\\uc774\\uc804\", \"\\uc778\\uacf5\", \"\\uc778\\uad6c\", \"\\uc778\\uc290\\ub9b0\", \"\\uc778\\ucc9c\", \"\\uc778\\uccb4\", \"\\uc77c\\uad50\\ucc28\", \"\\uc77c\\ubc18\", \"\\uc77c\\ubc18\", \"\\uc77c\\ubc18\", \"\\uc77c\\ubc18\", \"\\uc77c\\ubc18\", \"\\uc77c\\uc0c1\", \"\\uc77c\\uc0c1\", \"\\uc77c\\uc0c1\", \"\\uc77c\\uc2dc\", \"\\uc77c\\uc815\", \"\\uc784\\uc0c1\", \"\\uc784\\uc0c1\\uc2dc\\ud5d8\", \"\\uc784\\uc2e0\", \"\\uc790\\uad81\", \"\\uc790\\uadf9\", \"\\uc790\\uadf9\", \"\\uc790\\uadf9\", \"\\uc790\\ub8cc\", \"\\uc790\\ub8cc\", \"\\uc790\\uc138\", \"\\uc790\\uc81c\", \"\\uc7a5\\uc2dc\\uac04\", \"\\uc7a5\\uc560\", \"\\uc7a5\\uc560\", \"\\uc7ac\\ubc1c\", \"\\uc800\\ub110\", \"\\uc800\\ub141\", \"\\uc800\\ud558\", \"\\uc800\\ud558\", \"\\uc800\\ud558\", \"\\uc804\\uad6d\", \"\\uc804\\uad6d\", \"\\uc804\\ub0a0\", \"\\uc804\\ubd81\", \"\\uc804\\uc2e0\", \"\\uc804\\uc2e0\", \"\\uc804\\uc2e0\", \"\\uc808\\uac1c\", \"\\uc808\\uc81c\\uc220\", \"\\uc808\\uc81c\\uc220\", \"\\uc810\\ub9c9\", \"\\uc810\\ub9c9\", \"\\uc811\\uc885\", \"\\uc815\\uae30\", \"\\uc815\\uae30\", \"\\uc815\\ub9e5\", \"\\uc815\\uc0c1\", \"\\uc815\\uc0c1\", \"\\uc815\\uc0c1\", \"\\uc815\\uc2e0\", \"\\uc815\\ud655\", \"\\uc815\\ud655\", \"\\uc81c\\uac70\", \"\\uc81c\\uacf5\", \"\\uc81c\\uc2dc\", \"\\uc81c\\uc57d\", \"\\uc81c\\uc57d\\uc0ac\", \"\\uc81c\\ud488\", \"\\uc81c\\ud488\", \"\\uc870\\uae30\", \"\\uc870\\uae30\", \"\\uc870\\ub9ac\", \"\\uc870\\uc0ac\", \"\\uc870\\uc0ac\", \"\\uc870\\uc808\", \"\\uc870\\uc808\", \"\\uc870\\uc808\", \"\\uc870\\uc9c1\", \"\\uc870\\uc9c1\", \"\\uc870\\uc9c1\", \"\\uc870\\uce58\", \"\\uc885\\uc591\", \"\\uc88c\\uc6b0\", \"\\uc8fc\\uae30\", \"\\uc8fc\\uae30\", \"\\uc8fc\\ubaa9\", \"\\uc8fc\\uc758\", \"\\uc8fc\\uc758\", \"\\uc8fc\\uc758\", \"\\uc8fc\\uc758\", \"\\uc8fc\\uc758\", \"\\uc8fc\\uc81c\", \"\\uc8fd\\uc0c1\\uacbd\\ud654\\uc99d\", \"\\uc911\\uad6d\", \"\\uc911\\uc559\", \"\\uc911\\uc694\", \"\\uc911\\uc694\", \"\\uc911\\uc694\", \"\\uc911\\uc694\", \"\\uc911\\uc99d\", \"\\uc911\\uc99d\", \"\\uc911\\uc99d\", \"\\uc99d\\uac00\", \"\\uc99d\\uac00\", \"\\uc99d\\uac00\", \"\\uc99d\\uc0c1\", \"\\uc99d\\uc138\", \"\\uc99d\\uc138\", \"\\uc9c0\\ubc29\", \"\\uc9c0\\ubc29\", \"\\uc9c0\\uc18d\", \"\\uc9c0\\uc18d\", \"\\uc9c0\\uc18d\", \"\\uc9c0\\uc18d\", \"\\uc9c0\\uc18d\", \"\\uc9c0\\uc218\", \"\\uc9c0\\uc5ed\", \"\\uc9c0\\uc801\", \"\\uc9c0\\uce68\", \"\\uc9c4\\ub2e8\", \"\\uc9c4\\ub2e8\", \"\\uc9c4\\ub2e8\", \"\\uc9c4\\ub8cc\", \"\\uc9c4\\ub8cc\", \"\\uc9c4\\ub8cc\", \"\\uc9c4\\ud1b5\\uc81c\", \"\\uc9c8\\ud658\", \"\\uc9c8\\ud658\", \"\\ucc28\\ub2e8\", \"\\ucc29\\uc6a9\", \"\\ucc29\\uc6a9\", \"\\ucc44\\uc18c\", \"\\ucc98\\ubc29\", \"\\ucc99\\ucd94\", \"\\ucc9c\\uc2dd\", \"\\ucc9c\\uc2dd\", \"\\uccad\\uc18c\\ub144\", \"\\uccb4\\uc628\", \"\\ucd2c\\uc601\", \"\\ucd5c\\uadfc\", \"\\ucd5c\\uadfc\", \"\\ucd5c\\uadfc\", \"\\ucd5c\\uadfc\", \"\\ucd5c\\uadfc\", \"\\ucd5c\\uadfc\", \"\\ucd5c\\uadfc\", \"\\ucd5c\\uadfc\", \"\\ucd5c\\uc120\", \"\\ucd94\\uc9c4\", \"\\ucd94\\ucc9c\", \"\\ucd94\\uce21\", \"\\ucda9\\uaca9\", \"\\ucda9\\ubd81\", \"\\ucde8\\ub7c9\", \"\\uce21\\uc815\", \"\\uce21\\uc815\", \"\\uce58\\uacfc\", \"\\uce58\\ub8cc\", \"\\uce58\\ub8cc\\ubc95\", \"\\uce58\\ub8cc\\uc81c\", \"\\uce58\\ub9e4\", \"\\uce58\\uba85\\ub960\", \"\\uce58\\uc544\", \"\\uce74\\ud398\\uc778\", \"\\ucee4\\ud53c\", \"\\ucf54\\ub85c\\ub098-19\", \"\\ucf54\\ub85c\\ub098-19\", \"\\ucf54\\ub85c\\ub098-19\", \"\\ucf5c\\ub808\\uc2a4\\ud14c\\ub864\", \"\\ud1b5\\uc99d\", \"\\ud22c\\uc57d\", \"\\ud22c\\uc5ec\", \"\\ud2b8\\ub9ac\", \"\\ud30c\\uad34\", \"\\ud30c\\uad34\", \"\\ud310\\uc815\", \"\\ud3d0\\uacbd\", \"\\ud3d0\\uacbd\", \"\\ud3d0\\ub834\", \"\\ud3ec\\ud568\", \"\\ud3ec\\ud568\", \"\\ud3ec\\ud568\", \"\\ud3ec\\ud568\", \"\\ud3ec\\ud568\", \"\\ud45c\\uba74\", \"\\ud45c\\ud604\", \"\\ud504\\ub85c\\uadf8\\ub7a8\", \"\\ud53c\\uace4\", \"\\ud53c\\ub85c\", \"\\ud53c\\ubd80\", \"\\ud53c\\ubd80\", \"\\ud559\\uad50\", \"\\ud559\\uc220\", \"\\ud559\\uc220\\uc9c0\", \"\\ud559\\ud68c\", \"\\ud559\\ud68c\", \"\\ud559\\ud68c\", \"\\ud55c\\uad6d\", \"\\ud55c\\uad6d\", \"\\ud55c\\uad6d\", \"\\ud568\\ub7c9\", \"\\ud568\\uc720\", \"\\ud569\\uc131\", \"\\ud56d\\uc0b0\", \"\\ud56d\\uc0dd\\uc81c\", \"\\ud56d\\uc0dd\\uc81c\", \"\\ud56d\\uc0dd\\uc81c\", \"\\ud56d\\uc554\", \"\\ud56d\\uc6d0\", \"\\ud574\\uc678\", \"\\ud574\\uc678\", \"\\ud589\\ub3d9\", \"\\ud5c8\\uac00\", \"\\ud5c8\\ub9ac\", \"\\ud5ec\\uc2a4\", \"\\ud604\\ud669\", \"\\ud604\\ud6c8\", \"\\ud604\\ud6c8\", \"\\ud608\\uad00\", \"\\ud608\\uad00\", \"\\ud608\\ub2f9\", \"\\ud608\\uc555\", \"\\ud608\\uc561\", \"\\ud608\\uc804\", \"\\ud638\\ub974\\ubaac\", \"\\ud638\\ub974\\ubaac\", \"\\ud638\\ub974\\ubaac\", \"\\ud638\\ub974\\ubaac\", \"\\ud638\\uc804\", \"\\ud638\\ud761\", \"\\ud638\\ud761\\uae30\", \"\\ud638\\ud761\\uae30\", \"\\ud655\\ubcf4\", \"\\ud655\\uc778\", \"\\ud655\\uc778\", \"\\ud655\\uc778\", \"\\ud655\\uc778\", \"\\ud655\\uc778\", \"\\ud655\\uc9c4\", \"\\ud658\\uc790\", \"\\ud658\\uc790\", \"\\ud65c\\ub3d9\", \"\\ud65c\\ub3d9\", \"\\ud65c\\uc6a9\", \"\\ud65c\\uc6a9\", \"\\ud69f\\uc218\", \"\\ud6a8\\uacfc\", \"\\ud6a8\\uacfc\", \"\\ud6a8\\uacfc\", \"\\ud6a8\\ub2a5\", \"\\ud761\\uc218\"]}, \"R\": 15, \"lambda.step\": 0.01, \"plot.opts\": {\"xlab\": \"PC1\", \"ylab\": \"PC2\"}, \"topic.order\": [7, 11, 2, 12, 5, 14, 1, 18, 6, 15, 16, 10, 4, 3, 17, 13, 8, 9]};\n",
              "\n",
              "function LDAvis_load_lib(url, callback){\n",
              "  var s = document.createElement('script');\n",
              "  s.src = url;\n",
              "  s.async = true;\n",
              "  s.onreadystatechange = s.onload = callback;\n",
              "  s.onerror = function(){console.warn(\"failed to load library \" + url);};\n",
              "  document.getElementsByTagName(\"head\")[0].appendChild(s);\n",
              "}\n",
              "\n",
              "if(typeof(LDAvis) !== \"undefined\"){\n",
              "   // already loaded: just create the visualization\n",
              "   !function(LDAvis){\n",
              "       new LDAvis(\"#\" + \"ldavis_el551398558591138002059325469\", ldavis_el551398558591138002059325469_data);\n",
              "   }(LDAvis);\n",
              "}else if(typeof define === \"function\" && define.amd){\n",
              "   // require.js is available: use it to load d3/LDAvis\n",
              "   require.config({paths: {d3: \"https://cdnjs.cloudflare.com/ajax/libs/d3/3.5.5/d3.min\"}});\n",
              "   require([\"d3\"], function(d3){\n",
              "      window.d3 = d3;\n",
              "      LDAvis_load_lib(\"https://cdn.rawgit.com/bmabey/pyLDAvis/files/ldavis.v1.0.0.js\", function(){\n",
              "        new LDAvis(\"#\" + \"ldavis_el551398558591138002059325469\", ldavis_el551398558591138002059325469_data);\n",
              "      });\n",
              "    });\n",
              "}else{\n",
              "    // require.js not available: dynamically load d3 & LDAvis\n",
              "    LDAvis_load_lib(\"https://cdnjs.cloudflare.com/ajax/libs/d3/3.5.5/d3.min.js\", function(){\n",
              "         LDAvis_load_lib(\"https://cdn.rawgit.com/bmabey/pyLDAvis/files/ldavis.v1.0.0.js\", function(){\n",
              "                 new LDAvis(\"#\" + \"ldavis_el551398558591138002059325469\", ldavis_el551398558591138002059325469_data);\n",
              "            })\n",
              "         });\n",
              "}\n",
              "</script>"
            ],
            "text/plain": [
              "<IPython.core.display.HTML object>"
            ]
          },
          "metadata": {
            "tags": []
          },
          "execution_count": 137
        }
      ]
    },
    {
      "cell_type": "code",
      "metadata": {
        "id": "TDB6Ont2Gzpq"
      },
      "source": [
        "del result\n",
        "del topic_df"
      ],
      "execution_count": null,
      "outputs": []
    },
    {
      "cell_type": "code",
      "metadata": {
        "id": "ahqhVYLeGb53"
      },
      "source": [
        "import matplotlib\n",
        "from sklearn.manifold import TSNE\n",
        "import matplotlib.pyplot as plt"
      ],
      "execution_count": null,
      "outputs": []
    },
    {
      "cell_type": "code",
      "metadata": {
        "colab": {
          "base_uri": "https://localhost:8080/",
          "height": 84
        },
        "id": "V-hZHcTNEEgh",
        "outputId": "133b5f2d-2be9-44eb-be66-47054602dd05"
      },
      "source": [
        "model = gensim.models.wrappers.ldamallet.malletmodel2ldamodel(ldamallet)\n",
        "\n",
        "column = []\n",
        "for x in range(start + step * topic_idx):\n",
        "    column.append(\"topic {}\".format(x+1))\n",
        "topic_df = pd.DataFrame(columns = column)\n",
        "topic_df"
      ],
      "execution_count": null,
      "outputs": [
        {
          "output_type": "execute_result",
          "data": {
            "text/html": [
              "<div>\n",
              "<style scoped>\n",
              "    .dataframe tbody tr th:only-of-type {\n",
              "        vertical-align: middle;\n",
              "    }\n",
              "\n",
              "    .dataframe tbody tr th {\n",
              "        vertical-align: top;\n",
              "    }\n",
              "\n",
              "    .dataframe thead th {\n",
              "        text-align: right;\n",
              "    }\n",
              "</style>\n",
              "<table border=\"1\" class=\"dataframe\">\n",
              "  <thead>\n",
              "    <tr style=\"text-align: right;\">\n",
              "      <th></th>\n",
              "      <th>topic 1</th>\n",
              "      <th>topic 2</th>\n",
              "      <th>topic 3</th>\n",
              "      <th>topic 4</th>\n",
              "      <th>topic 5</th>\n",
              "      <th>topic 6</th>\n",
              "      <th>topic 7</th>\n",
              "      <th>topic 8</th>\n",
              "      <th>topic 9</th>\n",
              "      <th>topic 10</th>\n",
              "      <th>topic 11</th>\n",
              "      <th>topic 12</th>\n",
              "      <th>topic 13</th>\n",
              "      <th>topic 14</th>\n",
              "      <th>topic 15</th>\n",
              "      <th>topic 16</th>\n",
              "      <th>topic 17</th>\n",
              "      <th>topic 18</th>\n",
              "    </tr>\n",
              "  </thead>\n",
              "  <tbody>\n",
              "  </tbody>\n",
              "</table>\n",
              "</div>"
            ],
            "text/plain": [
              "Empty DataFrame\n",
              "Columns: [topic 1, topic 2, topic 3, topic 4, topic 5, topic 6, topic 7, topic 8, topic 9, topic 10, topic 11, topic 12, topic 13, topic 14, topic 15, topic 16, topic 17, topic 18]\n",
              "Index: []"
            ]
          },
          "metadata": {
            "tags": []
          },
          "execution_count": 126
        }
      ]
    },
    {
      "cell_type": "code",
      "metadata": {
        "colab": {
          "base_uri": "https://localhost:8080/",
          "height": 356
        },
        "id": "K-AAS4_3GQ4j",
        "outputId": "f4161763-bf1b-4db2-e01f-329404105635"
      },
      "source": [
        "result = pd.DataFrame(columns=['class'])\n",
        "for idx, row in enumerate(model[corpus]):\n",
        "    (topic_num, prop_topic) = sorted(row, key=lambda x: (x[1]), reverse=True)[0]\n",
        "    result.loc[idx, 'class'] = int(topic_num)\n",
        "    percs=[]\n",
        "    for topic, perc in row:\n",
        "        percs.append(perc)\n",
        "    topic_df.loc[idx] = percs\n",
        "topic_df.head()"
      ],
      "execution_count": null,
      "outputs": [
        {
          "output_type": "error",
          "ename": "ValueError",
          "evalue": "ignored",
          "traceback": [
            "\u001b[0;31m---------------------------------------------------------------------------\u001b[0m",
            "\u001b[0;31mValueError\u001b[0m                                Traceback (most recent call last)",
            "\u001b[0;32m<ipython-input-128-247a198b237a>\u001b[0m in \u001b[0;36m<module>\u001b[0;34m()\u001b[0m\n\u001b[1;32m      6\u001b[0m     \u001b[0;32mfor\u001b[0m \u001b[0mtopic\u001b[0m\u001b[0;34m,\u001b[0m \u001b[0mperc\u001b[0m \u001b[0;32min\u001b[0m \u001b[0mrow\u001b[0m\u001b[0;34m:\u001b[0m\u001b[0;34m\u001b[0m\u001b[0;34m\u001b[0m\u001b[0m\n\u001b[1;32m      7\u001b[0m         \u001b[0mpercs\u001b[0m\u001b[0;34m.\u001b[0m\u001b[0mappend\u001b[0m\u001b[0;34m(\u001b[0m\u001b[0mperc\u001b[0m\u001b[0;34m)\u001b[0m\u001b[0;34m\u001b[0m\u001b[0;34m\u001b[0m\u001b[0m\n\u001b[0;32m----> 8\u001b[0;31m     \u001b[0mtopic_df\u001b[0m\u001b[0;34m.\u001b[0m\u001b[0mloc\u001b[0m\u001b[0;34m[\u001b[0m\u001b[0midx\u001b[0m\u001b[0;34m]\u001b[0m \u001b[0;34m=\u001b[0m \u001b[0mpercs\u001b[0m\u001b[0;34m\u001b[0m\u001b[0;34m\u001b[0m\u001b[0m\n\u001b[0m\u001b[1;32m      9\u001b[0m \u001b[0mtopic_df\u001b[0m\u001b[0;34m.\u001b[0m\u001b[0mhead\u001b[0m\u001b[0;34m(\u001b[0m\u001b[0;34m)\u001b[0m\u001b[0;34m\u001b[0m\u001b[0;34m\u001b[0m\u001b[0m\n",
            "\u001b[0;32m/usr/local/lib/python3.6/dist-packages/pandas/core/indexing.py\u001b[0m in \u001b[0;36m__setitem__\u001b[0;34m(self, key, value)\u001b[0m\n\u001b[1;32m    668\u001b[0m \u001b[0;34m\u001b[0m\u001b[0m\n\u001b[1;32m    669\u001b[0m         \u001b[0miloc\u001b[0m \u001b[0;34m=\u001b[0m \u001b[0mself\u001b[0m \u001b[0;32mif\u001b[0m \u001b[0mself\u001b[0m\u001b[0;34m.\u001b[0m\u001b[0mname\u001b[0m \u001b[0;34m==\u001b[0m \u001b[0;34m\"iloc\"\u001b[0m \u001b[0;32melse\u001b[0m \u001b[0mself\u001b[0m\u001b[0;34m.\u001b[0m\u001b[0mobj\u001b[0m\u001b[0;34m.\u001b[0m\u001b[0miloc\u001b[0m\u001b[0;34m\u001b[0m\u001b[0;34m\u001b[0m\u001b[0m\n\u001b[0;32m--> 670\u001b[0;31m         \u001b[0miloc\u001b[0m\u001b[0;34m.\u001b[0m\u001b[0m_setitem_with_indexer\u001b[0m\u001b[0;34m(\u001b[0m\u001b[0mindexer\u001b[0m\u001b[0;34m,\u001b[0m \u001b[0mvalue\u001b[0m\u001b[0;34m)\u001b[0m\u001b[0;34m\u001b[0m\u001b[0;34m\u001b[0m\u001b[0m\n\u001b[0m\u001b[1;32m    671\u001b[0m \u001b[0;34m\u001b[0m\u001b[0m\n\u001b[1;32m    672\u001b[0m     \u001b[0;32mdef\u001b[0m \u001b[0m_validate_key\u001b[0m\u001b[0;34m(\u001b[0m\u001b[0mself\u001b[0m\u001b[0;34m,\u001b[0m \u001b[0mkey\u001b[0m\u001b[0;34m,\u001b[0m \u001b[0maxis\u001b[0m\u001b[0;34m:\u001b[0m \u001b[0mint\u001b[0m\u001b[0;34m)\u001b[0m\u001b[0;34m:\u001b[0m\u001b[0;34m\u001b[0m\u001b[0;34m\u001b[0m\u001b[0m\n",
            "\u001b[0;32m/usr/local/lib/python3.6/dist-packages/pandas/core/indexing.py\u001b[0m in \u001b[0;36m_setitem_with_indexer\u001b[0;34m(self, indexer, value)\u001b[0m\n\u001b[1;32m   1624\u001b[0m \u001b[0;34m\u001b[0m\u001b[0m\n\u001b[1;32m   1625\u001b[0m             \u001b[0;32mif\u001b[0m \u001b[0mmissing\u001b[0m\u001b[0;34m:\u001b[0m\u001b[0;34m\u001b[0m\u001b[0;34m\u001b[0m\u001b[0m\n\u001b[0;32m-> 1626\u001b[0;31m                 \u001b[0mself\u001b[0m\u001b[0;34m.\u001b[0m\u001b[0m_setitem_with_indexer_missing\u001b[0m\u001b[0;34m(\u001b[0m\u001b[0mindexer\u001b[0m\u001b[0;34m,\u001b[0m \u001b[0mvalue\u001b[0m\u001b[0;34m)\u001b[0m\u001b[0;34m\u001b[0m\u001b[0;34m\u001b[0m\u001b[0m\n\u001b[0m\u001b[1;32m   1627\u001b[0m                 \u001b[0;32mreturn\u001b[0m\u001b[0;34m\u001b[0m\u001b[0;34m\u001b[0m\u001b[0m\n\u001b[1;32m   1628\u001b[0m \u001b[0;34m\u001b[0m\u001b[0m\n",
            "\u001b[0;32m/usr/local/lib/python3.6/dist-packages/pandas/core/indexing.py\u001b[0m in \u001b[0;36m_setitem_with_indexer_missing\u001b[0;34m(self, indexer, value)\u001b[0m\n\u001b[1;32m   1854\u001b[0m                     \u001b[0;31m# must have conforming columns\u001b[0m\u001b[0;34m\u001b[0m\u001b[0;34m\u001b[0m\u001b[0;34m\u001b[0m\u001b[0m\n\u001b[1;32m   1855\u001b[0m                     \u001b[0;32mif\u001b[0m \u001b[0mlen\u001b[0m\u001b[0;34m(\u001b[0m\u001b[0mvalue\u001b[0m\u001b[0;34m)\u001b[0m \u001b[0;34m!=\u001b[0m \u001b[0mlen\u001b[0m\u001b[0;34m(\u001b[0m\u001b[0mself\u001b[0m\u001b[0;34m.\u001b[0m\u001b[0mobj\u001b[0m\u001b[0;34m.\u001b[0m\u001b[0mcolumns\u001b[0m\u001b[0;34m)\u001b[0m\u001b[0;34m:\u001b[0m\u001b[0;34m\u001b[0m\u001b[0;34m\u001b[0m\u001b[0m\n\u001b[0;32m-> 1856\u001b[0;31m                         \u001b[0;32mraise\u001b[0m \u001b[0mValueError\u001b[0m\u001b[0;34m(\u001b[0m\u001b[0;34m\"cannot set a row with mismatched columns\"\u001b[0m\u001b[0;34m)\u001b[0m\u001b[0;34m\u001b[0m\u001b[0;34m\u001b[0m\u001b[0m\n\u001b[0m\u001b[1;32m   1857\u001b[0m \u001b[0;34m\u001b[0m\u001b[0m\n\u001b[1;32m   1858\u001b[0m                 \u001b[0mvalue\u001b[0m \u001b[0;34m=\u001b[0m \u001b[0mSeries\u001b[0m\u001b[0;34m(\u001b[0m\u001b[0mvalue\u001b[0m\u001b[0;34m,\u001b[0m \u001b[0mindex\u001b[0m\u001b[0;34m=\u001b[0m\u001b[0mself\u001b[0m\u001b[0;34m.\u001b[0m\u001b[0mobj\u001b[0m\u001b[0;34m.\u001b[0m\u001b[0mcolumns\u001b[0m\u001b[0;34m,\u001b[0m \u001b[0mname\u001b[0m\u001b[0;34m=\u001b[0m\u001b[0mindexer\u001b[0m\u001b[0;34m)\u001b[0m\u001b[0;34m\u001b[0m\u001b[0;34m\u001b[0m\u001b[0m\n",
            "\u001b[0;31mValueError\u001b[0m: cannot set a row with mismatched columns"
          ]
        }
      ]
    },
    {
      "cell_type": "code",
      "metadata": {
        "id": "DjL9MYLjMUf0"
      },
      "source": [
        "tsne = TSNE(learning_rate=100, n_components=2)\n",
        "transformed = tsne.fit_transform(topic_df[:])\n",
        "\n",
        "result['X'] = transformed[:, 0]\n",
        "result['Y'] = transformed[:, 1]"
      ],
      "execution_count": null,
      "outputs": []
    },
    {
      "cell_type": "code",
      "metadata": {
        "id": "vKYEJLEHJACJ"
      },
      "source": [
        "from bokeh.io import show, output_notebook, push_notebook, output_file, save\n",
        "from bokeh.plotting import figure\n",
        "from bokeh.models import ColumnDataSource, HoverTool\n",
        "from bokeh.palettes import Category20b\n",
        "from bokeh.transform import linear_cmap as LinearColorMapper"
      ],
      "execution_count": null,
      "outputs": []
    },
    {
      "cell_type": "code",
      "metadata": {
        "colab": {
          "base_uri": "https://localhost:8080/",
          "height": 558
        },
        "id": "xNzs4gb8H2iU",
        "outputId": "22a217c9-06d0-446a-a486-4f1720ee8ba0"
      },
      "source": [
        "plt.scatter(result['X'], result['Y'], marker='o',s=5, c = result['class'])\n",
        "plt.show()"
      ],
      "execution_count": null,
      "outputs": [
        {
          "output_type": "error",
          "ename": "KeyError",
          "evalue": "ignored",
          "traceback": [
            "\u001b[0;31m---------------------------------------------------------------------------\u001b[0m",
            "\u001b[0;31mKeyError\u001b[0m                                  Traceback (most recent call last)",
            "\u001b[0;32m/usr/local/lib/python3.6/dist-packages/pandas/core/indexes/base.py\u001b[0m in \u001b[0;36mget_loc\u001b[0;34m(self, key, method, tolerance)\u001b[0m\n\u001b[1;32m   2894\u001b[0m             \u001b[0;32mtry\u001b[0m\u001b[0;34m:\u001b[0m\u001b[0;34m\u001b[0m\u001b[0;34m\u001b[0m\u001b[0m\n\u001b[0;32m-> 2895\u001b[0;31m                 \u001b[0;32mreturn\u001b[0m \u001b[0mself\u001b[0m\u001b[0;34m.\u001b[0m\u001b[0m_engine\u001b[0m\u001b[0;34m.\u001b[0m\u001b[0mget_loc\u001b[0m\u001b[0;34m(\u001b[0m\u001b[0mcasted_key\u001b[0m\u001b[0;34m)\u001b[0m\u001b[0;34m\u001b[0m\u001b[0;34m\u001b[0m\u001b[0m\n\u001b[0m\u001b[1;32m   2896\u001b[0m             \u001b[0;32mexcept\u001b[0m \u001b[0mKeyError\u001b[0m \u001b[0;32mas\u001b[0m \u001b[0merr\u001b[0m\u001b[0;34m:\u001b[0m\u001b[0;34m\u001b[0m\u001b[0;34m\u001b[0m\u001b[0m\n",
            "\u001b[0;32mpandas/_libs/index.pyx\u001b[0m in \u001b[0;36mpandas._libs.index.IndexEngine.get_loc\u001b[0;34m()\u001b[0m\n",
            "\u001b[0;32mpandas/_libs/index.pyx\u001b[0m in \u001b[0;36mpandas._libs.index.IndexEngine.get_loc\u001b[0;34m()\u001b[0m\n",
            "\u001b[0;32mpandas/_libs/hashtable_class_helper.pxi\u001b[0m in \u001b[0;36mpandas._libs.hashtable.PyObjectHashTable.get_item\u001b[0;34m()\u001b[0m\n",
            "\u001b[0;32mpandas/_libs/hashtable_class_helper.pxi\u001b[0m in \u001b[0;36mpandas._libs.hashtable.PyObjectHashTable.get_item\u001b[0;34m()\u001b[0m\n",
            "\u001b[0;31mKeyError\u001b[0m: 'X'",
            "\nThe above exception was the direct cause of the following exception:\n",
            "\u001b[0;31mKeyError\u001b[0m                                  Traceback (most recent call last)",
            "\u001b[0;32m<ipython-input-129-5dcce6a719f7>\u001b[0m in \u001b[0;36m<module>\u001b[0;34m()\u001b[0m\n\u001b[0;32m----> 1\u001b[0;31m \u001b[0mplt\u001b[0m\u001b[0;34m.\u001b[0m\u001b[0mscatter\u001b[0m\u001b[0;34m(\u001b[0m\u001b[0mresult\u001b[0m\u001b[0;34m[\u001b[0m\u001b[0;34m'X'\u001b[0m\u001b[0;34m]\u001b[0m\u001b[0;34m,\u001b[0m \u001b[0mresult\u001b[0m\u001b[0;34m[\u001b[0m\u001b[0;34m'Y'\u001b[0m\u001b[0;34m]\u001b[0m\u001b[0;34m,\u001b[0m \u001b[0mmarker\u001b[0m\u001b[0;34m=\u001b[0m\u001b[0;34m'o'\u001b[0m\u001b[0;34m,\u001b[0m\u001b[0ms\u001b[0m\u001b[0;34m=\u001b[0m\u001b[0;36m5\u001b[0m\u001b[0;34m,\u001b[0m \u001b[0mc\u001b[0m \u001b[0;34m=\u001b[0m \u001b[0mresult\u001b[0m\u001b[0;34m[\u001b[0m\u001b[0;34m'class'\u001b[0m\u001b[0;34m]\u001b[0m\u001b[0;34m)\u001b[0m\u001b[0;34m\u001b[0m\u001b[0;34m\u001b[0m\u001b[0m\n\u001b[0m\u001b[1;32m      2\u001b[0m \u001b[0mplt\u001b[0m\u001b[0;34m.\u001b[0m\u001b[0mshow\u001b[0m\u001b[0;34m(\u001b[0m\u001b[0;34m)\u001b[0m\u001b[0;34m\u001b[0m\u001b[0;34m\u001b[0m\u001b[0m\n",
            "\u001b[0;32m/usr/local/lib/python3.6/dist-packages/pandas/core/frame.py\u001b[0m in \u001b[0;36m__getitem__\u001b[0;34m(self, key)\u001b[0m\n\u001b[1;32m   2904\u001b[0m             \u001b[0;32mif\u001b[0m \u001b[0mself\u001b[0m\u001b[0;34m.\u001b[0m\u001b[0mcolumns\u001b[0m\u001b[0;34m.\u001b[0m\u001b[0mnlevels\u001b[0m \u001b[0;34m>\u001b[0m \u001b[0;36m1\u001b[0m\u001b[0;34m:\u001b[0m\u001b[0;34m\u001b[0m\u001b[0;34m\u001b[0m\u001b[0m\n\u001b[1;32m   2905\u001b[0m                 \u001b[0;32mreturn\u001b[0m \u001b[0mself\u001b[0m\u001b[0;34m.\u001b[0m\u001b[0m_getitem_multilevel\u001b[0m\u001b[0;34m(\u001b[0m\u001b[0mkey\u001b[0m\u001b[0;34m)\u001b[0m\u001b[0;34m\u001b[0m\u001b[0;34m\u001b[0m\u001b[0m\n\u001b[0;32m-> 2906\u001b[0;31m             \u001b[0mindexer\u001b[0m \u001b[0;34m=\u001b[0m \u001b[0mself\u001b[0m\u001b[0;34m.\u001b[0m\u001b[0mcolumns\u001b[0m\u001b[0;34m.\u001b[0m\u001b[0mget_loc\u001b[0m\u001b[0;34m(\u001b[0m\u001b[0mkey\u001b[0m\u001b[0;34m)\u001b[0m\u001b[0;34m\u001b[0m\u001b[0;34m\u001b[0m\u001b[0m\n\u001b[0m\u001b[1;32m   2907\u001b[0m             \u001b[0;32mif\u001b[0m \u001b[0mis_integer\u001b[0m\u001b[0;34m(\u001b[0m\u001b[0mindexer\u001b[0m\u001b[0;34m)\u001b[0m\u001b[0;34m:\u001b[0m\u001b[0;34m\u001b[0m\u001b[0;34m\u001b[0m\u001b[0m\n\u001b[1;32m   2908\u001b[0m                 \u001b[0mindexer\u001b[0m \u001b[0;34m=\u001b[0m \u001b[0;34m[\u001b[0m\u001b[0mindexer\u001b[0m\u001b[0;34m]\u001b[0m\u001b[0;34m\u001b[0m\u001b[0;34m\u001b[0m\u001b[0m\n",
            "\u001b[0;32m/usr/local/lib/python3.6/dist-packages/pandas/core/indexes/base.py\u001b[0m in \u001b[0;36mget_loc\u001b[0;34m(self, key, method, tolerance)\u001b[0m\n\u001b[1;32m   2895\u001b[0m                 \u001b[0;32mreturn\u001b[0m \u001b[0mself\u001b[0m\u001b[0;34m.\u001b[0m\u001b[0m_engine\u001b[0m\u001b[0;34m.\u001b[0m\u001b[0mget_loc\u001b[0m\u001b[0;34m(\u001b[0m\u001b[0mcasted_key\u001b[0m\u001b[0;34m)\u001b[0m\u001b[0;34m\u001b[0m\u001b[0;34m\u001b[0m\u001b[0m\n\u001b[1;32m   2896\u001b[0m             \u001b[0;32mexcept\u001b[0m \u001b[0mKeyError\u001b[0m \u001b[0;32mas\u001b[0m \u001b[0merr\u001b[0m\u001b[0;34m:\u001b[0m\u001b[0;34m\u001b[0m\u001b[0;34m\u001b[0m\u001b[0m\n\u001b[0;32m-> 2897\u001b[0;31m                 \u001b[0;32mraise\u001b[0m \u001b[0mKeyError\u001b[0m\u001b[0;34m(\u001b[0m\u001b[0mkey\u001b[0m\u001b[0;34m)\u001b[0m \u001b[0;32mfrom\u001b[0m \u001b[0merr\u001b[0m\u001b[0;34m\u001b[0m\u001b[0;34m\u001b[0m\u001b[0m\n\u001b[0m\u001b[1;32m   2898\u001b[0m \u001b[0;34m\u001b[0m\u001b[0m\n\u001b[1;32m   2899\u001b[0m         \u001b[0;32mif\u001b[0m \u001b[0mtolerance\u001b[0m \u001b[0;32mis\u001b[0m \u001b[0;32mnot\u001b[0m \u001b[0;32mNone\u001b[0m\u001b[0;34m:\u001b[0m\u001b[0;34m\u001b[0m\u001b[0;34m\u001b[0m\u001b[0m\n",
            "\u001b[0;31mKeyError\u001b[0m: 'X'"
          ]
        }
      ]
    },
    {
      "cell_type": "code",
      "metadata": {
        "id": "4LHK0huR7-Z1",
        "colab": {
          "base_uri": "https://localhost:8080/",
          "height": 738
        },
        "outputId": "ed6e31d0-575c-4b61-910d-3fbc1492591a"
      },
      "source": [
        "#트윗들의 토픽을 확인 (토픽별로)\n",
        "def format_topics_sentences(ldamodel=ldamallet, corpus=corpus, texts=texts):\n",
        "    sent_topics_df = pd.DataFrame()\n",
        "\n",
        "    #ldamodel[corpus]: lda_model에 corpus를 넣어 각 토픽 당 확률을 알 수 있음\n",
        "    for i, row in enumerate(ldamodel[corpus]):\n",
        "        row = sorted(row, key=lambda x: (x[1]), reverse=True)\n",
        "        for j, (topic_num, prop_topic) in enumerate(row):\n",
        "            if j == 0: \n",
        "                wp = ldamodel.show_topic(topic_num,topn=20)\n",
        "                topic_keywords = \", \".join([word for word, prop in wp])\n",
        "                sent_topics_df = sent_topics_df.append(pd.Series([int(topic_num), round(prop_topic,4), topic_keywords]), ignore_index=True)\n",
        "            else:\n",
        "                break\n",
        "    sent_topics_df.columns = ['Dominant_Topic', 'Perc_Contribution', 'Topic_Keywords']\n",
        "\n",
        "    contents = pd.Series(texts)\n",
        "    sent_topics_df = pd.concat([sent_topics_df, contents], axis=1)\n",
        "    return(sent_topics_df)\n",
        "\n",
        "\n",
        "df_topic_sents_keywords = format_topics_sentences(ldamodel=ldamallet, corpus=corpus, texts=texts)\n",
        "df_dominant_topic = df_topic_sents_keywords.reset_index()\n",
        "df_dominant_topic.columns = ['Document_No', 'Dominant_Topic', 'Topic_Perc_Contrib', 'Keywords', 'Text']\n",
        "\n",
        "\n",
        "df_dominant_topic=df_dominant_topic.sort_values(by=['Dominant_Topic'])\n",
        "df_dominant_topic"
      ],
      "execution_count": null,
      "outputs": [
        {
          "output_type": "execute_result",
          "data": {
            "text/html": [
              "<div>\n",
              "<style scoped>\n",
              "    .dataframe tbody tr th:only-of-type {\n",
              "        vertical-align: middle;\n",
              "    }\n",
              "\n",
              "    .dataframe tbody tr th {\n",
              "        vertical-align: top;\n",
              "    }\n",
              "\n",
              "    .dataframe thead th {\n",
              "        text-align: right;\n",
              "    }\n",
              "</style>\n",
              "<table border=\"1\" class=\"dataframe\">\n",
              "  <thead>\n",
              "    <tr style=\"text-align: right;\">\n",
              "      <th></th>\n",
              "      <th>Document_No</th>\n",
              "      <th>Dominant_Topic</th>\n",
              "      <th>Topic_Perc_Contrib</th>\n",
              "      <th>Keywords</th>\n",
              "      <th>Text</th>\n",
              "    </tr>\n",
              "  </thead>\n",
              "  <tbody>\n",
              "    <tr>\n",
              "      <th>167</th>\n",
              "      <td>167</td>\n",
              "      <td>0.0</td>\n",
              "      <td>0.2130</td>\n",
              "      <td>방법, 부위, 제거, 치아, 세균, 구강, 교정, 과정, 중요, 손상, 시작, 사이...</td>\n",
              "      <td>[경희대, 치과, 병원, 김성훈, 교수, 매복 사랑니, 견인, 시행, 임상, 연구,...</td>\n",
              "    </tr>\n",
              "    <tr>\n",
              "      <th>556</th>\n",
              "      <td>556</td>\n",
              "      <td>0.0</td>\n",
              "      <td>0.2181</td>\n",
              "      <td>방법, 부위, 제거, 치아, 세균, 구강, 교정, 과정, 중요, 손상, 시작, 사이...</td>\n",
              "      <td>[마스크, 요즘, 냄새, 고민, 잇몸, 질환, 충치, 당뇨병, 입속, 기저, 질환,...</td>\n",
              "    </tr>\n",
              "    <tr>\n",
              "      <th>812</th>\n",
              "      <td>812</td>\n",
              "      <td>0.0</td>\n",
              "      <td>0.2006</td>\n",
              "      <td>방법, 부위, 제거, 치아, 세균, 구강, 교정, 과정, 중요, 손상, 시작, 사이...</td>\n",
              "      <td>[충치, 치아, 손상, 치과, 방문, 신경, 치료, 신경, 치료, 오랫동안, 사용,...</td>\n",
              "    </tr>\n",
              "    <tr>\n",
              "      <th>804</th>\n",
              "      <td>804</td>\n",
              "      <td>0.0</td>\n",
              "      <td>0.2703</td>\n",
              "      <td>방법, 부위, 제거, 치아, 세균, 구강, 교정, 과정, 중요, 손상, 시작, 사이...</td>\n",
              "      <td>[보통, 소리, 소리, 주변, 눈치, 불편, 상황, 초래, 증상, 이유, 뭘까, 소...</td>\n",
              "    </tr>\n",
              "    <tr>\n",
              "      <th>276</th>\n",
              "      <td>276</td>\n",
              "      <td>0.0</td>\n",
              "      <td>0.2009</td>\n",
              "      <td>방법, 부위, 제거, 치아, 세균, 구강, 교정, 과정, 중요, 손상, 시작, 사이...</td>\n",
              "      <td>[소음, 누구, 일반, 신경, 소리, 소리, 소리, 청각, 과민증, 의심, 스트레스...</td>\n",
              "    </tr>\n",
              "    <tr>\n",
              "      <th>...</th>\n",
              "      <td>...</td>\n",
              "      <td>...</td>\n",
              "      <td>...</td>\n",
              "      <td>...</td>\n",
              "      <td>...</td>\n",
              "    </tr>\n",
              "    <tr>\n",
              "      <th>139</th>\n",
              "      <td>139</td>\n",
              "      <td>17.0</td>\n",
              "      <td>0.2529</td>\n",
              "      <td>증가, 이상, 조사, 건강, 관련, 국민, 진료, 의원, 보험, 소아, 최근, 기준...</td>\n",
              "      <td>[보라매병원, 가정, 학과, 범조, 교수, 참가자, 의사소통, 활용, 청소년, 금연...</td>\n",
              "    </tr>\n",
              "    <tr>\n",
              "      <th>779</th>\n",
              "      <td>779</td>\n",
              "      <td>17.0</td>\n",
              "      <td>0.1951</td>\n",
              "      <td>증가, 이상, 조사, 건강, 관련, 국민, 진료, 의원, 보험, 소아, 최근, 기준...</td>\n",
              "      <td>[코로나-19, 대유행, 의외, 효과, 감염병, 감소, 착용, 거리, 두기, 개인,...</td>\n",
              "    </tr>\n",
              "    <tr>\n",
              "      <th>768</th>\n",
              "      <td>768</td>\n",
              "      <td>17.0</td>\n",
              "      <td>0.2293</td>\n",
              "      <td>증가, 이상, 조사, 건강, 관련, 국민, 진료, 의원, 보험, 소아, 최근, 기준...</td>\n",
              "      <td>[강조, 편식, 제품, 절반, 이상, 발암, 가능, 물질, 모노클, 로프, 판디, ...</td>\n",
              "    </tr>\n",
              "    <tr>\n",
              "      <th>712</th>\n",
              "      <td>712</td>\n",
              "      <td>17.0</td>\n",
              "      <td>0.1560</td>\n",
              "      <td>증가, 이상, 조사, 건강, 관련, 국민, 진료, 의원, 보험, 소아, 최근, 기준...</td>\n",
              "      <td>[헌혈, 혈액, 선별, 검사, 과정, 만성 B형 간염, 만성 C형 간염, 후천성, ...</td>\n",
              "    </tr>\n",
              "    <tr>\n",
              "      <th>890</th>\n",
              "      <td>890</td>\n",
              "      <td>17.0</td>\n",
              "      <td>0.3148</td>\n",
              "      <td>증가, 이상, 조사, 건강, 관련, 국민, 진료, 의원, 보험, 소아, 최근, 기준...</td>\n",
              "      <td>[여성, 의사, 남성, 의사, 환자, 성희롱, 성폭력, 경험, 국회, 보건, 복지,...</td>\n",
              "    </tr>\n",
              "  </tbody>\n",
              "</table>\n",
              "<p>938 rows × 5 columns</p>\n",
              "</div>"
            ],
            "text/plain": [
              "     Document_No  ...                                               Text\n",
              "167          167  ...  [경희대, 치과, 병원, 김성훈, 교수, 매복 사랑니, 견인, 시행, 임상, 연구,...\n",
              "556          556  ...  [마스크, 요즘, 냄새, 고민, 잇몸, 질환, 충치, 당뇨병, 입속, 기저, 질환,...\n",
              "812          812  ...  [충치, 치아, 손상, 치과, 방문, 신경, 치료, 신경, 치료, 오랫동안, 사용,...\n",
              "804          804  ...  [보통, 소리, 소리, 주변, 눈치, 불편, 상황, 초래, 증상, 이유, 뭘까, 소...\n",
              "276          276  ...  [소음, 누구, 일반, 신경, 소리, 소리, 소리, 청각, 과민증, 의심, 스트레스...\n",
              "..           ...  ...                                                ...\n",
              "139          139  ...  [보라매병원, 가정, 학과, 범조, 교수, 참가자, 의사소통, 활용, 청소년, 금연...\n",
              "779          779  ...  [코로나-19, 대유행, 의외, 효과, 감염병, 감소, 착용, 거리, 두기, 개인,...\n",
              "768          768  ...  [강조, 편식, 제품, 절반, 이상, 발암, 가능, 물질, 모노클, 로프, 판디, ...\n",
              "712          712  ...  [헌혈, 혈액, 선별, 검사, 과정, 만성 B형 간염, 만성 C형 간염, 후천성, ...\n",
              "890          890  ...  [여성, 의사, 남성, 의사, 환자, 성희롱, 성폭력, 경험, 국회, 보건, 복지,...\n",
              "\n",
              "[938 rows x 5 columns]"
            ]
          },
          "metadata": {
            "tags": []
          },
          "execution_count": 132
        }
      ]
    },
    {
      "cell_type": "code",
      "metadata": {
        "id": "owbmMVVL8vw4",
        "colab": {
          "base_uri": "https://localhost:8080/",
          "height": 1000
        },
        "outputId": "233f341f-3eed-4f30-f177-bfadc1e01003"
      },
      "source": [
        "# 각 토픽에서 가장 대표적인 문장 찾기\n",
        "sent_topics_sorteddf_mallet = pd.DataFrame()\n",
        "\n",
        "sent_topics_outdf_grpd = df_topic_sents_keywords.groupby('Dominant_Topic')\n",
        "\n",
        "for i, grp in sent_topics_outdf_grpd:\n",
        "    sent_topics_sorteddf_mallet = pd.concat([sent_topics_sorteddf_mallet, \n",
        "                                             grp.sort_values(['Perc_Contribution'], ascending=[0]).head(1)], \n",
        "                                            axis=0)\n",
        "\n",
        "\n",
        "sent_topics_sorteddf_mallet.reset_index(drop=True, inplace=True)\n",
        "\n",
        "\n",
        "topic_counts = df_topic_sents_keywords['Dominant_Topic'].value_counts()\n",
        "topic_counts.sort_index(inplace=True)\n",
        "\n",
        "topic_contribution = round(topic_counts/topic_counts.sum(), 4)\n",
        "topic_contribution\n",
        "\n",
        "lda_inform = pd.concat([sent_topics_sorteddf_mallet, topic_counts, topic_contribution], axis=1)\n",
        "lda_inform.columns=[\"Topic_Num\", \"Topic_Perc_Contrib\", \"Keywords\", \"Text\", \"Num_Documents\", \"Perc_Documents\"]\n",
        "\n",
        "\n",
        "lda_inform"
      ],
      "execution_count": null,
      "outputs": [
        {
          "output_type": "execute_result",
          "data": {
            "text/html": [
              "<div>\n",
              "<style scoped>\n",
              "    .dataframe tbody tr th:only-of-type {\n",
              "        vertical-align: middle;\n",
              "    }\n",
              "\n",
              "    .dataframe tbody tr th {\n",
              "        vertical-align: top;\n",
              "    }\n",
              "\n",
              "    .dataframe thead th {\n",
              "        text-align: right;\n",
              "    }\n",
              "</style>\n",
              "<table border=\"1\" class=\"dataframe\">\n",
              "  <thead>\n",
              "    <tr style=\"text-align: right;\">\n",
              "      <th></th>\n",
              "      <th>Topic_Num</th>\n",
              "      <th>Topic_Perc_Contrib</th>\n",
              "      <th>Keywords</th>\n",
              "      <th>Text</th>\n",
              "      <th>Num_Documents</th>\n",
              "      <th>Perc_Documents</th>\n",
              "    </tr>\n",
              "  </thead>\n",
              "  <tbody>\n",
              "    <tr>\n",
              "      <th>0.0</th>\n",
              "      <td>0.0</td>\n",
              "      <td>0.4402</td>\n",
              "      <td>방법, 부위, 제거, 치아, 세균, 구강, 교정, 과정, 중요, 손상, 시작, 사이...</td>\n",
              "      <td>[치아, 관리, 평생, 치아, 관리, 보철물, 발치, 플란트, 치아, 오랫동안, 건...</td>\n",
              "      <td>47</td>\n",
              "      <td>0.0501</td>\n",
              "    </tr>\n",
              "    <tr>\n",
              "      <th>1.0</th>\n",
              "      <td>1.0</td>\n",
              "      <td>0.3662</td>\n",
              "      <td>증상, 질환, 원인, 발생, 신경, 검사, 의심, 이상, 진단, 지속, 염증, 악화...</td>\n",
              "      <td>[코로나-19, 사태, 장기, 기침, 눈총, 코로나-19, 기침, 지속, 이유, 일...</td>\n",
              "      <td>51</td>\n",
              "      <td>0.0544</td>\n",
              "    </tr>\n",
              "    <tr>\n",
              "      <th>2.0</th>\n",
              "      <td>2.0</td>\n",
              "      <td>0.4915</td>\n",
              "      <td>통증, 근육, 관절, 허리, 척추, 다리, 자세, 무릎, 발목, 엉덩이, 상태, 부...</td>\n",
              "      <td>[골프, 계절, 가을, 한창, 개인, 방역, 날씨, 풍경, 골프, 라운, 골프, 라...</td>\n",
              "      <td>74</td>\n",
              "      <td>0.0789</td>\n",
              "    </tr>\n",
              "    <tr>\n",
              "      <th>3.0</th>\n",
              "      <td>3.0</td>\n",
              "      <td>0.4189</td>\n",
              "      <td>기능, 장애, 정상, 수면, 치매, 우울증, 스트레스, 아이, 임신, 상태, 정신,...</td>\n",
              "      <td>[우울증, 주요, 증상, 우울, 기분, 저하, 식욕, 감퇴, 우울증, 증세, 노인,...</td>\n",
              "      <td>44</td>\n",
              "      <td>0.0469</td>\n",
              "    </tr>\n",
              "    <tr>\n",
              "      <th>4.0</th>\n",
              "      <td>4.0</td>\n",
              "      <td>0.3796</td>\n",
              "      <td>치료, 환자, 수술, 약물, 교수, 병원, 시행, 진단, 재발, 가능, 치료법, 인...</td>\n",
              "      <td>[국립암센터, 의료진, 간세포성 암종, 환자, 양성자, 치료, 효과, 안전성, 세계...</td>\n",
              "      <td>51</td>\n",
              "      <td>0.0544</td>\n",
              "    </tr>\n",
              "    <tr>\n",
              "      <th>5.0</th>\n",
              "      <td>5.0</td>\n",
              "      <td>0.5453</td>\n",
              "      <td>질환, 위험, 당뇨병, 대사, 환자, 이상, 혈압, 심혈, 혈당, 비만, 고혈압, ...</td>\n",
              "      <td>[당뇨병, 인구, 지속, 증가, 당뇨병, 환자, 당뇨병, 단계, 환자, 포함, 인구...</td>\n",
              "      <td>38</td>\n",
              "      <td>0.0405</td>\n",
              "    </tr>\n",
              "    <tr>\n",
              "      <th>6.0</th>\n",
              "      <td>6.0</td>\n",
              "      <td>0.3351</td>\n",
              "      <td>연구, 결과, 교수, 분석, 미국, 그룹, 대상, 최근, 대학, 게재, 위험, 국제...</td>\n",
              "      <td>[혈액형, 코로나-19, 비율, 중증, 반면, 코로나-19, 비율, 중증, 연구, ...</td>\n",
              "      <td>70</td>\n",
              "      <td>0.0746</td>\n",
              "    </tr>\n",
              "    <tr>\n",
              "      <th>7.0</th>\n",
              "      <td>7.0</td>\n",
              "      <td>0.3879</td>\n",
              "      <td>운동, 생활, 건강, 습관, 활동, 중요, 유지, 도움, 신체, 신경, 효과, 아침...</td>\n",
              "      <td>[호소, 과학자, 원인, 육체, 피로, 피로, 피로, 습관, 무리, 운동, 평소, ...</td>\n",
              "      <td>31</td>\n",
              "      <td>0.0330</td>\n",
              "    </tr>\n",
              "    <tr>\n",
              "      <th>8.0</th>\n",
              "      <td>8.0</td>\n",
              "      <td>0.6827</td>\n",
              "      <td>마스크, 착용, 관리, 단계, 시설, 방역, 이상, 상황, 거리, 수칙, 방문, 이...</td>\n",
              "      <td>[오늘, 전국, 거리, 단계, 단계, 완화, 중순, 서울, 신생아 경련, 지역, 단...</td>\n",
              "      <td>40</td>\n",
              "      <td>0.0426</td>\n",
              "    </tr>\n",
              "    <tr>\n",
              "      <th>9.0</th>\n",
              "      <td>9.0</td>\n",
              "      <td>0.4726</td>\n",
              "      <td>코로나-19, 감염, 백신, 독감, 접종, 예방, 바이러스, 사망, 사례, 호흡기,...</td>\n",
              "      <td>[이상, 독감, 무료, 접종, 시작, 독감, 접종, 대상자, 최근, 독감, 백신, ...</td>\n",
              "      <td>76</td>\n",
              "      <td>0.0810</td>\n",
              "    </tr>\n",
              "    <tr>\n",
              "      <th>10.0</th>\n",
              "      <td>10.0</td>\n",
              "      <td>0.4245</td>\n",
              "      <td>사용, 효과, 세포, 물질, 확인, 식품, 면역, 투여, 부작용, 반응, 노출, 안...</td>\n",
              "      <td>[김장철, 식품, 품안, 전처, 식품, 조리, 기구, 선택법, 자료, 공개, 자료,...</td>\n",
              "      <td>27</td>\n",
              "      <td>0.0288</td>\n",
              "    </tr>\n",
              "    <tr>\n",
              "      <th>11.0</th>\n",
              "      <td>11.0</td>\n",
              "      <td>0.5798</td>\n",
              "      <td>병원, 의료, 세계, 학회, 센터, 기관, 기술, 데이터, 사업, 분야, 시스템, ...</td>\n",
              "      <td>[연세, 의대, 강남, 세브, 란스, 병원, 첨단, 의료, 기기, 정책, 의료, 기...</td>\n",
              "      <td>69</td>\n",
              "      <td>0.0736</td>\n",
              "    </tr>\n",
              "    <tr>\n",
              "      <th>12.0</th>\n",
              "      <td>12.0</td>\n",
              "      <td>0.5227</td>\n",
              "      <td>음식, 섭취, 지방, 비타민, 단백질, 성분, 식사, 소변, 도움, 부족, 식품, ...</td>\n",
              "      <td>[코로나-19, 시대, 강조, 영양소, 단백질, 단백질, 근육, 구성, 면역, 세포...</td>\n",
              "      <td>87</td>\n",
              "      <td>0.0928</td>\n",
              "    </tr>\n",
              "    <tr>\n",
              "      <th>13.0</th>\n",
              "      <td>13.0</td>\n",
              "      <td>0.5901</td>\n",
              "      <td>개발, 임상, 치료제, 백신, 바이오, 진단, 국내, 코로나-19, 생산, 시험, ...</td>\n",
              "      <td>[식품, 품안, 전처, 연내, 신속, 심사, 대상, 약품, 추가, 지정, 계획, 항...</td>\n",
              "      <td>68</td>\n",
              "      <td>0.0725</td>\n",
              "    </tr>\n",
              "    <tr>\n",
              "      <th>14.0</th>\n",
              "      <td>14.0</td>\n",
              "      <td>0.3688</td>\n",
              "      <td>혈관, 혈액, 피부, 심장, 뇌졸중, 발생, 상태, 기능, 날씨, 전신, 급성, 주...</td>\n",
              "      <td>[심장, 혈액, 산소, 공급, 관상동맥, 급성 심근경색증, 요즘, 기온, 변화, 계...</td>\n",
              "      <td>52</td>\n",
              "      <td>0.0554</td>\n",
              "    </tr>\n",
              "    <tr>\n",
              "      <th>15.0</th>\n",
              "      <td>15.0</td>\n",
              "      <td>0.5787</td>\n",
              "      <td>확진, 국내, 코로나-19, 확인, 발생, 지역, 중앙, 유입, 서울, 해외, 대비...</td>\n",
              "      <td>[코로나-19, 국내, 확진, 전날, 대비, 질병관리청, 중앙, 방역, 대책, 본부...</td>\n",
              "      <td>36</td>\n",
              "      <td>0.0384</td>\n",
              "    </tr>\n",
              "    <tr>\n",
              "      <th>16.0</th>\n",
              "      <td>16.0</td>\n",
              "      <td>0.4517</td>\n",
              "      <td>여성, 검사, 암, 남성, 발생, 발견, 최근, 가능, 검진, 증가, 종양, 확인,...</td>\n",
              "      <td>[여성, 일반, 폐경, 시작, 국내, 여성, 이전, 완전, 폐경, 폐경, 행기, 여...</td>\n",
              "      <td>47</td>\n",
              "      <td>0.0501</td>\n",
              "    </tr>\n",
              "    <tr>\n",
              "      <th>17.0</th>\n",
              "      <td>17.0</td>\n",
              "      <td>0.5025</td>\n",
              "      <td>증가, 이상, 조사, 건강, 관련, 국민, 진료, 의원, 보험, 소아, 최근, 기준...</td>\n",
              "      <td>[국내, 하루, 이상, 다량, 복용, 초과, 조사, 결과, 국회, 보건, 복지, 위...</td>\n",
              "      <td>30</td>\n",
              "      <td>0.0320</td>\n",
              "    </tr>\n",
              "  </tbody>\n",
              "</table>\n",
              "</div>"
            ],
            "text/plain": [
              "      Topic_Num  Topic_Perc_Contrib  ... Num_Documents Perc_Documents\n",
              "0.0         0.0              0.4402  ...            47         0.0501\n",
              "1.0         1.0              0.3662  ...            51         0.0544\n",
              "2.0         2.0              0.4915  ...            74         0.0789\n",
              "3.0         3.0              0.4189  ...            44         0.0469\n",
              "4.0         4.0              0.3796  ...            51         0.0544\n",
              "5.0         5.0              0.5453  ...            38         0.0405\n",
              "6.0         6.0              0.3351  ...            70         0.0746\n",
              "7.0         7.0              0.3879  ...            31         0.0330\n",
              "8.0         8.0              0.6827  ...            40         0.0426\n",
              "9.0         9.0              0.4726  ...            76         0.0810\n",
              "10.0       10.0              0.4245  ...            27         0.0288\n",
              "11.0       11.0              0.5798  ...            69         0.0736\n",
              "12.0       12.0              0.5227  ...            87         0.0928\n",
              "13.0       13.0              0.5901  ...            68         0.0725\n",
              "14.0       14.0              0.3688  ...            52         0.0554\n",
              "15.0       15.0              0.5787  ...            36         0.0384\n",
              "16.0       16.0              0.4517  ...            47         0.0501\n",
              "17.0       17.0              0.5025  ...            30         0.0320\n",
              "\n",
              "[18 rows x 6 columns]"
            ]
          },
          "metadata": {
            "tags": []
          },
          "execution_count": 133
        }
      ]
    },
    {
      "cell_type": "code",
      "metadata": {
        "id": "Rex4m-5k-8SM",
        "colab": {
          "base_uri": "https://localhost:8080/",
          "height": 704
        },
        "outputId": "001f870f-62ab-409f-e938-78fe82822af3"
      },
      "source": [
        "# 각 Document의 topic\n",
        "\n",
        "def format_topics_sentences(ldamodel=ldamallet, corpus=corpus, texts=texts):\n",
        "# Init output\n",
        "    sent_topics_df = pd.DataFrame()\n",
        " \n",
        "    # Get main topic in each document\n",
        "    for i, row in enumerate(ldamodel[corpus]):\n",
        "        row = sorted(row, key=lambda x: (x[1]), reverse=True)\n",
        "        # Get the Dominant topic, Perc Contribution and Keywords for each document\n",
        "        for j, (topic_num, prop_topic) in enumerate(row):\n",
        "            if j == 0: # => dominant topic\n",
        "                wp = ldamodel.show_topic(topic_num)\n",
        "                topic_keywords = \", \".join([word for word, prop in wp])\n",
        "                sent_topics_df = sent_topics_df.append(pd.Series([int(topic_num), round(prop_topic,4), topic_keywords]), ignore_index=True)\n",
        "            else:\n",
        "                break\n",
        "    sent_topics_df.columns = ['Dominant_Topic', 'Perc_Contribution', 'Topic_Keywords']\n",
        " \n",
        "    # Add original text to the end of the output\n",
        "    contents = pd.Series(texts)\n",
        "    sent_topics_df = pd.concat([sent_topics_df, contents], axis=1)\n",
        "    return(sent_topics_df)\n",
        " \n",
        "df_topic_sents_keywords = format_topics_sentences(ldamodel=ldamallet, corpus=corpus, texts=texts)\n",
        " \n",
        "# Format\n",
        "df_dominant_topic = df_topic_sents_keywords.reset_index()\n",
        "df_dominant_topic.columns = ['Document_No.', 'Dominant_Topic', 'Topic_Perc_Contrib', 'Keywords', 'Text']\n",
        " \n",
        "# Show\n",
        "df_dominant_topic"
      ],
      "execution_count": null,
      "outputs": [
        {
          "output_type": "execute_result",
          "data": {
            "text/html": [
              "<div>\n",
              "<style scoped>\n",
              "    .dataframe tbody tr th:only-of-type {\n",
              "        vertical-align: middle;\n",
              "    }\n",
              "\n",
              "    .dataframe tbody tr th {\n",
              "        vertical-align: top;\n",
              "    }\n",
              "\n",
              "    .dataframe thead th {\n",
              "        text-align: right;\n",
              "    }\n",
              "</style>\n",
              "<table border=\"1\" class=\"dataframe\">\n",
              "  <thead>\n",
              "    <tr style=\"text-align: right;\">\n",
              "      <th></th>\n",
              "      <th>Document_No.</th>\n",
              "      <th>Dominant_Topic</th>\n",
              "      <th>Topic_Perc_Contrib</th>\n",
              "      <th>Keywords</th>\n",
              "      <th>Text</th>\n",
              "    </tr>\n",
              "  </thead>\n",
              "  <tbody>\n",
              "    <tr>\n",
              "      <th>0</th>\n",
              "      <td>0</td>\n",
              "      <td>3.0</td>\n",
              "      <td>0.4189</td>\n",
              "      <td>기능, 장애, 정상, 수면, 치매, 우울증, 스트레스, 아이, 임신, 상태</td>\n",
              "      <td>[우울증, 주요, 증상, 우울, 기분, 저하, 식욕, 감퇴, 우울증, 증세, 노인,...</td>\n",
              "    </tr>\n",
              "    <tr>\n",
              "      <th>1</th>\n",
              "      <td>1</td>\n",
              "      <td>4.0</td>\n",
              "      <td>0.2105</td>\n",
              "      <td>치료, 환자, 수술, 약물, 교수, 병원, 시행, 진단, 재발, 가능</td>\n",
              "      <td>[대동맥, 혈관, 온몸, 장기, 혈액, 고속도로, 대동맥, 직경, 확장, 증상, 수...</td>\n",
              "    </tr>\n",
              "    <tr>\n",
              "      <th>2</th>\n",
              "      <td>2</td>\n",
              "      <td>12.0</td>\n",
              "      <td>0.2023</td>\n",
              "      <td>음식, 섭취, 지방, 비타민, 단백질, 성분, 식사, 소변, 도움, 부족</td>\n",
              "      <td>[피부, 건강, 운동, 실제, 운동, 피부, 과학, 근거, 운동, 체내, 염증, 염...</td>\n",
              "    </tr>\n",
              "    <tr>\n",
              "      <th>3</th>\n",
              "      <td>3</td>\n",
              "      <td>9.0</td>\n",
              "      <td>0.1842</td>\n",
              "      <td>코로나-19, 감염, 백신, 독감, 접종, 예방, 바이러스, 사망, 사례, 호흡기</td>\n",
              "      <td>[코로나-19, 독감, 독감, 동시, 진단, 유전자, 증폭, 검사, 건강, 보험, ...</td>\n",
              "    </tr>\n",
              "    <tr>\n",
              "      <th>4</th>\n",
              "      <td>4</td>\n",
              "      <td>16.0</td>\n",
              "      <td>0.3333</td>\n",
              "      <td>여성, 검사, 암, 남성, 발생, 발견, 최근, 가능, 검진, 증가</td>\n",
              "      <td>[코로나-19, 유행, 연말, 건강검진, 쏠림, 현상, 건강검진, 기간, 한시, 연...</td>\n",
              "    </tr>\n",
              "    <tr>\n",
              "      <th>...</th>\n",
              "      <td>...</td>\n",
              "      <td>...</td>\n",
              "      <td>...</td>\n",
              "      <td>...</td>\n",
              "      <td>...</td>\n",
              "    </tr>\n",
              "    <tr>\n",
              "      <th>933</th>\n",
              "      <td>933</td>\n",
              "      <td>1.0</td>\n",
              "      <td>0.3463</td>\n",
              "      <td>증상, 질환, 원인, 발생, 신경, 검사, 의심, 진단, 이상, 지속</td>\n",
              "      <td>[간경화, 간경화, 미만성 간질성 폐질환, 이름, 폐도, 간질성, 폐질환, 미만성 ...</td>\n",
              "    </tr>\n",
              "    <tr>\n",
              "      <th>934</th>\n",
              "      <td>934</td>\n",
              "      <td>16.0</td>\n",
              "      <td>0.1513</td>\n",
              "      <td>여성, 검사, 암, 남성, 발생, 발견, 최근, 가능, 검진, 증가</td>\n",
              "      <td>[작년, 이맘때, 산과, 나들이객, 코로나-19, 상황, 비타민, 결핍, 환자, 증...</td>\n",
              "    </tr>\n",
              "    <tr>\n",
              "      <th>935</th>\n",
              "      <td>935</td>\n",
              "      <td>14.0</td>\n",
              "      <td>0.3688</td>\n",
              "      <td>혈관, 혈액, 피부, 심장, 뇌졸중, 발생, 상태, 기능, 날씨, 급성</td>\n",
              "      <td>[심장, 혈액, 산소, 공급, 관상동맥, 급성 심근경색증, 요즘, 기온, 변화, 계...</td>\n",
              "    </tr>\n",
              "    <tr>\n",
              "      <th>936</th>\n",
              "      <td>936</td>\n",
              "      <td>12.0</td>\n",
              "      <td>0.3172</td>\n",
              "      <td>음식, 섭취, 지방, 비타민, 단백질, 성분, 식사, 소변, 도움, 부족</td>\n",
              "      <td>[코로나-19, 거리, 추석, 연휴, 계획, 코로나-19, 걱정, 명절, 마음, 간...</td>\n",
              "    </tr>\n",
              "    <tr>\n",
              "      <th>937</th>\n",
              "      <td>937</td>\n",
              "      <td>3.0</td>\n",
              "      <td>0.2759</td>\n",
              "      <td>기능, 장애, 정상, 수면, 치매, 우울증, 스트레스, 아이, 임신, 상태</td>\n",
              "      <td>[명절, 스트레스, 명절, 명절, 발생, 스트레스, 관계, 배우자, 가족, 시댁, ...</td>\n",
              "    </tr>\n",
              "  </tbody>\n",
              "</table>\n",
              "<p>938 rows × 5 columns</p>\n",
              "</div>"
            ],
            "text/plain": [
              "     Document_No.  ...                                               Text\n",
              "0               0  ...  [우울증, 주요, 증상, 우울, 기분, 저하, 식욕, 감퇴, 우울증, 증세, 노인,...\n",
              "1               1  ...  [대동맥, 혈관, 온몸, 장기, 혈액, 고속도로, 대동맥, 직경, 확장, 증상, 수...\n",
              "2               2  ...  [피부, 건강, 운동, 실제, 운동, 피부, 과학, 근거, 운동, 체내, 염증, 염...\n",
              "3               3  ...  [코로나-19, 독감, 독감, 동시, 진단, 유전자, 증폭, 검사, 건강, 보험, ...\n",
              "4               4  ...  [코로나-19, 유행, 연말, 건강검진, 쏠림, 현상, 건강검진, 기간, 한시, 연...\n",
              "..            ...  ...                                                ...\n",
              "933           933  ...  [간경화, 간경화, 미만성 간질성 폐질환, 이름, 폐도, 간질성, 폐질환, 미만성 ...\n",
              "934           934  ...  [작년, 이맘때, 산과, 나들이객, 코로나-19, 상황, 비타민, 결핍, 환자, 증...\n",
              "935           935  ...  [심장, 혈액, 산소, 공급, 관상동맥, 급성 심근경색증, 요즘, 기온, 변화, 계...\n",
              "936           936  ...  [코로나-19, 거리, 추석, 연휴, 계획, 코로나-19, 걱정, 명절, 마음, 간...\n",
              "937           937  ...  [명절, 스트레스, 명절, 명절, 발생, 스트레스, 관계, 배우자, 가족, 시댁, ...\n",
              "\n",
              "[938 rows x 5 columns]"
            ]
          },
          "metadata": {
            "tags": []
          },
          "execution_count": 139
        }
      ]
    },
    {
      "cell_type": "code",
      "metadata": {
        "id": "033qZiW5DirF",
        "colab": {
          "base_uri": "https://localhost:8080/",
          "height": 402
        },
        "outputId": "5f8d7313-4491-49c7-a179-e7e30917dc72"
      },
      "source": [
        "# Number of Documents for Each Topic\n",
        "topic_counts = df_topic_sents_keywords['Dominant_Topic'].value_counts()\n",
        " \n",
        "# Percentage of Documents for Each Topic\n",
        "topic_contribution = round(topic_counts/topic_counts.sum(), 4)\n",
        " \n",
        "# Topic Number and Keywords\n",
        "topic_num_keywords = df_topic_sents_keywords[['Dominant_Topic', 'Topic_Keywords']]\n",
        " \n",
        "# Concatenate Column wise\n",
        "df_dominant_topics = pd.concat([topic_num_keywords, topic_counts, topic_contribution], axis=1)\n",
        " \n",
        "# Change Column names\n",
        "df_dominant_topics.columns = ['Dominant_Topic', 'Topic_Keywords', 'Num_Documents', 'Perc_Documents']\n",
        " \n",
        "# Show\n",
        "df_dominant_topics"
      ],
      "execution_count": null,
      "outputs": [
        {
          "output_type": "execute_result",
          "data": {
            "text/html": [
              "<div>\n",
              "<style scoped>\n",
              "    .dataframe tbody tr th:only-of-type {\n",
              "        vertical-align: middle;\n",
              "    }\n",
              "\n",
              "    .dataframe tbody tr th {\n",
              "        vertical-align: top;\n",
              "    }\n",
              "\n",
              "    .dataframe thead th {\n",
              "        text-align: right;\n",
              "    }\n",
              "</style>\n",
              "<table border=\"1\" class=\"dataframe\">\n",
              "  <thead>\n",
              "    <tr style=\"text-align: right;\">\n",
              "      <th></th>\n",
              "      <th>Dominant_Topic</th>\n",
              "      <th>Topic_Keywords</th>\n",
              "      <th>Num_Documents</th>\n",
              "      <th>Perc_Documents</th>\n",
              "    </tr>\n",
              "  </thead>\n",
              "  <tbody>\n",
              "    <tr>\n",
              "      <th>0.0</th>\n",
              "      <td>9.0</td>\n",
              "      <td>건강, 장애, 스트레스, 수면, 생활, 신경, 우울증, 활동, 치아, 방법</td>\n",
              "      <td>76.0</td>\n",
              "      <td>0.0810</td>\n",
              "    </tr>\n",
              "    <tr>\n",
              "      <th>1.0</th>\n",
              "      <td>3.0</td>\n",
              "      <td>치료, 환자, 수술, 암, 발생, 가능, 시행, 병원, 교수, 진단</td>\n",
              "      <td>53.0</td>\n",
              "      <td>0.0565</td>\n",
              "    </tr>\n",
              "    <tr>\n",
              "      <th>2.0</th>\n",
              "      <td>12.0</td>\n",
              "      <td>효과, 염증, 세포, 대사, 면역, 복용, 실제, 물질, 환자, 개선</td>\n",
              "      <td>58.0</td>\n",
              "      <td>0.0618</td>\n",
              "    </tr>\n",
              "    <tr>\n",
              "      <th>3.0</th>\n",
              "      <td>0.0</td>\n",
              "      <td>코로나-19, 백신, 감염, 독감, 예방, 접종, 바이러스, 사망, 사례, 이상</td>\n",
              "      <td>62.0</td>\n",
              "      <td>0.0661</td>\n",
              "    </tr>\n",
              "    <tr>\n",
              "      <th>4.0</th>\n",
              "      <td>14.0</td>\n",
              "      <td>여성, 증가, 남성, 정상, 기능, 호르몬, 감소, 이상, 영향, 건강</td>\n",
              "      <td>79.0</td>\n",
              "      <td>0.0842</td>\n",
              "    </tr>\n",
              "    <tr>\n",
              "      <th>...</th>\n",
              "      <td>...</td>\n",
              "      <td>...</td>\n",
              "      <td>...</td>\n",
              "      <td>...</td>\n",
              "    </tr>\n",
              "    <tr>\n",
              "      <th>933.0</th>\n",
              "      <td>10.0</td>\n",
              "      <td>증상, 질환, 원인, 검사, 발생, 치료, 이상, 신경, 의심, 진단</td>\n",
              "      <td>NaN</td>\n",
              "      <td>NaN</td>\n",
              "    </tr>\n",
              "    <tr>\n",
              "      <th>934.0</th>\n",
              "      <td>14.0</td>\n",
              "      <td>여성, 증가, 남성, 정상, 기능, 호르몬, 감소, 이상, 영향, 건강</td>\n",
              "      <td>NaN</td>\n",
              "      <td>NaN</td>\n",
              "    </tr>\n",
              "    <tr>\n",
              "      <th>935.0</th>\n",
              "      <td>2.0</td>\n",
              "      <td>질환, 당뇨병, 위험, 혈관, 혈액, 환자, 심장, 뇌졸중, 이상, 혈압</td>\n",
              "      <td>NaN</td>\n",
              "      <td>NaN</td>\n",
              "    </tr>\n",
              "    <tr>\n",
              "      <th>936.0</th>\n",
              "      <td>8.0</td>\n",
              "      <td>섭취, 음식, 지방, 비타민, 건강, 도움, 식품, 단백질, 식사, 성분</td>\n",
              "      <td>NaN</td>\n",
              "      <td>NaN</td>\n",
              "    </tr>\n",
              "    <tr>\n",
              "      <th>937.0</th>\n",
              "      <td>9.0</td>\n",
              "      <td>건강, 장애, 스트레스, 수면, 생활, 신경, 우울증, 활동, 치아, 방법</td>\n",
              "      <td>NaN</td>\n",
              "      <td>NaN</td>\n",
              "    </tr>\n",
              "  </tbody>\n",
              "</table>\n",
              "<p>938 rows × 4 columns</p>\n",
              "</div>"
            ],
            "text/plain": [
              "       Dominant_Topic  ... Perc_Documents\n",
              "0.0               9.0  ...         0.0810\n",
              "1.0               3.0  ...         0.0565\n",
              "2.0              12.0  ...         0.0618\n",
              "3.0               0.0  ...         0.0661\n",
              "4.0              14.0  ...         0.0842\n",
              "...               ...  ...            ...\n",
              "933.0            10.0  ...            NaN\n",
              "934.0            14.0  ...            NaN\n",
              "935.0             2.0  ...            NaN\n",
              "936.0             8.0  ...            NaN\n",
              "937.0             9.0  ...            NaN\n",
              "\n",
              "[938 rows x 4 columns]"
            ]
          },
          "metadata": {
            "tags": []
          },
          "execution_count": 58
        }
      ]
    },
    {
      "cell_type": "code",
      "metadata": {
        "id": "5OeLrxGJDsot"
      },
      "source": [
        ""
      ],
      "execution_count": null,
      "outputs": []
    }
  ]
}