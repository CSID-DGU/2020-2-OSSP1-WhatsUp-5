{
 "cells": [
  {
   "cell_type": "code",
   "execution_count": 11,
   "metadata": {},
   "outputs": [],
   "source": [
    "import requests\n",
    "import pandas\n",
    "import time\n",
    "from bs4 import BeautifulSoup\n",
    "from selenium import webdriver"
   ]
  },
  {
   "cell_type": "code",
   "execution_count": 15,
   "metadata": {},
   "outputs": [],
   "source": [
    "chromedriver = 'C:/Users/lg/chromedriver.exe'\n",
    "driver = webdriver.Chrome(chromedriver)\n",
    "\n",
    "## 링크 리스트 뽑아내기\n",
    "url = \"http://www.newsmp.com/news/articleList.html?page={}&total=10632&box_idxno=&sc_section_code=S1N6&view_type=sm\"\n",
    "link_list = []\n",
    "for i in range(1, 101):\n",
    "    link = url.format(i)\n",
    "    driver.get(link)\n",
    "    driver.implicitly_wait(3)\n",
    "    \n",
    "    html = driver.page_source\n",
    "    soup = BeautifulSoup(html, 'html.parser')\n",
    "    links = soup.find_all('div', class_='list-titles')\n",
    "    for a in range(0, len(links)-1):\n",
    "        link = links[a].find('a')\n",
    "        href = link.attrs['href'].strip()\n",
    "        link_list.append(\"http://www.newsmp.com\"+ href)\n"
   ]
  },
  {
   "cell_type": "code",
   "execution_count": 16,
   "metadata": {},
   "outputs": [
    {
     "name": "stdout",
     "output_type": "stream",
     "text": [
      "2000\n"
     ]
    }
   ],
   "source": [
    "## 각 링크에서 정보 추출 & 저장\n",
    "\n",
    "news_data = [] #csv 파일용 배열\n",
    "\n",
    "def news_crawling(index):\n",
    "    request = requests.get(link_list[index])\n",
    "    html = request.text\n",
    "    soup = BeautifulSoup(html, 'html.parser')\n",
    "    \n",
    "    ### 뉴스 제목 추출 ###\n",
    "    news_title = soup.find('div', class_='article-head-title')\n",
    "    title = news_title.get_text().strip()\n",
    "    #print(title)\n",
    "    \n",
    "    ### 뉴스 내용 추출 ###\n",
    "    all_article = ''\n",
    "    news_article = soup.find_all('p')\n",
    "    for i in range(len(news_article)): \n",
    "        news_line = news_article[i].get_text().strip()\n",
    "        all_article += news_line\n",
    "    #print(all_article)\n",
    "    news_data.append([title, all_article])\n",
    "\n",
    "for list_index in range(len(link_list)):\n",
    "    news_crawling(list_index)\n",
    "    \n",
    "print(len(news_data))"
   ]
  },
  {
   "cell_type": "code",
   "execution_count": 17,
   "metadata": {},
   "outputs": [
    {
     "name": "stdout",
     "output_type": "stream",
     "text": [
      "finish\n"
     ]
    }
   ],
   "source": [
    "dataframe = pandas.DataFrame(news_data)\n",
    "dataframe.to_csv(\"C:/Users/lg/python/MedicineNews_crawling.csv\", header=False, index=False)\n",
    "print(\"finish\")"
   ]
  },
  {
   "cell_type": "code",
   "execution_count": null,
   "metadata": {},
   "outputs": [],
   "source": []
  }
 ],
 "metadata": {
  "kernelspec": {
   "display_name": "Python 3",
   "language": "python",
   "name": "python3"
  },
  "language_info": {
   "codemirror_mode": {
    "name": "ipython",
    "version": 3
   },
   "file_extension": ".py",
   "mimetype": "text/x-python",
   "name": "python",
   "nbconvert_exporter": "python",
   "pygments_lexer": "ipython3",
   "version": "3.8.3"
  }
 },
 "nbformat": 4,
 "nbformat_minor": 4
}
