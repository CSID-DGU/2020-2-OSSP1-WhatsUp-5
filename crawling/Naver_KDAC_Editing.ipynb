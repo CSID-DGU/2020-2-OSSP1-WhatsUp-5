{
 "cells": [
  {
   "cell_type": "code",
   "execution_count": 74,
   "metadata": {},
   "outputs": [
    {
     "name": "stdout",
     "output_type": "stream",
     "text": [
      "finish\n",
      "1372\n"
     ]
    }
   ],
   "source": [
    "dataframe = pandas.DataFrame(edited_data_no_title)\n",
    "dataframe.to_csv(\"C:/Users/lg/python/Naver_KDCA_Column_edited.csv\", header=False, index=False)\n",
    "print('finish')\n",
    "\n",
    "edited_data_no_title = []\n",
    "\n",
    "def editing(i):\n",
    "    disease = \"\"\n",
    "    content = \"\"\n",
    "    \n",
    "    info = datalist[i][1]\n",
    "    info_list = info.split('\\n')\n",
    "    if (info.find(\"관련 질병\") == 0):\n",
    "        disease = info_list[1]\n",
    "    else :\n",
    "        clinic = \" \"\n",
    "        disease = datalist[i][0]\n",
    "\n",
    "    contents = datalist[i][2].replace('\\n','')\n",
    "    content_list = contents.split('.')\n",
    "    for index in range(len(content_list)):\n",
    "        if((content_list[index].find(\"(\")) != -1):\n",
    "            content+= content_list[index]+'.'\n",
    "        if((content_list[index].find(\"?\") == -1) and (content_list[index].find(\"다\") != -1)):\n",
    "            content += content_list[index]+'.'\n",
    "\n",
    "    edited_data_no_title.append([content])\n",
    "    \n",
    "    \n",
    "\n",
    "for i in range(len(datalist)):\n",
    "    editing(i)\n",
    "    \n",
    "print(len(edited_data_title))"
   ]
  },
  {
   "cell_type": "code",
   "execution_count": 75,
   "metadata": {},
   "outputs": [
    {
     "name": "stdout",
     "output_type": "stream",
     "text": [
      "finish\n"
     ]
    }
   ],
   "source": [
    "dataframe = pandas.DataFrame(edited_data_no_title)\n",
    "dataframe.to_csv(\"C:/Users/lg/python/Naver_KDAC_Column_edited.csv\", header=False, index=False)\n",
    "print('finish')"
   ]
  },
  {
   "cell_type": "code",
   "execution_count": null,
   "metadata": {},
   "outputs": [],
   "source": []
  }
 ],
 "metadata": {
  "kernelspec": {
   "display_name": "Python 3",
   "language": "python",
   "name": "python3"
  },
  "language_info": {
   "codemirror_mode": {
    "name": "ipython",
    "version": 3
   },
   "file_extension": ".py",
   "mimetype": "text/x-python",
   "name": "python",
   "nbconvert_exporter": "python",
   "pygments_lexer": "ipython3",
   "version": "3.8.3"
  }
 },
 "nbformat": 4,
 "nbformat_minor": 4
}
