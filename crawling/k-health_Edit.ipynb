{
 "cells": [
  {
   "cell_type": "code",
   "execution_count": 1,
   "metadata": {},
   "outputs": [
    {
     "name": "stdout",
     "output_type": "stream",
     "text": [
      "7399\n"
     ]
    }
   ],
   "source": [
    "import pandas\n",
    "import numpy\n",
    "\n",
    "\n",
    "data = pandas.read_csv(\"k-health_crawling.csv\")\n",
    "datalist = list(numpy.array(data.values.tolist()))\n",
    "\n",
    "edited_data_title=[]\n",
    "edited_data_content = []\n",
    "edited_data_with_title=[]\n",
    "\n",
    "def editing(i):\n",
    "    title = \"\"\n",
    "    content = \"\"\n",
    "    \n",
    "    title = datalist[i][0]\n",
    "    contents = datalist[i][1].split('\\n')\n",
    "    for i in range(len(contents)):\n",
    "        if(contents[i].find('.') != -1 and contents[i].find('<헬스') == -1):\n",
    "            if((contents[i].find('ⓒ') == -1)):\n",
    "                con = contents[i]+' '\n",
    "                content+=con\n",
    "    content = content.replace('.  ', '. ')\n",
    "    content += \"<sod>\"\n",
    "    edited_data_title.append([title])\n",
    "    edited_data_content.append([content])\n",
    "    edited_data_with_title.append([title, content])\n",
    "    \n",
    "    \n",
    "for i in range(len(datalist)):\n",
    "    editing(i)\n",
    "    \n",
    "print(len(edited_data_title))\n"
   ]
  },
  {
   "cell_type": "code",
   "execution_count": 2,
   "metadata": {},
   "outputs": [
    {
     "name": "stdout",
     "output_type": "stream",
     "text": [
      "finish\n"
     ]
    }
   ],
   "source": [
    "dataframe = pandas.DataFrame(edited_data_title)\n",
    "dataframe.to_csv(\"C:/Users/lg/python/k-health_title.csv\", header=False, index=False)\n",
    "print('finish')\n",
    "\n",
    "dataframe = pandas.DataFrame(edited_data_content)\n",
    "dataframe.to_csv(\"C:/Users/lg/python/k-health_content_sode.csv\", header=False, index=False)\n",
    "print('finish')\n",
    "\n",
    "dataframe = pandas.DataFrame(edited_data_with_title)\n",
    "dataframe.to_csv(\"C:/Users/lg/python/k-health_with_title.csv\", header=False, index=False)\n",
    "print('finish')"
   ]
  },
  {
   "cell_type": "code",
   "execution_count": null,
   "metadata": {},
   "outputs": [],
   "source": []
  }
 ],
 "metadata": {
  "kernelspec": {
   "display_name": "Python 3",
   "language": "python",
   "name": "python3"
  },
  "language_info": {
   "codemirror_mode": {
    "name": "ipython",
    "version": 3
   },
   "file_extension": ".py",
   "mimetype": "text/x-python",
   "name": "python",
   "nbconvert_exporter": "python",
   "pygments_lexer": "ipython3",
   "version": "3.8.3"
  }
 },
 "nbformat": 4,
 "nbformat_minor": 4
}
