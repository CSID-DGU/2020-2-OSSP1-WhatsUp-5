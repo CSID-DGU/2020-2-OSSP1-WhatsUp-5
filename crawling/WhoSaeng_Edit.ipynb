{
 "cells": [
  {
   "cell_type": "code",
   "execution_count": 2,
   "metadata": {},
   "outputs": [
    {
     "name": "stdout",
     "output_type": "stream",
     "text": [
      "1188\n"
     ]
    }
   ],
   "source": [
    "import pandas\n",
    "import numpy\n",
    "\n",
    "\n",
    "data = pandas.read_csv(\"WhoSaengNews_with_title.csv\")\n",
    "datalist = list(numpy.array(data.values.tolist()))\n",
    "\n",
    "edited_data_title = []\n",
    "edited_data_content = []\n",
    "\n",
    "def editing(i):\n",
    "    title = \"\"\n",
    "    content = \"\"\n",
    "    \n",
    "    title = datalist[i][0]\n",
    "    contents = datalist[i][1].split('.')\n",
    "    for i in range(len(contents)):\n",
    "        if(contents[i].find('다') != -1):\n",
    "            content+=contents[i]+'. '\n",
    "     \n",
    "    content = content.replace('■', ' ')\n",
    "    content = content.replace('△', ' ')\n",
    "    content = content.replace('◆',' ')\n",
    "    content = content.replace('▶',' ')\n",
    "    content = content.replace('【후생신보】', '')\n",
    "    \n",
    "    content = content.replace('.  ', '. ')\n",
    "    content = content.replace('\\n', ' ')\n",
    "    content = content.replace('  ', ' ')\n",
    "    content = content.replace('   ', ' ')\n",
    "    \n",
    "    content += '<sod>'\n",
    "    \n",
    "    \n",
    "    edited_data_title.append([title])\n",
    "    edited_data_content.append([content])\n",
    "    \n",
    "    \n",
    "\n",
    "for i in range(len(datalist)):\n",
    "    editing(i)\n",
    "    \n",
    "print(len(edited_data_title))"
   ]
  },
  {
   "cell_type": "code",
   "execution_count": 3,
   "metadata": {},
   "outputs": [
    {
     "name": "stdout",
     "output_type": "stream",
     "text": [
      "finish\n",
      "finish\n"
     ]
    }
   ],
   "source": [
    "dataframe = pandas.DataFrame(edited_data_title)\n",
    "dataframe.to_csv(\"C:/Users/lg/python/WhoSaengNews_title.csv\", header=False, index=False)\n",
    "print('finish')\n",
    "\n",
    "dataframe = pandas.DataFrame(edited_data_content)\n",
    "dataframe.to_csv(\"C:/Users/lg/python/WhoSaengNews_content_sod.csv\", header=False, index=False)\n",
    "print('finish')"
   ]
  },
  {
   "cell_type": "code",
   "execution_count": null,
   "metadata": {},
   "outputs": [],
   "source": []
  }
 ],
 "metadata": {
  "kernelspec": {
   "display_name": "Python 3",
   "language": "python",
   "name": "python3"
  },
  "language_info": {
   "codemirror_mode": {
    "name": "ipython",
    "version": 3
   },
   "file_extension": ".py",
   "mimetype": "text/x-python",
   "name": "python",
   "nbconvert_exporter": "python",
   "pygments_lexer": "ipython3",
   "version": "3.8.3"
  }
 },
 "nbformat": 4,
 "nbformat_minor": 4
}
