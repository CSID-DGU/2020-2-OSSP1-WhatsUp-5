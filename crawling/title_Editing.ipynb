{
 "cells": [
  {
   "cell_type": "code",
   "execution_count": 2,
   "metadata": {},
   "outputs": [
    {
     "name": "stdout",
     "output_type": "stream",
     "text": [
      "1187\n"
     ]
    }
   ],
   "source": [
    "import pandas\n",
    "import numpy\n",
    "\n",
    "\n",
    "title_list = []\n",
    "\n",
    "data_who = pandas.read_csv(\"WhoSaengNews_title.csv\")\n",
    "who_list = list(numpy.array(data_who.values.tolist()))\n",
    "\n",
    "\n",
    "def editing(i):\n",
    "    title = \"\"\n",
    "    content = \"\"\n",
    "    \n",
    "    title = who_list[i][0]\n",
    "    if((title.find(\"발간\")== -1) or (title.find(\"교수\")== -1)):\n",
    "        title_list.append(title)\n",
    "        \n",
    "\n",
    "for i in range(len(who_list)):\n",
    "    editing(i)\n",
    "    \n",
    "print(len(title_list))"
   ]
  },
  {
   "cell_type": "code",
   "execution_count": 3,
   "metadata": {},
   "outputs": [
    {
     "name": "stdout",
     "output_type": "stream",
     "text": [
      "3900\n"
     ]
    }
   ],
   "source": [
    "data_doc = pandas.read_csv(\"DocDocDocNews_title.csv\")\n",
    "doc_list = list(numpy.array(data_doc.values.tolist()))\n",
    "\n",
    "def editing(i):\n",
    "    title = \"\"\n",
    "    content = \"\"\n",
    "    \n",
    "    title = doc_list[i][0]\n",
    "    if((title.find(\"발간\")== -1) or (title.find(\"교수\")== -1)):\n",
    "        title_list.append(title)\n",
    "\n",
    "for i in range(len(doc_list)):\n",
    "    editing(i)\n",
    "    \n",
    "print(len(title_list))"
   ]
  },
  {
   "cell_type": "code",
   "execution_count": 4,
   "metadata": {},
   "outputs": [
    {
     "name": "stdout",
     "output_type": "stream",
     "text": [
      "11292\n"
     ]
    }
   ],
   "source": [
    "data_k = pandas.read_csv(\"k-health_title.csv\")\n",
    "k_list = list(numpy.array(data_k.values.tolist()))\n",
    "\n",
    "def editing(i):\n",
    "    title = \"\"\n",
    "    content = \"\"\n",
    "    \n",
    "    title = k_list[i][0]\n",
    "    if((title.find(\"발간\")== -1) or (title.find(\"교수\")== -1)):\n",
    "        title_list.append(title)\n",
    "\n",
    "for i in range(len(k_list)):\n",
    "    editing(i)\n",
    "    \n",
    "print(len(title_list))"
   ]
  },
  {
   "cell_type": "code",
   "execution_count": 5,
   "metadata": {},
   "outputs": [
    {
     "name": "stdout",
     "output_type": "stream",
     "text": [
      "12289\n"
     ]
    }
   ],
   "source": [
    "data_md = pandas.read_csv(\"MedicalDaily_title.csv\")\n",
    "md_list = list(numpy.array(data_md.values.tolist()))\n",
    "\n",
    "def editing(i):\n",
    "    title = \"\"\n",
    "    content = \"\"\n",
    "    \n",
    "    title = md_list[i][0]\n",
    "    if((title.find(\"발간\")== -1) or (title.find(\"교수\")== -1)):\n",
    "        title_list.append(title)\n",
    "\n",
    "for i in range(len(md_list)):\n",
    "    editing(i)\n",
    "    \n",
    "print(len(title_list))"
   ]
  },
  {
   "cell_type": "code",
   "execution_count": 6,
   "metadata": {},
   "outputs": [
    {
     "name": "stdout",
     "output_type": "stream",
     "text": [
      "finish\n"
     ]
    }
   ],
   "source": [
    "dataframe = pandas.DataFrame(title_list)\n",
    "dataframe.to_csv(\"C:/Users/lg/python/refine_titles_ws_doc_k_md.csv\", header=False, index=False)\n",
    "print('finish')"
   ]
  },
  {
   "cell_type": "code",
   "execution_count": null,
   "metadata": {},
   "outputs": [],
   "source": []
  }
 ],
 "metadata": {
  "kernelspec": {
   "display_name": "Python 3",
   "language": "python",
   "name": "python3"
  },
  "language_info": {
   "codemirror_mode": {
    "name": "ipython",
    "version": 3
   },
   "file_extension": ".py",
   "mimetype": "text/x-python",
   "name": "python",
   "nbconvert_exporter": "python",
   "pygments_lexer": "ipython3",
   "version": "3.8.3"
  }
 },
 "nbformat": 4,
 "nbformat_minor": 4
}
