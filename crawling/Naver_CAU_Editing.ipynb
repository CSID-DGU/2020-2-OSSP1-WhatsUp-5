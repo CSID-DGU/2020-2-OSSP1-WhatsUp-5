{
 "cells": [
  {
   "cell_type": "code",
   "execution_count": 1,
   "metadata": {},
   "outputs": [
    {
     "data": {
      "text/plain": [
       "'노인 주요 만성질환 관리, 약제 관리, 재활 서비스 등 비대면 협진 서비스 제공여러 질환과 기능문제가 복합적으로 나타나는 노인인구, 환자별 치료목표 달라 전문적 통합의료시스템 필요건강보험심사평가원 자료에 따르면 2018년 국내 노인인구 비율은 약 14.5%로 우리나라도 본격적인 고령사회에 진입하게 됐으며, 2026년에는 노인인구가 약 20% 이상인 초고령 사회가 도래할 것으로 전망되고 있다.노인들은 한 가지 특정 질환이 문제이기 보다는 여러 질환과 전반적인 기능상의 문제가 복합적으로 나타나는 경우가 많다. 만성질환자는 물론 알츠하이머와 같은 퇴행성 질환, 노인 우울증 등 신체적·정신적 질환이 동반되며, 우리나라의 경우 약 50만 명 이상의 노인들이 요양병원 또는 요양원에서 생활하고 있는 실정이다.이에 노인병내과 김광일, 최정연 교수 연구팀은 요양병원 또는 요양원에 입원 및 거주중인 노인들을 대상으로 노인포괄평가를 실시하여, 주요 만성질환 관리, 약제 관리, 재활 서비스 및 비대면 협진이 가능한 ‘Health-RESPECT(integrated caRE Systems for elderly PatiEnts using iCT)’ 모델을 개발했다.연구팀은 Health-RESPECT 모델을 개발하기에 앞서 노인 만성질환 관리에 효과적인 ICT 기반 플랫폼 및 최신 기술동향에 대한 연구들을 심층 분석하고, 국내 의료기관 간 의료정보 공유현황 및 개선점에 대한 포커스 그룹 인터뷰를 실시했다.심층 분석 결과, 노인인구에서 가장 많이 나타나는 만성질환인 고혈압과 당뇨의 경우 ICT 기반 시스템을 통해 혈압과 혈당을 효과적으로 관리할 수 있고, 장기요양시설에서 관리하기에 가장 어려워하는 질환 중 하나인 심부전 역시 환자와 의료진 간 빠른 의사소통을 가능하게 해 결과적으로 환자 만족도는 높이고 의료비용은 줄이는 효과가 있는 것을 확인했다.또한, 포커스 그룹 인터뷰와 구조화된 설문조사를 통해서도 온라인 기반 시스템을 활용했을 때 만성질환 및 복용약제 관리 등 노인포괄평가를 효과적으로 할 수 있음을 확인했다.이를 바탕으로 개발된 Health-RESPECT 비대면 협진 서비스 모델은 크게 노인포괄평가, 만성질환 및 약제 관리, 재활, 협진 서비스를 포함하고 있다. 노인포괄평가의 경우 임상 가이드라인을 기반으로 만성질환, 노쇠상태, 신체기능, 연하·인지·생활기능, 복용약제 등을 전반적으로 평가하여 환자 맞춤별 치료목표를 세우는데 도움이 될 것으로 보인다.노인포괄평가를 통해 개별화된 문제목록과 치료목표를 설정하면, 부적절한 약물정보나 질병과 약물 간 상호작용에 따른 정보 등을 제공해 요양병원 및 요양원의 의료진과 거점병원 의료진이 환자의 약물 정보를 공유할 수 있다. 뿐만 아니라, 요양원에서 제공되기 어려운 개인 맞춤별 재활 서비스를 제공하는 등 주기적인 비대면 협진 서비스를 포함하고 있다.연구를 주도한 김광일 교수는 “요양병원 및 요양원에서 생성된 데이터를 거점병원과 연계하여 각 기관의 의료진 간 비대면 협진을 가능하게 함으로써, 환자에게는 양질의 의료서비스를 제공하고 거점병원을 오가는데 있어 보호자의 불편함을 해결하는데도 도움이 될 것으로 기대된다”고 말했다.이어 김 교수는 “특히 코로나19와 같은 감염질환이 지속되는 시기에는 비대면 진료에 대한 필요성이 증대되는 만큼, 앞으로는 의료정보를 적절히 가공하고 공유할 수 있는 시스템을 통해 얼마나 의료정보를 효율적으로 교환할 수 있느냐에 따라 정확한 치료방향을 제시할 수 있을 것”이라고 강조했다.이어 최정연 교수는 “특히 노인들의 경우에는 질환 및 기능 상태가 급격히 악화되는 경우가 많은데, 이 경우 Health-RESPECT를 통해 각 의료기관 의료진에게 선제적으로 알람을 보내어 빠른 조치가 가능하도록 하는데 도움이 될 것”이라고 덧붙였다.한편, 한국보건산업진흥원 지원 사업으로 진행된 이번 연구는 ‘영국의학저널 오픈(BMJ Open, IF=2.469)에 출판 예정으로, 향후 시범사업에 대한 사용성 및 효과, 경제성에 대한 분석결과를 추가로 발표할 예정이다.'"
      ]
     },
     "execution_count": 1,
     "metadata": {},
     "output_type": "execute_result"
    }
   ],
   "source": [
    "import pandas\n",
    "import numpy\n",
    "\n",
    "\n",
    "data = pandas.read_csv(\"Naver_CAU_Column.csv\")\n",
    "datalist = list(numpy.array(data.values.tolist()))\n",
    "\n",
    "\n",
    "edited_data = []\n",
    "\n",
    "def editing(i):\n",
    "    clinic = \"\"\n",
    "    disease = \"\"\n",
    "    content = \"\"\n",
    "    \n",
    "    info = datalist[i][1]\n",
    "    info_list = info.split('\\n')\n",
    "    if (info.find(\"관련 질병\") == 0):\n",
    "        clinic = info_list[4]\n",
    "        disease = info_list[1]\n",
    "    elif(info.find(\"관련 질병\") == -1):\n",
    "        clinic = info_list[1]\n",
    "        disease = datalist[i][0]\n",
    "    else :\n",
    "        clinic = \" \"\n",
    "        disease = datalist[i][0]\n",
    "\n",
    "    contents = datalist[i][2].replace('\\n','')\n",
    "    content_list = contents.split('.')\n",
    "    for index in range(len(content_list)):\n",
    "        if((content_list[index].find(\"?\") == -1) and (content_list[index].find(\"다\") != -1)):\n",
    "            content += content_list[index]+'.'\n",
    "            \n",
    "    edited_data.append([clinic, disease, content])\n",
    "    \n",
    "    \n",
    "\n",
    "for i in range(len(datalist)):\n",
    "    editing(i)\n",
    "    \n",
    "print(len(edited_data))\n"
   ]
  },
  {
   "cell_type": "code",
   "execution_count": null,
   "metadata": {},
   "outputs": [],
   "source": [
    "def editing(i):\n",
    "    title = \"\"\n",
    "    content = \"\"\n",
    "\n",
    "\n",
    "    contents = datalist[i][1].replace('\\n','')\n",
    "    content_list = contents.split('.')\n",
    "    for index in range(len(content_list)):\n",
    "        if((content_list[index].find(\"다\") != -1)):\n",
    "            content += content_list[index]+'.'\n",
    "            \n",
    "    edited_data.append([clinic, disease, content])\n",
    "    \n",
    "    \n",
    "\n",
    "for i in range(len(datalist)):\n",
    "    editing(i)\n",
    "    \n",
    "print(len(edited_data))"
   ]
  },
  {
   "cell_type": "code",
   "execution_count": 181,
   "metadata": {},
   "outputs": [
    {
     "name": "stdout",
     "output_type": "stream",
     "text": [
      "finish\n"
     ]
    }
   ],
   "source": [
    "dataframe = pandas.DataFrame(edited_data)\n",
    "dataframe.to_csv(\"C:/Users/lg/python/Naver_CAU_Column_edited.csv\", header=False, index=False)\n",
    "print('finish')"
   ]
  },
  {
   "cell_type": "code",
   "execution_count": null,
   "metadata": {},
   "outputs": [],
   "source": []
  }
 ],
 "metadata": {
  "kernelspec": {
   "display_name": "Python 3",
   "language": "python",
   "name": "python3"
  },
  "language_info": {
   "codemirror_mode": {
    "name": "ipython",
    "version": 3
   },
   "file_extension": ".py",
   "mimetype": "text/x-python",
   "name": "python",
   "nbconvert_exporter": "python",
   "pygments_lexer": "ipython3",
   "version": "3.8.3"
  }
 },
 "nbformat": 4,
 "nbformat_minor": 4
}
