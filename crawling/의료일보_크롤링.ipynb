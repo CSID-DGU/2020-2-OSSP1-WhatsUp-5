{
 "cells": [
  {
   "cell_type": "code",
   "execution_count": 1,
   "metadata": {},
   "outputs": [],
   "source": [
    "import requests\n",
    "import pandas\n",
    "import time\n",
    "from bs4 import BeautifulSoup\n",
    "from selenium import webdriver\n",
    "\n",
    "chromedriver = 'C:/Users/lg/chromedriver.exe'\n",
    "driver = webdriver.Chrome(chromedriver)\n",
    "\n",
    "## 링크 리스트 뽑아내기\n",
    "url = \"http://www.medicalilbo.com/n_news/news/section.html?code=netfu_44711_17340&s_code=netfu_79101_40077&ds_code=&news_type=&news_kind=&date_val=&start_day=&end_day=&area_code=&page={}\"\n",
    "link_list = []\n",
    "for i in range(1, 51):\n",
    "    link = url.format(i)\n",
    "    driver.get(link)\n",
    "    driver.implicitly_wait(3)\n",
    "    \n",
    "    html = driver.page_source\n",
    "    soup = BeautifulSoup(html, 'html.parser')\n",
    "    links = soup.find_all('dt', class_='psr fon13')\n",
    "    for a in range(len(links)):\n",
    "        link = links[a].find('a')\n",
    "        href = link.attrs['href'].strip()\n",
    "        link_list.append(\"http://www.medicalilbo.com\"+ href)\n"
   ]
  },
  {
   "cell_type": "code",
   "execution_count": 2,
   "metadata": {},
   "outputs": [
    {
     "name": "stdout",
     "output_type": "stream",
     "text": [
      "1000\n"
     ]
    }
   ],
   "source": [
    "## 각 링크에서 정보 추출 & 저장\n",
    "\n",
    "news_data = [] #csv 파일용 배열\n",
    "\n",
    "def news_crawling(index):\n",
    "    request = requests.get(link_list[index])\n",
    "    html = request.text\n",
    "    soup = BeautifulSoup(html, 'html.parser')\n",
    "    \n",
    "    ### 뉴스 제목 추출 ###\n",
    "    news_title = soup.find('div', class_='artc_tlt').find('a')\n",
    "    title = news_title.get_text().strip()\n",
    "    #print(title)\n",
    "    \n",
    "    ### 뉴스 내용 추출 ###\n",
    "    all_article = ''\n",
    "    news_article = soup.find_all('div', class_=\"바탕글\")\n",
    "    for i in range(len(news_article)): \n",
    "        news_line = news_article[i].get_text().strip()\n",
    "        all_article += news_line\n",
    "    #print(all_article)\n",
    "    news_data.append([title, all_article])\n",
    "\n",
    "for list_index in range(len(link_list)):\n",
    "    news_crawling(list_index)\n",
    "    \n",
    "print(len(news_data))"
   ]
  },
  {
   "cell_type": "code",
   "execution_count": 3,
   "metadata": {},
   "outputs": [
    {
     "name": "stdout",
     "output_type": "stream",
     "text": [
      "finish\n"
     ]
    }
   ],
   "source": [
    "dataframe = pandas.DataFrame(news_data)\n",
    "dataframe.to_csv(\"C:/Users/lg/python/MedicalDaily_crawling.csv\", header=False, index=False)\n",
    "print(\"finish\")"
   ]
  },
  {
   "cell_type": "code",
   "execution_count": null,
   "metadata": {},
   "outputs": [],
   "source": []
  }
 ],
 "metadata": {
  "kernelspec": {
   "display_name": "Python 3",
   "language": "python",
   "name": "python3"
  },
  "language_info": {
   "codemirror_mode": {
    "name": "ipython",
    "version": 3
   },
   "file_extension": ".py",
   "mimetype": "text/x-python",
   "name": "python",
   "nbconvert_exporter": "python",
   "pygments_lexer": "ipython3",
   "version": "3.8.3"
  }
 },
 "nbformat": 4,
 "nbformat_minor": 4
}
