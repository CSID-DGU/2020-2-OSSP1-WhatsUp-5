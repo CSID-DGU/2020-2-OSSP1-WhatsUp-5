{
 "cells": [
  {
   "cell_type": "code",
   "execution_count": 1,
   "metadata": {
    "collapsed": true
   },
   "outputs": [],
   "source": [
    "from selenium import webdriver\n",
    "from selenium.webdriver.common.keys import Keys\n",
    "from selenium.webdriver.support.ui import WebDriverWait\n",
    "from selenium.webdriver.support import expected_conditions as EC\n",
    "from selenium.webdriver.common.by import By\n",
    "from selenium.common.exceptions import WebDriverException\n",
    "\n",
    "from bs4 import BeautifulSoup\n",
    "import time\n",
    "import csv"
   ]
  },
  {
   "cell_type": "code",
   "execution_count": 2,
   "metadata": {
    "collapsed": true
   },
   "outputs": [],
   "source": [
    "#공공보건 포털사이트의 뉴스 기사를 크롤링함\n",
    "site = 'https://www.g-health.kr/portal/bbs/selectBoardList.do?bbsId=U00186&vType=A&menuNo=200461'\n",
    "\n",
    "#csv 파일 저장을 위한 f, utf-8을 인코딩으로 사용\n",
    "f = open('g_health.csv', 'w',encoding='utf-8')\n",
    "#파일 객체를 생성\n",
    "wr = csv.writer(f)"
   ]
  },
  {
   "cell_type": "code",
   "execution_count": 22,
   "metadata": {},
   "outputs": [
    {
     "ename": "KeyboardInterrupt",
     "evalue": "",
     "output_type": "error",
     "traceback": [
      "\u001b[1;31m---------------------------------------------------------------------------\u001b[0m",
      "\u001b[1;31mKeyboardInterrupt\u001b[0m                         Traceback (most recent call last)",
      "\u001b[1;32m<ipython-input-22-01f45906b279>\u001b[0m in \u001b[0;36m<module>\u001b[1;34m()\u001b[0m\n\u001b[0;32m     43\u001b[0m         \u001b[0mdate\u001b[0m \u001b[1;33m=\u001b[0m \u001b[0mnews_list\u001b[0m\u001b[1;33m.\u001b[0m\u001b[0mfind_elements_by_css_selector\u001b[0m\u001b[1;33m(\u001b[0m\u001b[1;34m\"span\"\u001b[0m\u001b[1;33m)\u001b[0m\u001b[1;33m[\u001b[0m\u001b[1;36m0\u001b[0m\u001b[1;33m]\u001b[0m\u001b[1;33m.\u001b[0m\u001b[0mtext\u001b[0m\u001b[1;33m.\u001b[0m\u001b[0msplit\u001b[0m\u001b[1;33m(\u001b[0m\u001b[1;34m' '\u001b[0m\u001b[1;33m)\u001b[0m\u001b[1;33m[\u001b[0m\u001b[1;36m3\u001b[0m\u001b[1;33m]\u001b[0m\u001b[1;33m\u001b[0m\u001b[0m\n\u001b[0;32m     44\u001b[0m         \u001b[0mnews\u001b[0m\u001b[1;33m.\u001b[0m\u001b[0mclick\u001b[0m\u001b[1;33m(\u001b[0m\u001b[1;33m)\u001b[0m\u001b[1;33m\u001b[0m\u001b[0m\n\u001b[1;32m---> 45\u001b[1;33m         \u001b[0mtime\u001b[0m\u001b[1;33m.\u001b[0m\u001b[0msleep\u001b[0m\u001b[1;33m(\u001b[0m\u001b[1;36m1\u001b[0m\u001b[1;33m)\u001b[0m\u001b[1;33m\u001b[0m\u001b[0m\n\u001b[0m\u001b[0;32m     46\u001b[0m         \u001b[0mcontent\u001b[0m \u001b[1;33m=\u001b[0m \u001b[0mdriver\u001b[0m\u001b[1;33m.\u001b[0m\u001b[0mfind_element_by_css_selector\u001b[0m\u001b[1;33m(\u001b[0m\u001b[1;34m\"div.view-type table tbody\"\u001b[0m\u001b[1;33m)\u001b[0m\u001b[1;33m.\u001b[0m\u001b[0mtext\u001b[0m\u001b[1;33m\u001b[0m\u001b[0m\n\u001b[0;32m     47\u001b[0m         \u001b[0mwr\u001b[0m\u001b[1;33m.\u001b[0m\u001b[0mwriterow\u001b[0m\u001b[1;33m(\u001b[0m\u001b[1;33m[\u001b[0m\u001b[0mrow\u001b[0m\u001b[1;33m,\u001b[0m \u001b[0mname\u001b[0m\u001b[1;33m,\u001b[0m \u001b[0mdate\u001b[0m\u001b[1;33m,\u001b[0m \u001b[0mcontent\u001b[0m\u001b[1;33m]\u001b[0m\u001b[1;33m)\u001b[0m\u001b[1;33m\u001b[0m\u001b[0m\n",
      "\u001b[1;31mKeyboardInterrupt\u001b[0m: "
     ]
    }
   ],
   "source": [
    "#현재 PC에 설치한 chromedriver의 위치를 잡아준다.\n",
    "chrome_driver = 'D:/study/Python/SW/chromedriver.exe'\n",
    "\n",
    "#chrome으로 driver를 실행\n",
    "driver = webdriver.Chrome(chrome_driver)\n",
    "\n",
    "#조건 성립 시간을 위한 wait 객체 설정\n",
    "wait = WebDriverWait(driver,20)\n",
    "\n",
    "#driver의 브라우저 크기를 최대화\n",
    "driver.maximize_window()\n",
    "#최대화를 하지 않았을 경우 마우스 포인터가 정확히 div를 클릭하지 못하여 크롤링을 못할 수 있음\n",
    "\n",
    "#웹의 컴포넌트 로딩을 기다리기 위한 implicitly_wait 함수, 로딩이 끝나면 바로 진행된다.\n",
    "driver.implicitly_wait(3)\n",
    "\n",
    "#미리 설정해둔 공공보건 포털사이트로 이동한다.\n",
    "driver.get(site)\n",
    "\n",
    "#기사의 제목, 내용, 생성날짜를 저장할 변수를 설정한다.\n",
    "name=\"\"\n",
    "content=\"\"\n",
    "date=\"\"\n",
    "\n",
    "#우선 제일 뒤의 기사를 가져오기 위해 맨 뒤의 페이지로 이동한다.\n",
    "ffw = driver.find_element_by_css_selector(\"li.ffw\")\n",
    "driver.execute_script(\"arguments[0].scrollIntoView(true);\", ffw)\n",
    "ffw.click()\n",
    "\n",
    "#제일 뒷 날짜부터 크롤링을 시작한다.\n",
    "row = 1\n",
    "\n",
    "name=\"\"\n",
    "content=\"\"\n",
    "date=\"\"\n",
    "while True:\n",
    "    time.sleep(1)\n",
    "    list_num = len(driver.find_elements_by_css_selector(\"div.detail tbody tr\"))\n",
    "    while True:\n",
    "        news_list = driver.find_element_by_css_selector(\"div.detail tbody tr:nth-child(\" + str(list_num) +\")\")\n",
    "        news = news_list.find_element_by_css_selector(\"td a\")\n",
    "        name = news.text\n",
    "        date = news_list.find_elements_by_css_selector(\"span\")[0].text.split(' ')[3]\n",
    "        news.click()\n",
    "        time.sleep(1)\n",
    "        content = driver.find_element_by_css_selector(\"div.view-type table tbody\").text.replace(\",\",\"\")\n",
    "        wr.writerow([row, name, date, content])\n",
    "        row += 1\n",
    "        driver.back()\n",
    "        if(list_num == 1):\n",
    "            break\n",
    "        list_num -= 1        \n",
    "        \n",
    "    page_now = driver.find_element_by_css_selector(\"ul.paging li.now\").text\n",
    "    pages = driver.find_elements_by_css_selector(\"ul.paging li\")\n",
    "    page_num = 0\n",
    "    for page in pages:\n",
    "        if page.text == (page_now):\n",
    "            break;\n",
    "        page_num += 1\n",
    "    page_pv = driver.find_element_by_css_selector(\"ul.paging li:nth-child(\"+ str(page_num)+\")\")\n",
    "    driver.execute_script(\"arguments[0].scrollIntoView(true);\", page_pv)\n",
    "    page_pv.click()\n",
    "    \n",
    "    \n",
    "    \n",
    "    \n"
   ]
  },
  {
   "cell_type": "code",
   "execution_count": null,
   "metadata": {
    "collapsed": true
   },
   "outputs": [],
   "source": [
    "    \n",
    "    list_max = len()\n",
    "    while True:\n",
    "        list_selector = news_list."
   ]
  }
 ],
 "metadata": {
  "kernelspec": {
   "display_name": "Python 3",
   "language": "python",
   "name": "python3"
  },
  "language_info": {
   "codemirror_mode": {
    "name": "ipython",
    "version": 3
   },
   "file_extension": ".py",
   "mimetype": "text/x-python",
   "name": "python",
   "nbconvert_exporter": "python",
   "pygments_lexer": "ipython3",
   "version": "3.6.1"
  }
 },
 "nbformat": 4,
 "nbformat_minor": 2
}
