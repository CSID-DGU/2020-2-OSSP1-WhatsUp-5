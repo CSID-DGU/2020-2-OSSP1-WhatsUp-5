{
 "cells": [
  {
   "cell_type": "code",
   "execution_count": 15,
   "metadata": {},
   "outputs": [
    {
     "name": "stdout",
     "output_type": "stream",
     "text": [
      "631\n"
     ]
    }
   ],
   "source": [
    "import pandas\n",
    "import numpy\n",
    "\n",
    "\n",
    "data = pandas.read_csv(\"Naver_Cha_Crawling.csv\")\n",
    "datalist = list(numpy.array(data.values.tolist()))\n",
    "\n",
    "edited_data = []\n",
    "\n",
    "def editing(i):\n",
    "\n",
    "    contents = datalist[i][0]\n",
    "    content = ''\n",
    "    content_list = contents.split('\\n')\n",
    "    for index in range(len(content_list)):\n",
    "        if(content_list[index].find('.') != -1):\n",
    "            con = content_list[index]+\" \"\n",
    "            content += con\n",
    "    edited_data.append([content])\n",
    "    \n",
    "\n",
    "for i in range(len(datalist)):\n",
    "    editing(i)\n",
    "    \n",
    "print(len(edited_data))\n"
   ]
  },
  {
   "cell_type": "code",
   "execution_count": 16,
   "metadata": {},
   "outputs": [
    {
     "name": "stdout",
     "output_type": "stream",
     "text": [
      "finish\n"
     ]
    }
   ],
   "source": [
    "dataframe = pandas.DataFrame(edited_data)\n",
    "dataframe.to_csv(\"C:/Users/lg/python/Naver_Cha_Column_edited.csv\", header=False, index=False)\n",
    "print('finish')"
   ]
  },
  {
   "cell_type": "code",
   "execution_count": null,
   "metadata": {},
   "outputs": [],
   "source": []
  }
 ],
 "metadata": {
  "kernelspec": {
   "display_name": "Python 3",
   "language": "python",
   "name": "python3"
  },
  "language_info": {
   "codemirror_mode": {
    "name": "ipython",
    "version": 3
   },
   "file_extension": ".py",
   "mimetype": "text/x-python",
   "name": "python",
   "nbconvert_exporter": "python",
   "pygments_lexer": "ipython3",
   "version": "3.8.3"
  }
 },
 "nbformat": 4,
 "nbformat_minor": 4
}
