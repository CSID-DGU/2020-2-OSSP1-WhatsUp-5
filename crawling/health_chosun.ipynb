{
 "cells": [
  {
   "cell_type": "code",
   "execution_count": 1,
   "metadata": {
    "collapsed": true
   },
   "outputs": [],
   "source": [
    "from selenium import webdriver\n",
    "from selenium.webdriver.common.keys import Keys\n",
    "from selenium.webdriver.support.ui import WebDriverWait\n",
    "from selenium.webdriver.support import expected_conditions as EC\n",
    "from selenium.webdriver.common.by import By\n",
    "from selenium.common.exceptions import WebDriverException\n",
    "from selenium.common.exceptions import NoSuchElementException\n",
    "from selenium.common.exceptions import UnexpectedAlertPresentException\n",
    "\n",
    "from bs4 import BeautifulSoup\n",
    "import time\n",
    "import csv"
   ]
  },
  {
   "cell_type": "code",
   "execution_count": 2,
   "metadata": {
    "collapsed": true
   },
   "outputs": [],
   "source": [
    "#공공보건 포털사이트의 뉴스 기사를 크롤링함\n",
    "site = 'http://health.chosun.com/list.html?menu=&more_menu=&more_smenu=&nowcode=1&type=&pn=1'\n",
    "\n",
    "#csv 파일 저장을 위한 f, utf-8을 인코딩으로 사용\n",
    "f = open('health_chosun.csv', 'w',encoding='utf-8')\n",
    "#파일 객체를 생성\n",
    "wr = csv.writer(f)"
   ]
  },
  {
   "cell_type": "code",
   "execution_count": null,
   "metadata": {},
   "outputs": [],
   "source": [
    "row = 1\n",
    "\n",
    "chrome_driver = 'D:/study/Python/SW/chromedriver.exe'\n",
    "\n",
    "#chrome으로 driver를 실행\n",
    "driver = webdriver.Chrome(chrome_driver)\n",
    "\n",
    "#조건 성립 시간을 위한 wait 객체 설정\n",
    "wait = WebDriverWait(driver,20)\n",
    "\n",
    "#driver의 브라우저 크기를 최대화\n",
    "driver.maximize_window()\n",
    "#최대화를 하지 않았을 경우 마우스 포인터가 정확히 div를 클릭하지 못하여 크롤링을 못할 수 있음\n",
    "\n",
    "#웹의 컴포넌트 로딩을 기다리기 위한 implicitly_wait 함수, 로딩이 끝나면 바로 진행된다.\n",
    "driver.implicitly_wait(3)\n",
    "\n",
    "#미리 설정해둔 공공보건 포털사이트로 이동한다.\n",
    "driver.get(site)\n",
    "\n",
    "#기사의 제목, 내용, 생성날짜를 저장할 변수를 설정한다.\n",
    "name=\"\"\n",
    "content=\"\"\n",
    "date=\"\"\n",
    "\n",
    "while True:\n",
    "    time.sleep(1)\n",
    "    list_num = len(driver.find_elements_by_css_selector(\"dl.list_item\"))\n",
    "    while True:\n",
    "        #변수들의 초기화\n",
    "        name=\"\"\n",
    "        content=\"\"\n",
    "        date=\"\"\n",
    "        while True:\n",
    "            news_list = driver.find_element_by_css_selector(\"div#list_area dl:nth-child(\" + str(list_num) +\")\")\n",
    "            news = news_list.find_element_by_css_selector('dt a')\n",
    "            news_text = news_list.text\n",
    "            #잡다한 만화, 책광고 등등의 기사를 제외시킴\n",
    "            if news.text.find(\"카툰\") != -1 or news.text.find(\"해랑\")!= -1 or news.text.find(\"서적\") != -1 or news.text.find(\"튼튼선생\") != -1 or news.text.find(\"양냥\") != -1 or news_text.find(\"비만클리닉\") != -1:\n",
    "                print(str(row) + \"오류발생\")\n",
    "                list_num -= 1\n",
    "                if(list_num < 1):\n",
    "                    break;\n",
    "            else:\n",
    "                break;      \n",
    "        if(list_num < 1):\n",
    "            break;\n",
    "        news.click()\n",
    "        try:\n",
    "            alert = driver.switch_to.alert\n",
    "            alert.accept()\n",
    "            time.sleep(2)\n",
    "        except :\n",
    "            pass\n",
    "        try :\n",
    "            time.sleep(1)\n",
    "            name = driver.find_element_by_css_selector(\"h1#news_title_text_id\").text\n",
    "            date = driver.find_element_by_css_selector(\"p#date_text\").text.split(\" \")[1]\n",
    "            parts = driver.find_element_by_css_selector(\"div.par\")\n",
    "            content = parts.text\n",
    "            wr.writerow([row, name, date, content])\n",
    "            print(str(row) + \" \" + name)\n",
    "            row +=1\n",
    "            driver.back()\n",
    "            driver.implicitly_wait(5)\n",
    "            list_num -= 1\n",
    "            if(list_num < 1):\n",
    "                break;            \n",
    "        except (AttributeError, NoSuchElementException, UnexpectedAlertPresentException):\n",
    "            driver.back()\n",
    "            list_num -= 1\n",
    "            if(list_num < 1):\n",
    "                break;\n",
    "            \n",
    "    page_now = driver.find_element_by_css_selector(\"div.paginate ul.paginate_num span.listAct\").text.split(\" \")[0]\n",
    "    url = \"http://health.chosun.com/list.html?menu=&more_menu=&more_smenu=&nowcode=1&type=&pn=\" + str(int(page_now) -1)\n",
    "    driver.get(url)"
   ]
  }
 ],
 "metadata": {
  "kernelspec": {
   "display_name": "Python 3",
   "language": "python",
   "name": "python3"
  },
  "language_info": {
   "codemirror_mode": {
    "name": "ipython",
    "version": 3
   },
   "file_extension": ".py",
   "mimetype": "text/x-python",
   "name": "python",
   "nbconvert_exporter": "python",
   "pygments_lexer": "ipython3",
   "version": "3.6.1"
  }
 },
 "nbformat": 4,
 "nbformat_minor": 4
}
