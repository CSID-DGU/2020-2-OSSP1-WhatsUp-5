{
  "nbformat": 4,
  "nbformat_minor": 0,
  "metadata": {
    "colab": {
      "name": "SynSearch.ipynb",
      "provenance": [],
      "collapsed_sections": [],
      "mount_file_id": "1D1WArlxPAkW2meAlxX8rE8QCatNzsq1_",
      "authorship_tag": "ABX9TyOmy50Jsg0QXXc+TO7M6Smh",
      "include_colab_link": true
    },
    "kernelspec": {
      "name": "python3",
      "display_name": "Python 3"
    }
  },
  "cells": [
    {
      "cell_type": "markdown",
      "metadata": {
        "id": "view-in-github",
        "colab_type": "text"
      },
      "source": [
        "<a href=\"https://colab.research.google.com/github/Simu96/2020-2-OSSP1-WhatsUp-5/blob/sim/SynSearch.ipynb\" target=\"_parent\"><img src=\"https://colab.research.google.com/assets/colab-badge.svg\" alt=\"Open In Colab\"/></a>"
      ]
    },
    {
      "cell_type": "code",
      "metadata": {
        "id": "fSMStq7bsolO"
      },
      "source": [
        "#구글 드라이브 연동(영구적)\n",
        "from google.colab import drive\n",
        "drive.mount('/gdrive')"
      ],
      "execution_count": null,
      "outputs": []
    },
    {
      "cell_type": "code",
      "metadata": {
        "colab": {
          "base_uri": "https://localhost:8080/"
        },
        "id": "YEm0Gk9wsojK",
        "outputId": "4a9f292c-477d-49fd-cdc1-ab553c2a49e7"
      },
      "source": [
        "#csv파일 디렉토리 이동\n",
        "%cd /content/drive/My Drive/AI journalism"
      ],
      "execution_count": 1,
      "outputs": [
        {
          "output_type": "stream",
          "text": [
            "/content/drive/My Drive/AI journalism\n"
          ],
          "name": "stdout"
        }
      ]
    },
    {
      "cell_type": "code",
      "metadata": {
        "colab": {
          "base_uri": "https://localhost:8080/"
        },
        "id": "Qxfj5d4EtSep",
        "outputId": "743797a6-f779-4b61-8aed-0c61054b73f3"
      },
      "source": [
        "#디렉토리 확인\n",
        "!ls"
      ],
      "execution_count": 2,
      "outputs": [
        {
          "output_type": "stream",
          "text": [
            "Naver_KDCA_Column.csv  samsungHospital.csv\n"
          ],
          "name": "stdout"
        }
      ]
    },
    {
      "cell_type": "code",
      "metadata": {
        "colab": {
          "base_uri": "https://localhost:8080/"
        },
        "id": "twEtdJiRsoTz",
        "outputId": "a89dfc85-c768-46e2-a5fd-f6fc16ecaf8e"
      },
      "source": [
        "#필요 패키지 import\n",
        "import csv\n",
        "import re\n",
        "\n",
        "#데이터\n",
        "syn = []\n",
        "header = []\n",
        "rownum = 0\n",
        "\n",
        "#검색 csv file & 동의어 입력\n",
        "csv_file = input(\"읽어올 csv 파일명을 입력하세요 : \")\n",
        "data = input(\"동의어를 입력하세요 : \")\n",
        "print(csv_file, \"에서 입력하신 동의어에 관련된 질병을 검색합니다.\")\n",
        "\n",
        "#csv파일 읽어오기\n",
        "with open(csv_file, \"r\", encoding=\"utf8\") as f:\n",
        "  csv_data = csv.reader(f)\n",
        "  for row in csv_data:\n",
        "    #맨 윗줄은 필드명\n",
        "    if rownum == 0:\n",
        "      header = row\n",
        "    \n",
        "    #검색하려는 열(index) 선택(disease_list.csv의 경우 [2]에 동의어가 있다.)\n",
        "    location = row[2]\n",
        "    #해당 동의어를 찾으면 해당 질병을 출력\n",
        "    if location.find(data) != -1:\n",
        "      print(re.sub(r'\\([^)]*\\)', '',row[1]))\n",
        "    rownum += 1"
      ],
      "execution_count": 41,
      "outputs": [
        {
          "output_type": "stream",
          "text": [
            "읽어올 csv 파일명을 입력하세요 : Naver_KDCA_Column.csv\n",
            "동의어를 입력하세요 : 월경\n",
            "Naver_KDCA_Column.csv 에서 동의어 월경 와 관련된 질병을 검색합니다.\n",
            "관련 질병\n",
            "정상청소년의 성장과 발달\n",
            "\n",
            "\n",
            "관련 질병\n",
            "부정기 질출혈\n",
            "\n",
            "\n",
            "관련 질병\n",
            "정상청소년의 성장과 발달\n",
            "\n",
            "\n",
            "관련 질병\n",
            "자궁내막증\n",
            "\n",
            "\n",
            "관련 질병\n",
            "정상청소년의 성장과 발달\n",
            "\n",
            "\n",
            "관련 질병\n",
            "성장 장애\n",
            "\n",
            "\n",
            "관련 질병\n",
            "정상청소년의 성장과 발달\n",
            "\n",
            "\n",
            "관련 질병\n",
            "정상청소년의 성장과 발달\n",
            "\n",
            "\n"
          ],
          "name": "stdout"
        }
      ]
    }
  ]
}